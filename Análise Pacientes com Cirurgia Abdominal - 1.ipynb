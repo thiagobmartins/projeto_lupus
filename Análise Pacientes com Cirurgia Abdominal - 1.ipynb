{
 "cells": [
  {
   "cell_type": "markdown",
   "metadata": {},
   "source": [
    "# Analisando Pacientes e Riscos"
   ]
  },
  {
   "cell_type": "markdown",
   "metadata": {},
   "source": [
    "## imports"
   ]
  },
  {
   "cell_type": "code",
   "execution_count": 1,
   "metadata": {},
   "outputs": [
    {
     "name": "stdout",
     "output_type": "stream",
     "text": [
      "Defaulting to user installation because normal site-packages is not writeable\n",
      "Requirement already satisfied: ipdb in c:\\users\\thiag\\appdata\\local\\packages\\pythonsoftwarefoundation.python.3.12_qbz5n2kfra8p0\\localcache\\local-packages\\python312\\site-packages (0.13.13)\n",
      "Requirement already satisfied: ipython>=7.31.1 in c:\\users\\thiag\\appdata\\local\\packages\\pythonsoftwarefoundation.python.3.12_qbz5n2kfra8p0\\localcache\\local-packages\\python312\\site-packages (from ipdb) (8.29.0)\n",
      "Requirement already satisfied: decorator in c:\\users\\thiag\\appdata\\local\\packages\\pythonsoftwarefoundation.python.3.12_qbz5n2kfra8p0\\localcache\\local-packages\\python312\\site-packages (from ipdb) (5.1.1)\n",
      "Requirement already satisfied: jedi>=0.16 in c:\\users\\thiag\\appdata\\local\\packages\\pythonsoftwarefoundation.python.3.12_qbz5n2kfra8p0\\localcache\\local-packages\\python312\\site-packages (from ipython>=7.31.1->ipdb) (0.19.2)\n",
      "Requirement already satisfied: matplotlib-inline in c:\\users\\thiag\\appdata\\local\\packages\\pythonsoftwarefoundation.python.3.12_qbz5n2kfra8p0\\localcache\\local-packages\\python312\\site-packages (from ipython>=7.31.1->ipdb) (0.1.7)\n",
      "Requirement already satisfied: prompt-toolkit<3.1.0,>=3.0.41 in c:\\users\\thiag\\appdata\\local\\packages\\pythonsoftwarefoundation.python.3.12_qbz5n2kfra8p0\\localcache\\local-packages\\python312\\site-packages (from ipython>=7.31.1->ipdb) (3.0.48)\n",
      "Requirement already satisfied: pygments>=2.4.0 in c:\\users\\thiag\\appdata\\local\\packages\\pythonsoftwarefoundation.python.3.12_qbz5n2kfra8p0\\localcache\\local-packages\\python312\\site-packages (from ipython>=7.31.1->ipdb) (2.18.0)\n",
      "Requirement already satisfied: stack-data in c:\\users\\thiag\\appdata\\local\\packages\\pythonsoftwarefoundation.python.3.12_qbz5n2kfra8p0\\localcache\\local-packages\\python312\\site-packages (from ipython>=7.31.1->ipdb) (0.6.3)\n",
      "Requirement already satisfied: traitlets>=5.13.0 in c:\\users\\thiag\\appdata\\local\\packages\\pythonsoftwarefoundation.python.3.12_qbz5n2kfra8p0\\localcache\\local-packages\\python312\\site-packages (from ipython>=7.31.1->ipdb) (5.14.3)\n",
      "Requirement already satisfied: colorama in c:\\users\\thiag\\appdata\\local\\packages\\pythonsoftwarefoundation.python.3.12_qbz5n2kfra8p0\\localcache\\local-packages\\python312\\site-packages (from ipython>=7.31.1->ipdb) (0.4.6)\n",
      "Requirement already satisfied: parso<0.9.0,>=0.8.4 in c:\\users\\thiag\\appdata\\local\\packages\\pythonsoftwarefoundation.python.3.12_qbz5n2kfra8p0\\localcache\\local-packages\\python312\\site-packages (from jedi>=0.16->ipython>=7.31.1->ipdb) (0.8.4)\n",
      "Requirement already satisfied: wcwidth in c:\\users\\thiag\\appdata\\local\\packages\\pythonsoftwarefoundation.python.3.12_qbz5n2kfra8p0\\localcache\\local-packages\\python312\\site-packages (from prompt-toolkit<3.1.0,>=3.0.41->ipython>=7.31.1->ipdb) (0.2.13)\n",
      "Requirement already satisfied: executing>=1.2.0 in c:\\users\\thiag\\appdata\\local\\packages\\pythonsoftwarefoundation.python.3.12_qbz5n2kfra8p0\\localcache\\local-packages\\python312\\site-packages (from stack-data->ipython>=7.31.1->ipdb) (2.1.0)\n",
      "Requirement already satisfied: asttokens>=2.1.0 in c:\\users\\thiag\\appdata\\local\\packages\\pythonsoftwarefoundation.python.3.12_qbz5n2kfra8p0\\localcache\\local-packages\\python312\\site-packages (from stack-data->ipython>=7.31.1->ipdb) (2.4.1)\n",
      "Requirement already satisfied: pure-eval in c:\\users\\thiag\\appdata\\local\\packages\\pythonsoftwarefoundation.python.3.12_qbz5n2kfra8p0\\localcache\\local-packages\\python312\\site-packages (from stack-data->ipython>=7.31.1->ipdb) (0.2.3)\n",
      "Requirement already satisfied: six>=1.12.0 in c:\\users\\thiag\\appdata\\local\\packages\\pythonsoftwarefoundation.python.3.12_qbz5n2kfra8p0\\localcache\\local-packages\\python312\\site-packages (from asttokens>=2.1.0->stack-data->ipython>=7.31.1->ipdb) (1.16.0)\n",
      "Defaulting to user installation because normal site-packages is not writeable\n",
      "Requirement already satisfied: tqdm in c:\\users\\thiag\\appdata\\local\\packages\\pythonsoftwarefoundation.python.3.12_qbz5n2kfra8p0\\localcache\\local-packages\\python312\\site-packages (4.67.1)\n",
      "Requirement already satisfied: colorama in c:\\users\\thiag\\appdata\\local\\packages\\pythonsoftwarefoundation.python.3.12_qbz5n2kfra8p0\\localcache\\local-packages\\python312\\site-packages (from tqdm) (0.4.6)\n"
     ]
    }
   ],
   "source": [
    "!pip install ipdb\n",
    "!pip install tqdm\n",
    "from tqdm import tqdm\n",
    "import ipdb\n",
    "import pandas as pd\n",
    "from collections import ChainMap"
   ]
  },
  {
   "cell_type": "code",
   "execution_count": 2,
   "metadata": {},
   "outputs": [
    {
     "data": {
      "text/plain": [
       "<module 'src.bases_utils' from 'c:\\\\Users\\\\thiag\\\\OneDrive\\\\Documents\\\\UFRJ\\\\git\\\\projeto_lupus\\\\src\\\\bases_utils.py'>"
      ]
     },
     "execution_count": 2,
     "metadata": {},
     "output_type": "execute_result"
    }
   ],
   "source": [
    "import importlib\n",
    "from src import bases_utils as bu\n",
    "importlib.reload(bu)"
   ]
  },
  {
   "cell_type": "markdown",
   "metadata": {},
   "source": [
    "## Leitura das Bases"
   ]
  },
  {
   "cell_type": "markdown",
   "metadata": {},
   "source": [
    "### Procedimentos com Risco"
   ]
  },
  {
   "cell_type": "code",
   "execution_count": 3,
   "metadata": {},
   "outputs": [],
   "source": [
    "df_risk = pd.read_csv('data/procedimentos/dev/procedimentos_encontrados_no_risco_cirurgico.csv')\n",
    "set_risk = set(df_risk['cod_procedimento'])"
   ]
  },
  {
   "cell_type": "markdown",
   "metadata": {},
   "source": [
    "### Com Lúpus"
   ]
  },
  {
   "cell_type": "code",
   "execution_count": 4,
   "metadata": {},
   "outputs": [],
   "source": [
    "num_algoritmo = 1\n",
    "\n",
    "df_lupus = pd.read_parquet(f'data/results/df_alg{num_algoritmo}.parquet')\n",
    "df_lupus_bpai = pd.read_parquet(f'data/results/df_bpai_alg{num_algoritmo}.parquet')\n",
    "df_lupus_aih = pd.read_parquet(f'data/results/df_aih_alg{num_algoritmo}.parquet')\n",
    "df_lupus_apac = pd.read_parquet(f'data/results/df_apac_alg{num_algoritmo}.parquet')"
   ]
  },
  {
   "cell_type": "markdown",
   "metadata": {},
   "source": [
    "### Sem Lúpus"
   ]
  },
  {
   "cell_type": "code",
   "execution_count": 5,
   "metadata": {},
   "outputs": [],
   "source": [
    "df_bpai = pd.read_parquet(f'data/BPAI_Lupus_L93M32N08_todos_cids.parquet')\n",
    "df_aih = pd.read_parquet(f'data/AIH_Lupus_L93M32N08_todos_cids.parquet')\n",
    "df_apac = pd.read_parquet(f'data/APAC_Lupus_L93M32N08_todos_cids.parquet')\n",
    "\n",
    "# Preciso ajustas as datas\n",
    "df_aih['data'] = pd.to_datetime(df_aih['dt_internacao'], format='%d/%m/%Y', errors='coerce')\n",
    "df_apac['data'] = pd.to_datetime(df_apac['data_inicio'], format='%d/%m/%Y', errors='coerce')\n",
    "\n",
    "# Não achei data na bpai\n",
    "# Só para conseguir unificar o bpai\n",
    "df_bpai['data'] = '01/01/2058'\n",
    "df_bpai['data'] = pd.to_datetime(df_bpai['data'], format='%d/%m/%Y', errors='coerce')"
   ]
  },
  {
   "cell_type": "code",
   "execution_count": 6,
   "metadata": {},
   "outputs": [
    {
     "name": "stdout",
     "output_type": "stream",
     "text": [
      " - Pacientes na BPAI: 46967\n",
      " - Pacientes na BPAI com algum risco: 33049 (70.37%)\n",
      " - Pacientes com Lúpus na BPAI: 10688 (22.76)%\n",
      " - Pacientes com Lúpus e algum risco na BPAI: 8849 (82.79% de Lúpus) e (18.84% da BPAI)\n",
      "\n",
      " - Pacientes na AIH: 48663\n",
      " - Pacientes na AIH com algum risco: 6906 (14.19%)\n",
      " - Pacientes com Lúpus na AIH: 15005 (30.83)%\n",
      " - Pacientes com Lúpus e algum risco na AIH: 2059 (13.72% de Lúpus) e (4.23% da AIH)\n",
      "\n",
      " - Pacientes na APAC: 31948\n",
      " - Pacientes na APAC com algum risco: 14418 (45.13%)\n",
      " - Pacientes com Lúpus na APAC: 12407 (38.83)%\n",
      " - Pacientes com Lúpus e algum risco na APAC: 2479 (19.98% de Lúpus) e (7.76% da APAC)\n",
      "\n"
     ]
    }
   ],
   "source": [
    "def get_cols_procedimentos(base_name):\n",
    "      dict_col = {'BPAI':['co_procedimento_realizado'],\n",
    "                  'AIH':['co_procedimento_principal'], # --> AIH nãm tem cod_procedimento_secundario\n",
    "                  'APAC':['co_procedimento_principal', 'co_procedimento_secundario'],\n",
    "                  'UNION':['co_procedimento_realizado', # BPAI\n",
    "                           'co_procedimento_principal', # APAC\n",
    "                           'co_procedimento_secundario', # APAC\n",
    "                           'co_procedimento_aih']} # AIH\n",
    "      return dict_col[base_name]\n",
    "\n",
    "def get_risk(df, cols, set_risk):\n",
    "    \"\"\" Calcula quantos pacientes possuem um procedimento de risco \"\"\"\n",
    "    if len(cols) > 1: # Se tiver mais de uma coluna de procedimentos\n",
    "        cols_risk = []\n",
    "        for idx, col in enumerate(cols): # Itera nas colunas\n",
    "            col_name = f'risk_procedimento_{idx}'\n",
    "            df[col_name] = df[col].isin(set_risk)\n",
    "            cols_risk.append(col_name)\n",
    "\n",
    "        df['risk_filter_col'] = df[cols_risk].sum(axis=1) # Conta quantas colnuas possuem True\n",
    "        \n",
    "        # Filtra as que tiveram pelo menos 1\n",
    "        num_pacientes_risk = df[df['risk_filter_col'] > 0]['id_paciente'].nunique()\n",
    "\n",
    "    else: # Se for só uma coluna, fica mais fácil\n",
    "        num_pacientes_risk = df[df[cols[0]].isin(set_risk)]['id_paciente'].nunique()\n",
    "    return num_pacientes_risk\n",
    "\n",
    "def get_percent(numerador, denominador):\n",
    "    return round(numerador*100/denominador, 2)\n",
    "\n",
    "def analisa_riscos(df, df_lupus, base_name):\n",
    "    cols_procedimento = get_cols_procedimentos(base_name)\n",
    "\n",
    "    num_total_pacientes = df['id_paciente'].nunique()\n",
    "    print(f' - Pacientes na {base_name}:', num_total_pacientes)\n",
    "    \n",
    "    num_pacientes_risk = get_risk(df, cols_procedimento, set_risk)\n",
    "    print(f' - Pacientes na {base_name} com algum risco: '+\n",
    "            f'{num_pacientes_risk} ' +\n",
    "            f'({get_percent(num_pacientes_risk, num_total_pacientes)}%)')\n",
    "\n",
    "    num_pacientes_lupus = df_lupus['id_paciente'].nunique()\n",
    "    print(f' - Pacientes com Lúpus na {base_name}: {num_pacientes_lupus} '+\n",
    "          f'({get_percent(num_pacientes_lupus, num_total_pacientes)})%')\n",
    "\n",
    "    num_lupus_risk = get_risk(df_lupus, cols_procedimento, set_risk)\n",
    "\n",
    "    print(f' - Pacientes com Lúpus e algum risco na {base_name}: {num_lupus_risk} ' +\n",
    "            f'({get_percent(num_lupus_risk, num_pacientes_lupus)}% de Lúpus) e ' +\n",
    "            f'({get_percent(num_lupus_risk, num_total_pacientes)}% da {base_name})')\n",
    "    print()\n",
    "\n",
    "analisa_riscos(df_bpai, df_lupus_bpai, 'BPAI')\n",
    "analisa_riscos(df_aih, df_lupus_aih, 'AIH')\n",
    "analisa_riscos(df_apac, df_lupus_apac, 'APAC')"
   ]
  },
  {
   "cell_type": "markdown",
   "metadata": {},
   "source": [
    "# Base Unificada\n",
    "BPAI + AIH + APAC"
   ]
  },
  {
   "cell_type": "code",
   "execution_count": 7,
   "metadata": {},
   "outputs": [],
   "source": [
    "df_alg = pd.read_parquet(f'data/results/df_alg{num_algoritmo}.parquet')"
   ]
  },
  {
   "cell_type": "code",
   "execution_count": 8,
   "metadata": {},
   "outputs": [],
   "source": [
    "cols_union = ['id_paciente'\n",
    "              #, 'sexo', 'idade', 'data'\n",
    "              ]\n",
    "df_aih.rename(columns={'co_procedimento_principal':'co_procedimento_aih'})\n",
    "df_union = pd.concat([df_bpai[cols_union+get_cols_procedimentos('BPAI')],\n",
    "                      df_apac[cols_union+get_cols_procedimentos('APAC')],\n",
    "                      df_aih.rename(columns={'co_procedimento_principal':'co_procedimento_aih'})\\\n",
    "                      [cols_union+['co_procedimento_aih']]])"
   ]
  },
  {
   "cell_type": "code",
   "execution_count": 9,
   "metadata": {},
   "outputs": [],
   "source": [
    "cols_union = ['id_paciente']\n",
    "df_lupus_aih.rename(columns={'co_procedimento_principal':'co_procedimento_aih'})\n",
    "df_lupus_union = pd.concat([df_lupus_bpai[cols_union+get_cols_procedimentos('BPAI')],\n",
    "                      df_lupus_apac[cols_union+get_cols_procedimentos('APAC')],\n",
    "                      df_lupus_aih.rename(columns={'co_procedimento_principal':'co_procedimento_aih'})\\\n",
    "                      [cols_union+['co_procedimento_aih']]])"
   ]
  },
  {
   "cell_type": "code",
   "execution_count": 10,
   "metadata": {},
   "outputs": [
    {
     "name": "stdout",
     "output_type": "stream",
     "text": [
      " - Pacientes na UNION: 71874\n",
      " - Pacientes na UNION com algum risco: 43032 (59.87%)\n",
      " - Pacientes com Lúpus na UNION: 15445 (21.49)%\n",
      " - Pacientes com Lúpus e algum risco na UNION: 10131 (65.59% de Lúpus) e (14.1% da UNION)\n",
      "\n"
     ]
    }
   ],
   "source": [
    "analisa_riscos(df_union, df_lupus_union, 'UNION')"
   ]
  },
  {
   "cell_type": "markdown",
   "metadata": {},
   "source": [
    "# Analise dos grupos"
   ]
  },
  {
   "cell_type": "code",
   "execution_count": 11,
   "metadata": {},
   "outputs": [],
   "source": [
    "set_bpai = list(df_lupus_bpai['id_paciente'].unique())\n",
    "set_aih = list(df_lupus_aih['id_paciente'].unique())\n",
    "set_apac = list(df_lupus_apac['id_paciente'].unique())\n",
    "\n",
    "df_lupus_bpai_full = df_bpai.set_index('id_paciente').loc[set_bpai].reset_index()\n",
    "df_lupus_aih_full = df_aih.set_index('id_paciente').loc[set_aih].reset_index()\n",
    "df_lupus_apac_full = df_apac.set_index('id_paciente').loc[set_apac].reset_index()"
   ]
  },
  {
   "cell_type": "markdown",
   "metadata": {},
   "source": [
    "### Resultado Algoritmo"
   ]
  },
  {
   "cell_type": "code",
   "execution_count": 12,
   "metadata": {},
   "outputs": [],
   "source": [
    "df_lupus = bu.junta_dfs(df_lupus_bpai_full, df_lupus_aih_full, df_lupus_apac_full)"
   ]
  },
  {
   "cell_type": "code",
   "execution_count": 13,
   "metadata": {},
   "outputs": [
    {
     "data": {
      "text/plain": [
       "Index(['id_paciente', 'sexo', 'idade', 'uf_paciente', 'data',\n",
       "       'co_procedimento_principal', 'regiao', 'idade_categoria'],\n",
       "      dtype='object')"
      ]
     },
     "execution_count": 13,
     "metadata": {},
     "output_type": "execute_result"
    }
   ],
   "source": [
    "df_lupus.columns"
   ]
  },
  {
   "cell_type": "markdown",
   "metadata": {},
   "source": [
    "### Filtro Cirurgia"
   ]
  },
  {
   "cell_type": "code",
   "execution_count": 14,
   "metadata": {},
   "outputs": [],
   "source": [
    "df_cirurgia = pd.read_csv('data/procedimentos/dev/procedimentos_cirúrgicos_para_o_baseline.csv')"
   ]
  },
  {
   "cell_type": "code",
   "execution_count": 15,
   "metadata": {},
   "outputs": [
    {
     "name": "stdout",
     "output_type": "stream",
     "text": [
      " - Cirurgias na APAC: 1\n",
      " - Cirurgias no BPAI: 27\n",
      " - Cirurgias no BPAI: 191\n"
     ]
    }
   ],
   "source": [
    "# Ajustando o nome dos procedimentos\n",
    "df_union.rename(columns={'co_procedimento_realizado':'co_procedimento_bpai'}, inplace=True)\n",
    "\n",
    "cirurgias_apac_1 = set(df_union['co_procedimento_principal']).intersection(set(df_cirurgia['cod_procedimento']))\n",
    "cirurgias_apac_2 = set(df_union['co_procedimento_secundario']).intersection(set(df_cirurgia['cod_procedimento']))\n",
    "print(' - Cirurgias na APAC:', len(cirurgias_apac_1)+len(cirurgias_apac_2))\n",
    "\n",
    "cirurgias_bpai = set(df_union['co_procedimento_bpai']).intersection(set(df_cirurgia['cod_procedimento']))\n",
    "print(' - Cirurgias no BPAI:', len(cirurgias_bpai))\n",
    "\n",
    "# Verifica quem fez cirurgia\n",
    "cirurgias_aih = set(df_union['co_procedimento_aih']).intersection(set(df_cirurgia['cod_procedimento']))\n",
    "print(' - Cirurgias no BPAI:', len(cirurgias_aih))"
   ]
  },
  {
   "cell_type": "code",
   "execution_count": 16,
   "metadata": {},
   "outputs": [
    {
     "name": "stdout",
     "output_type": "stream",
     "text": [
      " - Pacientes operados na base toda: 9127\n",
      " - Pacientes operados no algoritmo 1: 3623\n"
     ]
    }
   ],
   "source": [
    "# Verificando os procedimentos de cirurgia\n",
    "df_union['cirurgia_aih'] = df_union['co_procedimento_aih'].isin(cirurgias_aih)\n",
    "df_union['cirurgia_bpai'] = df_union['co_procedimento_bpai'].isin(cirurgias_bpai)\n",
    "df_union['cirurgia_apac'] = df_union['co_procedimento_secundario'].isin(cirurgias_apac_2)\n",
    "df_union['cirurgia'] = df_union['cirurgia_aih'] | df_union['cirurgia_bpai'] | df_union['cirurgia_apac']\n",
    "\n",
    "# Pacientes que passaram por algum dos procedimentos\n",
    "# cirúrgicos espefificados (em qualquer uma das bases)\n",
    "aux = df_union.groupby('id_paciente')['cirurgia'].sum()\n",
    "pacientes_operados = set(aux[aux>0].index)\n",
    "\n",
    "print(' - Pacientes operados na base toda:', len(pacientes_operados))\n",
    "print(f' - Pacientes operados no algoritmo {num_algoritmo}:', len(pacientes_operados.intersection(set(df_lupus['id_paciente']))))\n",
    "#print(' - Pacientes operados no algoritmo 2:', len(pacientes_operados.intersection(set(df_lupus_2['id_paciente']))))"
   ]
  },
  {
   "cell_type": "code",
   "execution_count": 17,
   "metadata": {},
   "outputs": [
    {
     "name": "stdout",
     "output_type": "stream",
     "text": [
      " -  Pacientes operados com idade >= 18 3508\n"
     ]
    }
   ],
   "source": [
    "over_18 = df_lupus[df_lupus['idade'] >=18]\n",
    "print(' -  Pacientes operados com idade >= 18', len(pacientes_operados.intersection(set(over_18['id_paciente']))))"
   ]
  },
  {
   "cell_type": "code",
   "execution_count": 19,
   "metadata": {},
   "outputs": [
    {
     "data": {
      "text/plain": [
       "15445"
      ]
     },
     "execution_count": 19,
     "metadata": {},
     "output_type": "execute_result"
    }
   ],
   "source": [
    "df_lupus['id_paciente'].nunique()"
   ]
  },
  {
   "cell_type": "code",
   "execution_count": null,
   "metadata": {},
   "outputs": [],
   "source": [
    "df_age = df_lupus[df_lupus['idade'] >=18]['id_paciente'].nunique()\n",
    "print(f' - Pacientes operados no algoritmo {num_algoritmo}:', len(pacientes_operados.intersection(set(df_lupus['id_paciente']))))"
   ]
  },
  {
   "cell_type": "markdown",
   "metadata": {},
   "source": [
    "### Analisando os Pacientes com Lúpus e operados"
   ]
  },
  {
   "cell_type": "code",
   "execution_count": 17,
   "metadata": {},
   "outputs": [
    {
     "name": "stdout",
     "output_type": "stream",
     "text": [
      "sexo\n",
      "1    14596\n",
      "2      849\n",
      "Name: count, dtype: int64\n",
      "regiao\n",
      "1    14641\n",
      "2      779\n",
      "3       25\n",
      "Name: count, dtype: int64\n",
      "idade_categoria\n",
      "2    6217\n",
      "3    4894\n",
      "1    3845\n",
      "4     449\n",
      "5      31\n",
      "6       8\n",
      "7       1\n",
      "Name: count, dtype: int64\n"
     ]
    }
   ],
   "source": [
    "# Questão número 1:\n",
    "# Tem pacientes com mais de 1 sexo e mais de 1 região:\n",
    "# Será que tenho que pegar a data e a região da cirugia? :S\n",
    "count_sexo = df_lupus.groupby('id_paciente')['sexo'].nunique().sort_values()\n",
    "print(count_sexo.value_counts())\n",
    "\n",
    "count_regiao = df_lupus.groupby('id_paciente')['regiao'].nunique().sort_values()\n",
    "print(count_regiao.value_counts())\n",
    "\n",
    "count_idade = df_lupus.groupby('id_paciente')['idade_categoria'].nunique().sort_values()\n",
    "print(count_idade.value_counts())"
   ]
  },
  {
   "cell_type": "markdown",
   "metadata": {},
   "source": [
    "### Tentando pegar os dados no dia da cirurgia\n",
    "Alguns pacientes tem muitas cirurgias, mamma mia"
   ]
  },
  {
   "cell_type": "code",
   "execution_count": 18,
   "metadata": {},
   "outputs": [
    {
     "data": {
      "text/plain": [
       "(80554, 8)"
      ]
     },
     "execution_count": 18,
     "metadata": {},
     "output_type": "execute_result"
    }
   ],
   "source": [
    "df_lupus_cirurgia = df_lupus[df_lupus['co_procedimento_principal'].isin(df_cirurgia['cod_procedimento'])]\n",
    "df_lupus_cirurgia.shape"
   ]
  },
  {
   "cell_type": "code",
   "execution_count": 19,
   "metadata": {},
   "outputs": [
    {
     "data": {
      "text/html": [
       "<div>\n",
       "<style scoped>\n",
       "    .dataframe tbody tr th:only-of-type {\n",
       "        vertical-align: middle;\n",
       "    }\n",
       "\n",
       "    .dataframe tbody tr th {\n",
       "        vertical-align: top;\n",
       "    }\n",
       "\n",
       "    .dataframe thead th {\n",
       "        text-align: right;\n",
       "    }\n",
       "</style>\n",
       "<table border=\"1\" class=\"dataframe\">\n",
       "  <thead>\n",
       "    <tr style=\"text-align: right;\">\n",
       "      <th></th>\n",
       "      <th>data</th>\n",
       "      <th>sexo</th>\n",
       "      <th>idade</th>\n",
       "      <th>uf_paciente</th>\n",
       "      <th>regiao</th>\n",
       "      <th>idade_categoria</th>\n",
       "    </tr>\n",
       "  </thead>\n",
       "  <tbody>\n",
       "    <tr>\n",
       "      <th>9560651700</th>\n",
       "      <td>2018-11-06 00:00:00</td>\n",
       "      <td>FEMININO</td>\n",
       "      <td>71</td>\n",
       "      <td>RS</td>\n",
       "      <td>Sul</td>\n",
       "      <td>55+</td>\n",
       "    </tr>\n",
       "    <tr>\n",
       "      <th>24552062300</th>\n",
       "      <td>2018-07-23 00:00:00</td>\n",
       "      <td>FEMININO</td>\n",
       "      <td>63</td>\n",
       "      <td>RS</td>\n",
       "      <td>Sul</td>\n",
       "      <td>55+</td>\n",
       "    </tr>\n",
       "    <tr>\n",
       "      <th>20318851600</th>\n",
       "      <td>2018-06-16 00:00:00</td>\n",
       "      <td>FEMININO</td>\n",
       "      <td>22</td>\n",
       "      <td>SP</td>\n",
       "      <td>Sudeste</td>\n",
       "      <td>21-25</td>\n",
       "    </tr>\n",
       "    <tr>\n",
       "      <th>18107768100</th>\n",
       "      <td>2018-08-29 00:00:00</td>\n",
       "      <td>FEMININO</td>\n",
       "      <td>9</td>\n",
       "      <td>SP</td>\n",
       "      <td>Sudeste</td>\n",
       "      <td>Idade inválida</td>\n",
       "    </tr>\n",
       "    <tr>\n",
       "      <th>16366847900</th>\n",
       "      <td>2018-06-19 00:00:00</td>\n",
       "      <td>FEMININO</td>\n",
       "      <td>52</td>\n",
       "      <td>MG</td>\n",
       "      <td>Sudeste</td>\n",
       "      <td>51-55</td>\n",
       "    </tr>\n",
       "  </tbody>\n",
       "</table>\n",
       "</div>"
      ],
      "text/plain": [
       "                            data      sexo idade uf_paciente   regiao  \\\n",
       "9560651700   2018-11-06 00:00:00  FEMININO    71          RS      Sul   \n",
       "24552062300  2018-07-23 00:00:00  FEMININO    63          RS      Sul   \n",
       "20318851600  2018-06-16 00:00:00  FEMININO    22          SP  Sudeste   \n",
       "18107768100  2018-08-29 00:00:00  FEMININO     9          SP  Sudeste   \n",
       "16366847900  2018-06-19 00:00:00  FEMININO    52          MG  Sudeste   \n",
       "\n",
       "            idade_categoria  \n",
       "9560651700              55+  \n",
       "24552062300             55+  \n",
       "20318851600           21-25  \n",
       "18107768100  Idade inválida  \n",
       "16366847900           51-55  "
      ]
     },
     "execution_count": 19,
     "metadata": {},
     "output_type": "execute_result"
    }
   ],
   "source": [
    "set_lupus_cirurgia = df_lupus_cirurgia['id_paciente'].drop_duplicates()\n",
    "df_lupus_cirurgia_idx = df_lupus_cirurgia.set_index('id_paciente')\n",
    "infos_pacientes_lupus_cirurgia = set_lupus_cirurgia.apply(lambda row: bu.get_info_paciente(row, df_lupus_cirurgia_idx, df_cirurgia))\n",
    "dict_aux = dict(ChainMap(*list(infos_pacientes_lupus_cirurgia)))\n",
    "df_pacientes_lupus_cirugia = pd.DataFrame.from_dict(dict_aux).T\n",
    "df_pacientes_lupus_cirugia['regiao'] = df_pacientes_lupus_cirugia['uf_paciente'].map(bu.get_regiao)\n",
    "df_pacientes_lupus_cirugia['idade_categoria'] = df_pacientes_lupus_cirugia['idade'].map(bu.get_categoria_idade)\n",
    "df_pacientes_lupus_cirugia.head()"
   ]
  },
  {
   "cell_type": "code",
   "execution_count": 21,
   "metadata": {},
   "outputs": [
    {
     "name": "stdout",
     "output_type": "stream",
     "text": [
      " - Pacientes com lúpus que fizeram curigia abdominal: 3622 de 15445\n"
     ]
    }
   ],
   "source": [
    "print(' - Pacientes com lúpus que fizeram curigia abdominal:',\n",
    "      df_lupus_cirurgia['id_paciente'].nunique(), 'de',\n",
    "      df_lupus['id_paciente'].nunique())\n"
   ]
  },
  {
   "cell_type": "markdown",
   "metadata": {},
   "source": [
    "### Agora sim analisando os pacientes com Lúpus que operaram"
   ]
  },
  {
   "cell_type": "code",
   "execution_count": 21,
   "metadata": {},
   "outputs": [
    {
     "data": {
      "text/plain": [
       "sexo\n",
       "FEMININO     0.926284\n",
       "MASCULINO    0.073716\n",
       "Name: proportion, dtype: float64"
      ]
     },
     "execution_count": 21,
     "metadata": {},
     "output_type": "execute_result"
    }
   ],
   "source": [
    "df_pacientes_lupus_cirugia['sexo'].value_counts(normalize=True)"
   ]
  },
  {
   "cell_type": "code",
   "execution_count": 22,
   "metadata": {},
   "outputs": [
    {
     "data": {
      "text/plain": [
       "regiao\n",
       "Sudeste         0.494754\n",
       "Nordeste        0.218940\n",
       "Sul             0.174213\n",
       "Centro-Oeste    0.068194\n",
       "Norte           0.043898\n",
       "Name: proportion, dtype: float64"
      ]
     },
     "execution_count": 22,
     "metadata": {},
     "output_type": "execute_result"
    }
   ],
   "source": [
    "df_pacientes_lupus_cirugia['regiao'].value_counts(normalize=True)"
   ]
  },
  {
   "cell_type": "code",
   "execution_count": 23,
   "metadata": {},
   "outputs": [
    {
     "data": {
      "text/plain": [
       "idade_categoria\n",
       "21-25             0.190226\n",
       "26-30             0.176698\n",
       "31-35             0.144948\n",
       "16-20             0.140806\n",
       "36-40             0.090282\n",
       "41-45             0.063225\n",
       "55+               0.054666\n",
       "Idade inválida    0.054390\n",
       "46-50             0.050248\n",
       "51-55             0.034511\n",
       "Name: proportion, dtype: float64"
      ]
     },
     "execution_count": 23,
     "metadata": {},
     "output_type": "execute_result"
    }
   ],
   "source": [
    "df_pacientes_lupus_cirugia['idade_categoria'].value_counts(normalize=True)"
   ]
  },
  {
   "cell_type": "markdown",
   "metadata": {},
   "source": [
    "### Testando a base do Fernando"
   ]
  },
  {
   "cell_type": "code",
   "execution_count": 24,
   "metadata": {},
   "outputs": [
    {
     "name": "stdout",
     "output_type": "stream",
     "text": [
      " - Total de Pacientes que não foram classificados com lúpus: 353\n"
     ]
    }
   ],
   "source": [
    "tc2 = pd.read_parquet('data/pendrive/caso_passo2_com_categorias_com_riscos.parquet')\n",
    "pacientes_sem_lupus = tc2[~tc2['id_paciente'].isin(df_lupus['id_paciente'])]['id_paciente']\n",
    "print(' - Total de Pacientes que não foram classificados com lúpus:', len(pacientes_sem_lupus))"
   ]
  },
  {
   "cell_type": "code",
   "execution_count": 25,
   "metadata": {},
   "outputs": [
    {
     "data": {
      "text/html": [
       "<div>\n",
       "<style scoped>\n",
       "    .dataframe tbody tr th:only-of-type {\n",
       "        vertical-align: middle;\n",
       "    }\n",
       "\n",
       "    .dataframe tbody tr th {\n",
       "        vertical-align: top;\n",
       "    }\n",
       "\n",
       "    .dataframe thead th {\n",
       "        text-align: right;\n",
       "    }\n",
       "</style>\n",
       "<table border=\"1\" class=\"dataframe\">\n",
       "  <thead>\n",
       "    <tr style=\"text-align: right;\">\n",
       "      <th></th>\n",
       "      <th>id_paciente</th>\n",
       "      <th>no_procedimento_principal</th>\n",
       "      <th>no_procedimento_secundario</th>\n",
       "    </tr>\n",
       "  </thead>\n",
       "  <tbody>\n",
       "    <tr>\n",
       "      <th>1602</th>\n",
       "      <td>1099191000</td>\n",
       "      <td>TOMOGRAFIA COMPUTADORIZADA DE TORAX</td>\n",
       "      <td>BPAI</td>\n",
       "    </tr>\n",
       "    <tr>\n",
       "      <th>80950</th>\n",
       "      <td>1099191000</td>\n",
       "      <td>EXAME CITOPATOLOGICO CERVICO-VAGINAL/MICROFLORA</td>\n",
       "      <td>BPAI</td>\n",
       "    </tr>\n",
       "    <tr>\n",
       "      <th>153247</th>\n",
       "      <td>1099191000</td>\n",
       "      <td>TOMOGRAFIA COMPUTADORIZADA DO CRANIO</td>\n",
       "      <td>BPAI</td>\n",
       "    </tr>\n",
       "    <tr>\n",
       "      <th>184213</th>\n",
       "      <td>1099191000</td>\n",
       "      <td>EXAME ANATOMO-PATOLÓGICO PARA CONGELAMENTO / P...</td>\n",
       "      <td>BPAI</td>\n",
       "    </tr>\n",
       "    <tr>\n",
       "      <th>212128</th>\n",
       "      <td>1099191000</td>\n",
       "      <td>PESQUISA DE ANTICORPOS CONTRA O VIRUS DA HEPAT...</td>\n",
       "      <td>BPAI</td>\n",
       "    </tr>\n",
       "    <tr>\n",
       "      <th>...</th>\n",
       "      <td>...</td>\n",
       "      <td>...</td>\n",
       "      <td>...</td>\n",
       "    </tr>\n",
       "    <tr>\n",
       "      <th>6226702</th>\n",
       "      <td>1099191000</td>\n",
       "      <td>HIDROXICLOROQUINA 400 MG (POR COMPRIMIDO)</td>\n",
       "      <td>HIDROXICLOROQUINA 400 MG (POR COMPRIMIDO)</td>\n",
       "    </tr>\n",
       "    <tr>\n",
       "      <th>6277333</th>\n",
       "      <td>1099191000</td>\n",
       "      <td>HIDROXICLOROQUINA 400 MG (POR COMPRIMIDO)</td>\n",
       "      <td>HIDROXICLOROQUINA 400 MG (POR COMPRIMIDO)</td>\n",
       "    </tr>\n",
       "    <tr>\n",
       "      <th>6335576</th>\n",
       "      <td>1099191000</td>\n",
       "      <td>HIDROXICLOROQUINA 400 MG (POR COMPRIMIDO)</td>\n",
       "      <td>HIDROXICLOROQUINA 400 MG (POR COMPRIMIDO)</td>\n",
       "    </tr>\n",
       "    <tr>\n",
       "      <th>6410566</th>\n",
       "      <td>1099191000</td>\n",
       "      <td>HIDROXICLOROQUINA 400 MG (POR COMPRIMIDO)</td>\n",
       "      <td>HIDROXICLOROQUINA 400 MG (POR COMPRIMIDO)</td>\n",
       "    </tr>\n",
       "    <tr>\n",
       "      <th>6432209</th>\n",
       "      <td>1099191000</td>\n",
       "      <td>HIDROXICLOROQUINA 400 MG (POR COMPRIMIDO)</td>\n",
       "      <td>HIDROXICLOROQUINA 400 MG (POR COMPRIMIDO)</td>\n",
       "    </tr>\n",
       "  </tbody>\n",
       "</table>\n",
       "<p>82 rows × 3 columns</p>\n",
       "</div>"
      ],
      "text/plain": [
       "         id_paciente                          no_procedimento_principal  \\\n",
       "1602      1099191000                TOMOGRAFIA COMPUTADORIZADA DE TORAX   \n",
       "80950     1099191000    EXAME CITOPATOLOGICO CERVICO-VAGINAL/MICROFLORA   \n",
       "153247    1099191000               TOMOGRAFIA COMPUTADORIZADA DO CRANIO   \n",
       "184213    1099191000  EXAME ANATOMO-PATOLÓGICO PARA CONGELAMENTO / P...   \n",
       "212128    1099191000  PESQUISA DE ANTICORPOS CONTRA O VIRUS DA HEPAT...   \n",
       "...              ...                                                ...   \n",
       "6226702   1099191000          HIDROXICLOROQUINA 400 MG (POR COMPRIMIDO)   \n",
       "6277333   1099191000          HIDROXICLOROQUINA 400 MG (POR COMPRIMIDO)   \n",
       "6335576   1099191000          HIDROXICLOROQUINA 400 MG (POR COMPRIMIDO)   \n",
       "6410566   1099191000          HIDROXICLOROQUINA 400 MG (POR COMPRIMIDO)   \n",
       "6432209   1099191000          HIDROXICLOROQUINA 400 MG (POR COMPRIMIDO)   \n",
       "\n",
       "                        no_procedimento_secundario  \n",
       "1602                                          BPAI  \n",
       "80950                                         BPAI  \n",
       "153247                                        BPAI  \n",
       "184213                                        BPAI  \n",
       "212128                                        BPAI  \n",
       "...                                            ...  \n",
       "6226702  HIDROXICLOROQUINA 400 MG (POR COMPRIMIDO)  \n",
       "6277333  HIDROXICLOROQUINA 400 MG (POR COMPRIMIDO)  \n",
       "6335576  HIDROXICLOROQUINA 400 MG (POR COMPRIMIDO)  \n",
       "6410566  HIDROXICLOROQUINA 400 MG (POR COMPRIMIDO)  \n",
       "6432209  HIDROXICLOROQUINA 400 MG (POR COMPRIMIDO)  \n",
       "\n",
       "[82 rows x 3 columns]"
      ]
     },
     "execution_count": 25,
     "metadata": {},
     "output_type": "execute_result"
    }
   ],
   "source": [
    "# Junta os 3 dfs para poder olhar todos os procedimentos de forma simplificada\n",
    "df_pacientes = bu.junta_dfs_e_procedimentos(df_bpai, df_aih, df_apac)\n",
    "df_pacientes.loc[df_pacientes['id_paciente']==pacientes_sem_lupus.iloc[30],\n",
    "    ['id_paciente', 'no_procedimento_principal', 'no_procedimento_secundario']]"
   ]
  },
  {
   "cell_type": "markdown",
   "metadata": {},
   "source": [
    "#### Verifica Cids"
   ]
  },
  {
   "cell_type": "code",
   "execution_count": 26,
   "metadata": {},
   "outputs": [],
   "source": [
    "def verifica_cid(row):\n",
    "    for cod in ['M32', 'L93', 'N08']:\n",
    "        if (cod in row):\n",
    "            return True    \n",
    "    return False\n",
    "\n",
    "df_pacientes['cid_principal'] = df_pacientes['co_cid_principal'].apply(verifica_cid)\n",
    "df_pacientes['cid_secundario'] = df_pacientes['co_cid_secundario'].apply(verifica_cid)"
   ]
  },
  {
   "cell_type": "code",
   "execution_count": 27,
   "metadata": {},
   "outputs": [
    {
     "data": {
      "text/plain": [
       "cid_principal     0.089116\n",
       "cid_secundario    0.135328\n",
       "dtype: float64"
      ]
     },
     "execution_count": 27,
     "metadata": {},
     "output_type": "execute_result"
    }
   ],
   "source": [
    "df_pacientes.loc[:,'cid_principal':].mean()"
   ]
  },
  {
   "cell_type": "markdown",
   "metadata": {},
   "source": [
    "#### Verifica Procedimentos"
   ]
  },
  {
   "cell_type": "code",
   "execution_count": 28,
   "metadata": {},
   "outputs": [
    {
     "data": {
      "text/plain": [
       "<module 'src.bases_utils' from 'c:\\\\Users\\\\thiag\\\\OneDrive\\\\Documents\\\\UFRJ\\\\git\\\\projeto_lupus\\\\src\\\\bases_utils.py'>"
      ]
     },
     "execution_count": 28,
     "metadata": {},
     "output_type": "execute_result"
    }
   ],
   "source": [
    "import importlib\n",
    "from src import bases_utils as bu\n",
    "importlib.reload(bu)"
   ]
  },
  {
   "cell_type": "code",
   "execution_count": 29,
   "metadata": {},
   "outputs": [
    {
     "name": "stderr",
     "output_type": "stream",
     "text": [
      "100%|██████████| 353/353 [03:45<00:00,  1.56it/s]\n"
     ]
    }
   ],
   "source": [
    "cols = ['id_paciente', 'co_procedimento_principal', 'no_procedimento_principal',\n",
    "            'co_procedimento_secundario', 'no_procedimento_secundario', 'cid_principal', 'cid_secundario']\n",
    "\n",
    "pac_dict = {}\n",
    "for id in tqdm(pacientes_sem_lupus):\n",
    "    dfp = df_pacientes.loc[df_pacientes['id_paciente']==id, cols]\n",
    "    dfr = bu.verifica_procedimentos_paciente(dfp, ['no_procedimento_principal', 'no_procedimento_secundario'])\n",
    "    #print(dfr.loc[:,'procedimento_p1':].sum())\n",
    "    pac_dict[id] = dfr.loc[:,'procedimento_p1':].sum().to_dict()  \n",
    "\n",
    "df_pacientes_sem_lupus = pd.DataFrame.from_dict(pac_dict).T  "
   ]
  },
  {
   "cell_type": "code",
   "execution_count": 30,
   "metadata": {},
   "outputs": [],
   "source": [
    "dft = pd.DataFrame()\n",
    "for col in df_pacientes_sem_lupus.columns:\n",
    "    dft[col] = df_pacientes_sem_lupus[col]>0"
   ]
  },
  {
   "cell_type": "code",
   "execution_count": 31,
   "metadata": {},
   "outputs": [
    {
     "data": {
      "text/plain": [
       "procedimento_p1     0.000000\n",
       "procedimento_p2     0.147309\n",
       "procedimento_p3     0.056657\n",
       "procedimento_p4     0.912181\n",
       "procedimento_cid    0.892351\n",
       "dtype: float64"
      ]
     },
     "execution_count": 31,
     "metadata": {},
     "output_type": "execute_result"
    }
   ],
   "source": [
    "dft.mean()"
   ]
  },
  {
   "cell_type": "code",
   "execution_count": 34,
   "metadata": {},
   "outputs": [
    {
     "data": {
      "text/plain": [
       "(353, 5)"
      ]
     },
     "execution_count": 34,
     "metadata": {},
     "output_type": "execute_result"
    }
   ],
   "source": [
    "dft.shape"
   ]
  },
  {
   "cell_type": "code",
   "execution_count": 33,
   "metadata": {},
   "outputs": [
    {
     "data": {
      "text/plain": [
       "procedimento_p1       0\n",
       "procedimento_p2      52\n",
       "procedimento_p3      20\n",
       "procedimento_p4     322\n",
       "procedimento_cid    315\n",
       "dtype: int64"
      ]
     },
     "execution_count": 33,
     "metadata": {},
     "output_type": "execute_result"
    }
   ],
   "source": [
    "dft.sum()"
   ]
  },
  {
   "cell_type": "code",
   "execution_count": 42,
   "metadata": {},
   "outputs": [],
   "source": [
    "dois_procedimentos = dft.loc[:,'procedimento_p1':'procedimento_p4'].sum(axis=1).sort_values(ascending=False)"
   ]
  },
  {
   "cell_type": "code",
   "execution_count": 49,
   "metadata": {},
   "outputs": [
    {
     "data": {
      "text/plain": [
       "30"
      ]
     },
     "execution_count": 49,
     "metadata": {},
     "output_type": "execute_result"
    }
   ],
   "source": [
    "aprovados_procedimentos = dois_procedimentos[dois_procedimentos > 1]\n",
    "len(aprovados_procedimentos)"
   ]
  },
  {
   "cell_type": "code",
   "execution_count": 50,
   "metadata": {},
   "outputs": [
    {
     "data": {
      "text/html": [
       "<div>\n",
       "<style scoped>\n",
       "    .dataframe tbody tr th:only-of-type {\n",
       "        vertical-align: middle;\n",
       "    }\n",
       "\n",
       "    .dataframe tbody tr th {\n",
       "        vertical-align: top;\n",
       "    }\n",
       "\n",
       "    .dataframe thead th {\n",
       "        text-align: right;\n",
       "    }\n",
       "</style>\n",
       "<table border=\"1\" class=\"dataframe\">\n",
       "  <thead>\n",
       "    <tr style=\"text-align: right;\">\n",
       "      <th></th>\n",
       "      <th>procedimento_p1</th>\n",
       "      <th>procedimento_p2</th>\n",
       "      <th>procedimento_p3</th>\n",
       "      <th>procedimento_p4</th>\n",
       "      <th>procedimento_cid</th>\n",
       "    </tr>\n",
       "  </thead>\n",
       "  <tbody>\n",
       "    <tr>\n",
       "      <th>26129508400</th>\n",
       "      <td>False</td>\n",
       "      <td>True</td>\n",
       "      <td>True</td>\n",
       "      <td>True</td>\n",
       "      <td>False</td>\n",
       "    </tr>\n",
       "    <tr>\n",
       "      <th>25874129800</th>\n",
       "      <td>False</td>\n",
       "      <td>True</td>\n",
       "      <td>True</td>\n",
       "      <td>True</td>\n",
       "      <td>False</td>\n",
       "    </tr>\n",
       "    <tr>\n",
       "      <th>32888297300</th>\n",
       "      <td>False</td>\n",
       "      <td>True</td>\n",
       "      <td>True</td>\n",
       "      <td>True</td>\n",
       "      <td>False</td>\n",
       "    </tr>\n",
       "    <tr>\n",
       "      <th>17883947100</th>\n",
       "      <td>False</td>\n",
       "      <td>True</td>\n",
       "      <td>True</td>\n",
       "      <td>True</td>\n",
       "      <td>False</td>\n",
       "    </tr>\n",
       "    <tr>\n",
       "      <th>18157579900</th>\n",
       "      <td>False</td>\n",
       "      <td>True</td>\n",
       "      <td>True</td>\n",
       "      <td>True</td>\n",
       "      <td>False</td>\n",
       "    </tr>\n",
       "    <tr>\n",
       "      <th>19588686600</th>\n",
       "      <td>False</td>\n",
       "      <td>True</td>\n",
       "      <td>True</td>\n",
       "      <td>True</td>\n",
       "      <td>False</td>\n",
       "    </tr>\n",
       "    <tr>\n",
       "      <th>15333660700</th>\n",
       "      <td>False</td>\n",
       "      <td>True</td>\n",
       "      <td>True</td>\n",
       "      <td>True</td>\n",
       "      <td>False</td>\n",
       "    </tr>\n",
       "    <tr>\n",
       "      <th>15718053200</th>\n",
       "      <td>False</td>\n",
       "      <td>True</td>\n",
       "      <td>True</td>\n",
       "      <td>True</td>\n",
       "      <td>False</td>\n",
       "    </tr>\n",
       "    <tr>\n",
       "      <th>14343916800</th>\n",
       "      <td>False</td>\n",
       "      <td>True</td>\n",
       "      <td>True</td>\n",
       "      <td>True</td>\n",
       "      <td>False</td>\n",
       "    </tr>\n",
       "    <tr>\n",
       "      <th>17348606900</th>\n",
       "      <td>False</td>\n",
       "      <td>True</td>\n",
       "      <td>True</td>\n",
       "      <td>True</td>\n",
       "      <td>False</td>\n",
       "    </tr>\n",
       "    <tr>\n",
       "      <th>12616470700</th>\n",
       "      <td>False</td>\n",
       "      <td>True</td>\n",
       "      <td>True</td>\n",
       "      <td>True</td>\n",
       "      <td>False</td>\n",
       "    </tr>\n",
       "    <tr>\n",
       "      <th>512936100</th>\n",
       "      <td>False</td>\n",
       "      <td>True</td>\n",
       "      <td>True</td>\n",
       "      <td>True</td>\n",
       "      <td>False</td>\n",
       "    </tr>\n",
       "    <tr>\n",
       "      <th>13599126100</th>\n",
       "      <td>False</td>\n",
       "      <td>True</td>\n",
       "      <td>True</td>\n",
       "      <td>True</td>\n",
       "      <td>False</td>\n",
       "    </tr>\n",
       "    <tr>\n",
       "      <th>14319426800</th>\n",
       "      <td>False</td>\n",
       "      <td>True</td>\n",
       "      <td>True</td>\n",
       "      <td>True</td>\n",
       "      <td>False</td>\n",
       "    </tr>\n",
       "    <tr>\n",
       "      <th>1989967000</th>\n",
       "      <td>False</td>\n",
       "      <td>True</td>\n",
       "      <td>True</td>\n",
       "      <td>True</td>\n",
       "      <td>False</td>\n",
       "    </tr>\n",
       "    <tr>\n",
       "      <th>12178438100</th>\n",
       "      <td>False</td>\n",
       "      <td>True</td>\n",
       "      <td>True</td>\n",
       "      <td>True</td>\n",
       "      <td>False</td>\n",
       "    </tr>\n",
       "    <tr>\n",
       "      <th>5829128100</th>\n",
       "      <td>False</td>\n",
       "      <td>True</td>\n",
       "      <td>True</td>\n",
       "      <td>True</td>\n",
       "      <td>False</td>\n",
       "    </tr>\n",
       "    <tr>\n",
       "      <th>11736716000</th>\n",
       "      <td>False</td>\n",
       "      <td>True</td>\n",
       "      <td>True</td>\n",
       "      <td>True</td>\n",
       "      <td>False</td>\n",
       "    </tr>\n",
       "    <tr>\n",
       "      <th>18132415400</th>\n",
       "      <td>False</td>\n",
       "      <td>True</td>\n",
       "      <td>False</td>\n",
       "      <td>True</td>\n",
       "      <td>False</td>\n",
       "    </tr>\n",
       "    <tr>\n",
       "      <th>25863117100</th>\n",
       "      <td>False</td>\n",
       "      <td>True</td>\n",
       "      <td>False</td>\n",
       "      <td>True</td>\n",
       "      <td>False</td>\n",
       "    </tr>\n",
       "    <tr>\n",
       "      <th>24103673100</th>\n",
       "      <td>False</td>\n",
       "      <td>True</td>\n",
       "      <td>False</td>\n",
       "      <td>True</td>\n",
       "      <td>False</td>\n",
       "    </tr>\n",
       "    <tr>\n",
       "      <th>20473022700</th>\n",
       "      <td>False</td>\n",
       "      <td>True</td>\n",
       "      <td>False</td>\n",
       "      <td>True</td>\n",
       "      <td>False</td>\n",
       "    </tr>\n",
       "    <tr>\n",
       "      <th>14199009600</th>\n",
       "      <td>False</td>\n",
       "      <td>True</td>\n",
       "      <td>False</td>\n",
       "      <td>True</td>\n",
       "      <td>False</td>\n",
       "    </tr>\n",
       "    <tr>\n",
       "      <th>13029440400</th>\n",
       "      <td>False</td>\n",
       "      <td>True</td>\n",
       "      <td>False</td>\n",
       "      <td>True</td>\n",
       "      <td>False</td>\n",
       "    </tr>\n",
       "    <tr>\n",
       "      <th>7101713600</th>\n",
       "      <td>False</td>\n",
       "      <td>False</td>\n",
       "      <td>True</td>\n",
       "      <td>True</td>\n",
       "      <td>False</td>\n",
       "    </tr>\n",
       "    <tr>\n",
       "      <th>11236208500</th>\n",
       "      <td>False</td>\n",
       "      <td>True</td>\n",
       "      <td>False</td>\n",
       "      <td>True</td>\n",
       "      <td>False</td>\n",
       "    </tr>\n",
       "    <tr>\n",
       "      <th>4483066200</th>\n",
       "      <td>False</td>\n",
       "      <td>True</td>\n",
       "      <td>False</td>\n",
       "      <td>True</td>\n",
       "      <td>False</td>\n",
       "    </tr>\n",
       "    <tr>\n",
       "      <th>5105407800</th>\n",
       "      <td>False</td>\n",
       "      <td>True</td>\n",
       "      <td>False</td>\n",
       "      <td>True</td>\n",
       "      <td>False</td>\n",
       "    </tr>\n",
       "    <tr>\n",
       "      <th>444842700</th>\n",
       "      <td>False</td>\n",
       "      <td>True</td>\n",
       "      <td>False</td>\n",
       "      <td>True</td>\n",
       "      <td>False</td>\n",
       "    </tr>\n",
       "    <tr>\n",
       "      <th>27526133900</th>\n",
       "      <td>False</td>\n",
       "      <td>True</td>\n",
       "      <td>False</td>\n",
       "      <td>True</td>\n",
       "      <td>False</td>\n",
       "    </tr>\n",
       "  </tbody>\n",
       "</table>\n",
       "</div>"
      ],
      "text/plain": [
       "             procedimento_p1  procedimento_p2  procedimento_p3  \\\n",
       "26129508400            False             True             True   \n",
       "25874129800            False             True             True   \n",
       "32888297300            False             True             True   \n",
       "17883947100            False             True             True   \n",
       "18157579900            False             True             True   \n",
       "19588686600            False             True             True   \n",
       "15333660700            False             True             True   \n",
       "15718053200            False             True             True   \n",
       "14343916800            False             True             True   \n",
       "17348606900            False             True             True   \n",
       "12616470700            False             True             True   \n",
       "512936100              False             True             True   \n",
       "13599126100            False             True             True   \n",
       "14319426800            False             True             True   \n",
       "1989967000             False             True             True   \n",
       "12178438100            False             True             True   \n",
       "5829128100             False             True             True   \n",
       "11736716000            False             True             True   \n",
       "18132415400            False             True            False   \n",
       "25863117100            False             True            False   \n",
       "24103673100            False             True            False   \n",
       "20473022700            False             True            False   \n",
       "14199009600            False             True            False   \n",
       "13029440400            False             True            False   \n",
       "7101713600             False            False             True   \n",
       "11236208500            False             True            False   \n",
       "4483066200             False             True            False   \n",
       "5105407800             False             True            False   \n",
       "444842700              False             True            False   \n",
       "27526133900            False             True            False   \n",
       "\n",
       "             procedimento_p4  procedimento_cid  \n",
       "26129508400             True             False  \n",
       "25874129800             True             False  \n",
       "32888297300             True             False  \n",
       "17883947100             True             False  \n",
       "18157579900             True             False  \n",
       "19588686600             True             False  \n",
       "15333660700             True             False  \n",
       "15718053200             True             False  \n",
       "14343916800             True             False  \n",
       "17348606900             True             False  \n",
       "12616470700             True             False  \n",
       "512936100               True             False  \n",
       "13599126100             True             False  \n",
       "14319426800             True             False  \n",
       "1989967000              True             False  \n",
       "12178438100             True             False  \n",
       "5829128100              True             False  \n",
       "11736716000             True             False  \n",
       "18132415400             True             False  \n",
       "25863117100             True             False  \n",
       "24103673100             True             False  \n",
       "20473022700             True             False  \n",
       "14199009600             True             False  \n",
       "13029440400             True             False  \n",
       "7101713600              True             False  \n",
       "11236208500             True             False  \n",
       "4483066200              True             False  \n",
       "5105407800              True             False  \n",
       "444842700               True             False  \n",
       "27526133900             True             False  "
      ]
     },
     "execution_count": 50,
     "metadata": {},
     "output_type": "execute_result"
    }
   ],
   "source": [
    "dft.loc[aprovados_procedimentos.index]\n",
    "# Pelo visto não passaram pelo cid mesmo \n",
    "# E deve ter o resto que não foi aprovado pelos procedimentos"
   ]
  },
  {
   "cell_type": "code",
   "execution_count": 54,
   "metadata": {},
   "outputs": [
    {
     "data": {
      "text/plain": [
       "25467864600    1\n",
       "22849263200    1\n",
       "5572004900     1\n",
       "1870731500     1\n",
       "2266710300     1\n",
       "              ..\n",
       "33299771900    2\n",
       "36517240800    2\n",
       "88667309202    2\n",
       "93864814902    2\n",
       "62120100       2\n",
       "Length: 315, dtype: int64"
      ]
     },
     "execution_count": 54,
     "metadata": {},
     "output_type": "execute_result"
    }
   ],
   "source": [
    "# Nenhum maior que 2 prova que nenhum foi aprovado no cid + 2 procedimentos\n",
    "dft[dft['procedimento_cid']].sum(axis=1).sort_values()"
   ]
  }
 ],
 "metadata": {
  "kernelspec": {
   "display_name": "Python 3",
   "language": "python",
   "name": "python3"
  },
  "language_info": {
   "codemirror_mode": {
    "name": "ipython",
    "version": 3
   },
   "file_extension": ".py",
   "mimetype": "text/x-python",
   "name": "python",
   "nbconvert_exporter": "python",
   "pygments_lexer": "ipython3",
   "version": "3.12.8"
  }
 },
 "nbformat": 4,
 "nbformat_minor": 2
}
