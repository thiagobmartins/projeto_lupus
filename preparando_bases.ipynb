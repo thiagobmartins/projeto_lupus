{
 "cells": [
  {
   "cell_type": "code",
   "execution_count": 3,
   "metadata": {},
   "outputs": [],
   "source": [
    "import pandas as pd"
   ]
  },
  {
   "cell_type": "code",
   "execution_count": 9,
   "metadata": {},
   "outputs": [],
   "source": [
    "# Leitura dos arquivos raw\n",
    "# que contém o código e o nome do procedimento misturados na mesma linha\n",
    "def get_filenames():\n",
    "    return ['procedimentos_cirúrgicos_para_o_baseline', \n",
    "            'procedimentos_encontrados_no_risco_cirurgico',\n",
    "            'para_serem_buscados_na_aih_e_bpai_de_7_30_e_180_dias_após_o_baseline',\n",
    "            'podem_configurar_complicacoes_cirúrgicas_no_pos_operatorio']\n",
    "\n",
    "df_list = []\n",
    "for filename in get_filenames():\n",
    "    df_list.append(pd.read_csv(f'data/procedimentos/raw/{filename}.csv', sep='@'))  "
   ]
  },
  {
   "cell_type": "code",
   "execution_count": 10,
   "metadata": {},
   "outputs": [],
   "source": [
    "# Pega apenas os dígitos da primeira string de cada linha\n",
    "# para formar o cod_procedimento\n",
    "for df in df_list:    \n",
    "    df['cod_procedimento'] = df['line'].apply(lambda row: str(''.join(filter(str.isdigit, row.split()[0]))))"
   ]
  },
  {
   "cell_type": "code",
   "execution_count": 62,
   "metadata": {},
   "outputs": [],
   "source": [
    "# Salva os novos arquivos na pasta dev apenas com o cod_procedimento\n",
    "for filename, df in  zip(get_filenames(), df_list):\n",
    "    df[['cod_procedimento']].to_csv(f'data/procedimentos/dev/{filename}.csv', index=False)"
   ]
  },
  {
   "cell_type": "markdown",
   "metadata": {},
   "source": [
    "# Olhando as bases"
   ]
  },
  {
   "cell_type": "code",
   "execution_count": 12,
   "metadata": {},
   "outputs": [],
   "source": [
    "df_risk = pd.read_csv('data/procedimentos/dev/procedimentos_encontrados_no_risco_cirurgico.csv')"
   ]
  },
  {
   "cell_type": "code",
   "execution_count": 14,
   "metadata": {},
   "outputs": [],
   "source": [
    "set_risk = set(df_risk['cod_procedimento'])"
   ]
  }
 ],
 "metadata": {
  "kernelspec": {
   "display_name": "Python 3",
   "language": "python",
   "name": "python3"
  },
  "language_info": {
   "codemirror_mode": {
    "name": "ipython",
    "version": 3
   },
   "file_extension": ".py",
   "mimetype": "text/x-python",
   "name": "python",
   "nbconvert_exporter": "python",
   "pygments_lexer": "ipython3",
   "version": "3.12.8"
  }
 },
 "nbformat": 4,
 "nbformat_minor": 2
}
