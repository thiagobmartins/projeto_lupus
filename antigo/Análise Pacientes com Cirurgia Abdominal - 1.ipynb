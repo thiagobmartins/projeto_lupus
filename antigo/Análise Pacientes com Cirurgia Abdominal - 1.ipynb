{
 "cells": [
  {
   "cell_type": "markdown",
   "metadata": {},
   "source": [
    "# Analisando Pacientes e Riscos"
   ]
  },
  {
   "cell_type": "markdown",
   "metadata": {},
   "source": [
    "## imports"
   ]
  },
  {
   "cell_type": "code",
   "execution_count": 1,
   "metadata": {},
   "outputs": [
    {
     "name": "stdout",
     "output_type": "stream",
     "text": [
      "Defaulting to user installation because normal site-packages is not writeable\n",
      "Requirement already satisfied: ipdb in c:\\users\\thiag\\appdata\\local\\packages\\pythonsoftwarefoundation.python.3.12_qbz5n2kfra8p0\\localcache\\local-packages\\python312\\site-packages (0.13.13)\n",
      "Requirement already satisfied: ipython>=7.31.1 in c:\\users\\thiag\\appdata\\local\\packages\\pythonsoftwarefoundation.python.3.12_qbz5n2kfra8p0\\localcache\\local-packages\\python312\\site-packages (from ipdb) (8.29.0)\n",
      "Requirement already satisfied: decorator in c:\\users\\thiag\\appdata\\local\\packages\\pythonsoftwarefoundation.python.3.12_qbz5n2kfra8p0\\localcache\\local-packages\\python312\\site-packages (from ipdb) (5.1.1)\n",
      "Requirement already satisfied: jedi>=0.16 in c:\\users\\thiag\\appdata\\local\\packages\\pythonsoftwarefoundation.python.3.12_qbz5n2kfra8p0\\localcache\\local-packages\\python312\\site-packages (from ipython>=7.31.1->ipdb) (0.19.2)\n",
      "Requirement already satisfied: matplotlib-inline in c:\\users\\thiag\\appdata\\local\\packages\\pythonsoftwarefoundation.python.3.12_qbz5n2kfra8p0\\localcache\\local-packages\\python312\\site-packages (from ipython>=7.31.1->ipdb) (0.1.7)\n",
      "Requirement already satisfied: prompt-toolkit<3.1.0,>=3.0.41 in c:\\users\\thiag\\appdata\\local\\packages\\pythonsoftwarefoundation.python.3.12_qbz5n2kfra8p0\\localcache\\local-packages\\python312\\site-packages (from ipython>=7.31.1->ipdb) (3.0.48)\n",
      "Requirement already satisfied: pygments>=2.4.0 in c:\\users\\thiag\\appdata\\local\\packages\\pythonsoftwarefoundation.python.3.12_qbz5n2kfra8p0\\localcache\\local-packages\\python312\\site-packages (from ipython>=7.31.1->ipdb) (2.18.0)\n",
      "Requirement already satisfied: stack-data in c:\\users\\thiag\\appdata\\local\\packages\\pythonsoftwarefoundation.python.3.12_qbz5n2kfra8p0\\localcache\\local-packages\\python312\\site-packages (from ipython>=7.31.1->ipdb) (0.6.3)\n",
      "Requirement already satisfied: traitlets>=5.13.0 in c:\\users\\thiag\\appdata\\local\\packages\\pythonsoftwarefoundation.python.3.12_qbz5n2kfra8p0\\localcache\\local-packages\\python312\\site-packages (from ipython>=7.31.1->ipdb) (5.14.3)\n",
      "Requirement already satisfied: colorama in c:\\users\\thiag\\appdata\\local\\packages\\pythonsoftwarefoundation.python.3.12_qbz5n2kfra8p0\\localcache\\local-packages\\python312\\site-packages (from ipython>=7.31.1->ipdb) (0.4.6)\n",
      "Requirement already satisfied: parso<0.9.0,>=0.8.4 in c:\\users\\thiag\\appdata\\local\\packages\\pythonsoftwarefoundation.python.3.12_qbz5n2kfra8p0\\localcache\\local-packages\\python312\\site-packages (from jedi>=0.16->ipython>=7.31.1->ipdb) (0.8.4)\n",
      "Requirement already satisfied: wcwidth in c:\\users\\thiag\\appdata\\local\\packages\\pythonsoftwarefoundation.python.3.12_qbz5n2kfra8p0\\localcache\\local-packages\\python312\\site-packages (from prompt-toolkit<3.1.0,>=3.0.41->ipython>=7.31.1->ipdb) (0.2.13)\n",
      "Requirement already satisfied: executing>=1.2.0 in c:\\users\\thiag\\appdata\\local\\packages\\pythonsoftwarefoundation.python.3.12_qbz5n2kfra8p0\\localcache\\local-packages\\python312\\site-packages (from stack-data->ipython>=7.31.1->ipdb) (2.1.0)\n",
      "Requirement already satisfied: asttokens>=2.1.0 in c:\\users\\thiag\\appdata\\local\\packages\\pythonsoftwarefoundation.python.3.12_qbz5n2kfra8p0\\localcache\\local-packages\\python312\\site-packages (from stack-data->ipython>=7.31.1->ipdb) (2.4.1)\n",
      "Requirement already satisfied: pure-eval in c:\\users\\thiag\\appdata\\local\\packages\\pythonsoftwarefoundation.python.3.12_qbz5n2kfra8p0\\localcache\\local-packages\\python312\\site-packages (from stack-data->ipython>=7.31.1->ipdb) (0.2.3)\n",
      "Requirement already satisfied: six>=1.12.0 in c:\\users\\thiag\\appdata\\local\\packages\\pythonsoftwarefoundation.python.3.12_qbz5n2kfra8p0\\localcache\\local-packages\\python312\\site-packages (from asttokens>=2.1.0->stack-data->ipython>=7.31.1->ipdb) (1.16.0)\n"
     ]
    }
   ],
   "source": [
    "!pip install ipdb\n",
    "import ipdb\n",
    "import pandas as pd\n",
    "from collections import ChainMap"
   ]
  },
  {
   "cell_type": "markdown",
   "metadata": {},
   "source": [
    "## Leitura das Bases"
   ]
  },
  {
   "cell_type": "markdown",
   "metadata": {},
   "source": [
    "### Procedimentos com Risco"
   ]
  },
  {
   "cell_type": "code",
   "execution_count": 2,
   "metadata": {},
   "outputs": [],
   "source": [
    "df_risk = pd.read_csv('data/procedimentos/dev/procedimentos_encontrados_no_risco_cirurgico.csv')\n",
    "set_risk = set(df_risk['cod_procedimento'])"
   ]
  },
  {
   "cell_type": "markdown",
   "metadata": {},
   "source": [
    "### Com Lúpus"
   ]
  },
  {
   "cell_type": "code",
   "execution_count": 3,
   "metadata": {},
   "outputs": [],
   "source": [
    "num_algoritmo = 1\n",
    "\n",
    "df_lupus = pd.read_parquet(f'data/results/df_alg{num_algoritmo}.parquet')\n",
    "df_lupus_bpai = pd.read_parquet(f'data/results/df_bpai_alg{num_algoritmo}.parquet')\n",
    "df_lupus_aih = pd.read_parquet(f'data/results/df_aih_alg{num_algoritmo}.parquet')\n",
    "df_lupus_apac = pd.read_parquet(f'data/results/df_apac_alg{num_algoritmo}.parquet')"
   ]
  },
  {
   "cell_type": "markdown",
   "metadata": {},
   "source": [
    "### Sem Lúpus"
   ]
  },
  {
   "cell_type": "code",
   "execution_count": 4,
   "metadata": {},
   "outputs": [],
   "source": [
    "df_bpai = pd.read_parquet(f'data/BPAI_Lupus_L93M32N08_todos_cids.parquet')\n",
    "df_aih = pd.read_parquet(f'data/AIH_Lupus_L93M32N08_todos_cids.parquet')\n",
    "df_apac = pd.read_parquet(f'data/APAC_Lupus_L93M32N08_todos_cids.parquet')\n",
    "\n",
    "# Preciso ajustas as datas\n",
    "df_aih['data'] = pd.to_datetime(df_aih['dt_internacao'], format='%d/%m/%Y', errors='coerce')\n",
    "df_apac['data'] = pd.to_datetime(df_apac['data_inicio'], format='%d/%m/%Y', errors='coerce')\n",
    "\n",
    "# Não achei data na bpai\n",
    "# Só para conseguir unificar o bpai\n",
    "df_bpai['data'] = '01/01/2058'\n",
    "df_bpai['data'] = pd.to_datetime(df_bpai['data'], format='%d/%m/%Y', errors='coerce')"
   ]
  },
  {
   "cell_type": "code",
   "execution_count": 5,
   "metadata": {},
   "outputs": [
    {
     "name": "stdout",
     "output_type": "stream",
     "text": [
      " - Pacientes na BPAI: 46967\n",
      " - Pacientes na BPAI com algum risco: 33049 (70.37%)\n",
      " - Pacientes com Lúpus na BPAI: 5934 (12.63)%\n",
      " - Pacientes com Lúpus e algum risco na BPAI: 4940 (83.25% de Lúpus) e (10.52% da BPAI)\n",
      "\n",
      " - Pacientes na AIH: 48663\n",
      " - Pacientes na AIH com algum risco: 6906 (14.19%)\n",
      " - Pacientes com Lúpus na AIH: 8566 (17.6)%\n",
      " - Pacientes com Lúpus e algum risco na AIH: 1323 (15.44% de Lúpus) e (2.72% da AIH)\n",
      "\n",
      " - Pacientes na APAC: 31948\n",
      " - Pacientes na APAC com algum risco: 14418 (45.13%)\n",
      " - Pacientes com Lúpus na APAC: 6122 (19.16)%\n",
      " - Pacientes com Lúpus e algum risco na APAC: 1389 (22.69% de Lúpus) e (4.35% da APAC)\n",
      "\n"
     ]
    }
   ],
   "source": [
    "def get_cols_procedimentos(base_name):\n",
    "      dict_col = {'BPAI':['co_procedimento_realizado'],\n",
    "                  'AIH':['co_procedimento_principal'], # --> AIH nãm tem cod_procedimento_secundario\n",
    "                  'APAC':['co_procedimento_principal', 'co_procedimento_secundario'],\n",
    "                  'UNION':['co_procedimento_realizado', # BPAI\n",
    "                           'co_procedimento_principal', # APAC\n",
    "                           'co_procedimento_secundario', # APAC\n",
    "                           'co_procedimento_aih']} # AIH\n",
    "      return dict_col[base_name]\n",
    "\n",
    "def get_risk(df, cols, set_risk):\n",
    "    \"\"\" Calcula quantos pacientes possuem um procedimento de risco \"\"\"\n",
    "    if len(cols) > 1: # Se tiver mais de uma coluna de procedimentos\n",
    "        cols_risk = []\n",
    "        for idx, col in enumerate(cols): # Itera nas colunas\n",
    "            col_name = f'risk_procedimento_{idx}'\n",
    "            df[col_name] = df[col].isin(set_risk)\n",
    "            cols_risk.append(col_name)\n",
    "\n",
    "        df['risk_filter_col'] = df[cols_risk].sum(axis=1) # Conta quantas colnuas possuem True\n",
    "        \n",
    "        # Filtra as que tiveram pelo menos 1\n",
    "        num_pacientes_risk = df[df['risk_filter_col'] > 0]['id_paciente'].nunique()\n",
    "\n",
    "    else: # Se for só uma coluna, fica mais fácil\n",
    "        num_pacientes_risk = df[df[cols[0]].isin(set_risk)]['id_paciente'].nunique()\n",
    "    return num_pacientes_risk\n",
    "\n",
    "def get_percent(numerador, denominador):\n",
    "    return round(numerador*100/denominador, 2)\n",
    "\n",
    "def analisa_riscos(df, df_lupus, base_name):\n",
    "    cols_procedimento = get_cols_procedimentos(base_name)\n",
    "\n",
    "    num_total_pacientes = df['id_paciente'].nunique()\n",
    "    print(f' - Pacientes na {base_name}:', num_total_pacientes)\n",
    "    \n",
    "    num_pacientes_risk = get_risk(df, cols_procedimento, set_risk)\n",
    "    print(f' - Pacientes na {base_name} com algum risco: '+\n",
    "            f'{num_pacientes_risk} ' +\n",
    "            f'({get_percent(num_pacientes_risk, num_total_pacientes)}%)')\n",
    "\n",
    "    num_pacientes_lupus = df_lupus['id_paciente'].nunique()\n",
    "    print(f' - Pacientes com Lúpus na {base_name}: {num_pacientes_lupus} '+\n",
    "          f'({get_percent(num_pacientes_lupus, num_total_pacientes)})%')\n",
    "\n",
    "    num_lupus_risk = get_risk(df_lupus, cols_procedimento, set_risk)\n",
    "\n",
    "    print(f' - Pacientes com Lúpus e algum risco na {base_name}: {num_lupus_risk} ' +\n",
    "            f'({get_percent(num_lupus_risk, num_pacientes_lupus)}% de Lúpus) e ' +\n",
    "            f'({get_percent(num_lupus_risk, num_total_pacientes)}% da {base_name})')\n",
    "    print()\n",
    "\n",
    "analisa_riscos(df_bpai, df_lupus_bpai, 'BPAI')\n",
    "analisa_riscos(df_aih, df_lupus_aih, 'AIH')\n",
    "analisa_riscos(df_apac, df_lupus_apac, 'APAC')"
   ]
  },
  {
   "cell_type": "markdown",
   "metadata": {},
   "source": [
    "# Base Unificada\n",
    "BPAI + AIH + APAC"
   ]
  },
  {
   "cell_type": "code",
   "execution_count": 6,
   "metadata": {},
   "outputs": [],
   "source": [
    "df_alg = pd.read_parquet(f'data/results/df_alg{num_algoritmo}.parquet')"
   ]
  },
  {
   "cell_type": "code",
   "execution_count": 7,
   "metadata": {},
   "outputs": [],
   "source": [
    "cols_union = ['id_paciente'\n",
    "              #, 'sexo', 'idade', 'data'\n",
    "              ]\n",
    "df_aih.rename(columns={'co_procedimento_principal':'co_procedimento_aih'})\n",
    "df_union = pd.concat([df_bpai[cols_union+get_cols_procedimentos('BPAI')],\n",
    "                      df_apac[cols_union+get_cols_procedimentos('APAC')],\n",
    "                      df_aih.rename(columns={'co_procedimento_principal':'co_procedimento_aih'})\\\n",
    "                      [cols_union+['co_procedimento_aih']]])"
   ]
  },
  {
   "cell_type": "code",
   "execution_count": 8,
   "metadata": {},
   "outputs": [],
   "source": [
    "cols_union = ['id_paciente']\n",
    "df_lupus_aih.rename(columns={'co_procedimento_principal':'co_procedimento_aih'})\n",
    "df_lupus_union = pd.concat([df_lupus_bpai[cols_union+get_cols_procedimentos('BPAI')],\n",
    "                      df_lupus_apac[cols_union+get_cols_procedimentos('APAC')],\n",
    "                      df_lupus_aih.rename(columns={'co_procedimento_principal':'co_procedimento_aih'})\\\n",
    "                      [cols_union+['co_procedimento_aih']]])"
   ]
  },
  {
   "cell_type": "code",
   "execution_count": 9,
   "metadata": {},
   "outputs": [
    {
     "name": "stdout",
     "output_type": "stream",
     "text": [
      " - Pacientes na UNION: 71874\n",
      " - Pacientes na UNION com algum risco: 43032 (59.87%)\n",
      " - Pacientes com Lúpus na UNION: 8987 (12.5)%\n",
      " - Pacientes com Lúpus e algum risco na UNION: 5695 (63.37% de Lúpus) e (7.92% da UNION)\n",
      "\n"
     ]
    }
   ],
   "source": [
    "analisa_riscos(df_union, df_lupus_union, 'UNION')"
   ]
  },
  {
   "cell_type": "markdown",
   "metadata": {},
   "source": [
    "# Analise dos grupos"
   ]
  },
  {
   "cell_type": "code",
   "execution_count": 10,
   "metadata": {},
   "outputs": [],
   "source": [
    "def get_regiao(sigla):\n",
    "    \"\"\"\n",
    "    Retorna a região brasileira dado a sigla do estado.\n",
    "    \n",
    "    Args:\n",
    "        sigla (str): Sigla do estado brasileiro (ex: 'SP', 'RJ', 'AM').\n",
    "    \n",
    "    Returns:\n",
    "        str: Região brasileira (Norte, Nordeste, Sudeste, Sul, Centro-Oeste).\n",
    "    \"\"\"\n",
    "    \n",
    "    regioes = {\n",
    "        # Norte\n",
    "        'AC': 'Norte', 'AM': 'Norte', 'AP': 'Norte', 'PA': 'Norte', 'RO': 'Norte', 'RR': 'Norte', 'TO': 'Norte',\n",
    "        \n",
    "        # Nordeste\n",
    "        'AL': 'Nordeste', 'BA': 'Nordeste', 'CE': 'Nordeste', 'MA': 'Nordeste', 'PB': 'Nordeste', 'PE': 'Nordeste', 'PI': 'Nordeste', 'RN': 'Nordeste', 'SE': 'Nordeste',\n",
    "        \n",
    "        # Sudeste\n",
    "        'ES': 'Sudeste', 'MG': 'Sudeste', 'RJ': 'Sudeste', 'SP': 'Sudeste',\n",
    "        \n",
    "        # Sul\n",
    "        'PR': 'Sul', 'RS': 'Sul', 'SC': 'Sul',\n",
    "        \n",
    "        # Centro-Oeste\n",
    "        'DF': 'Centro-Oeste', 'GO': 'Centro-Oeste', 'MS': 'Centro-Oeste', 'MT': 'Centro-Oeste'\n",
    "    }\n",
    "    \n",
    "    return regioes.get(sigla.upper(), \"Sigla inválida\")\n",
    "\n",
    "def get_categoria_idade(idade: int) -> str:\n",
    "    \"\"\"\n",
    "    Retorna a categoria de idade dado um valor inteiro.\n",
    "\n",
    "    Args:\n",
    "        idade (int): Idade em anos.\n",
    "\n",
    "    Returns:\n",
    "        str: Categoria de idade.\n",
    "    \"\"\"\n",
    "    if idade < 16:\n",
    "        return \"Idade inválida\"\n",
    "    elif idade <= 20:\n",
    "        return \"16-20\"\n",
    "    elif idade <= 25:\n",
    "        return \"21-25\"\n",
    "    elif idade <= 30:\n",
    "        return \"26-30\"\n",
    "    elif idade <= 35:\n",
    "        return \"31-35\"\n",
    "    elif idade <= 40:\n",
    "        return \"36-40\"\n",
    "    elif idade <= 45:\n",
    "        return \"41-45\"\n",
    "    elif idade <= 50:\n",
    "        return \"46-50\"\n",
    "    elif idade <= 55:\n",
    "        return \"51-55\"\n",
    "    else:\n",
    "        return \"55+\"\n",
    "\n",
    "def junta_dfs(bpai, aih, apac):\n",
    "    \"\"\"\n",
    "    Junta os dfs de bpai, aih e apac para fazer\n",
    "    a análise de sexo, idade e região\n",
    "    \"\"\"\n",
    "    aih.rename(columns={'co_paciente_sexo':'sexo'}, inplace=True)\n",
    "    aih.rename(columns={'vl_paciente_idade':'idade'}, inplace=True)\n",
    "    aih.rename(columns={'sg_uf':'uf_paciente'}, inplace=True)\n",
    "    apac.rename(columns={'uf_endereco':'uf_paciente'}, inplace=True)\n",
    "    bpai.rename(columns={'co_procedimento_realizado':'co_procedimento_principal'}, inplace=True)\n",
    "    #aih['data'] = aih['dt_internacao']\n",
    "    #apac['data'] = apac['data_inicio']\n",
    "    #bpai['data'] = '01/01/2028' # Preciso inserir uma data para poder juntar os dfs\n",
    "    #bpai['data'] = pd.to_datetime(bpai['data'], format='%d/%m/%Y', errors='coerce')    \n",
    "\n",
    "    cols = ['id_paciente', 'sexo', 'idade', 'uf_paciente', 'data', 'co_procedimento_principal']\n",
    "    all = pd.concat([bpai[cols], aih[cols], apac[cols]])\n",
    "\n",
    "    all['sexo'] = all['sexo'].replace('F','FEMININO')\n",
    "    all['sexo'] = all['sexo'].replace('M','MASCULINO')\n",
    "\n",
    "    all['regiao'] = all['uf_paciente'].map(get_regiao)\n",
    "    all['idade_categoria'] = all['idade'].map(get_categoria_idade)\n",
    "\n",
    "    return all    "
   ]
  },
  {
   "cell_type": "code",
   "execution_count": 11,
   "metadata": {},
   "outputs": [],
   "source": [
    "set_bpai = list(df_lupus_bpai['id_paciente'].unique())\n",
    "set_aih = list(df_lupus_aih['id_paciente'].unique())\n",
    "set_apac = list(df_lupus_apac['id_paciente'].unique())\n",
    "\n",
    "df_lupus_bpai_full = df_bpai.set_index('id_paciente').loc[set_bpai].reset_index()\n",
    "df_lupus_aih_full = df_aih.set_index('id_paciente').loc[set_aih].reset_index()\n",
    "df_lupus_apac_full = df_apac.set_index('id_paciente').loc[set_apac].reset_index()"
   ]
  },
  {
   "cell_type": "markdown",
   "metadata": {},
   "source": [
    "### Resultado Algoritmo 1"
   ]
  },
  {
   "cell_type": "code",
   "execution_count": 12,
   "metadata": {},
   "outputs": [],
   "source": [
    "df_lupus = junta_dfs(df_lupus_bpai_full, df_lupus_aih_full, df_lupus_apac_full)"
   ]
  },
  {
   "cell_type": "markdown",
   "metadata": {},
   "source": [
    "### Filtro Cirurgia"
   ]
  },
  {
   "cell_type": "code",
   "execution_count": 13,
   "metadata": {},
   "outputs": [],
   "source": [
    "df_cirurgia = pd.read_csv('data/procedimentos/dev/procedimentos_cirúrgicos_para_o_baseline.csv')"
   ]
  },
  {
   "cell_type": "code",
   "execution_count": null,
   "metadata": {},
   "outputs": [
    {
     "name": "stdout",
     "output_type": "stream",
     "text": [
      " - Cirurgias na APAC: 1\n",
      " - Cirurgias no BPAI: 27\n",
      " - Cirurgias no BPAI: 191\n"
     ]
    }
   ],
   "source": [
    "# Ajustando o nome dos procedimentos\n",
    "df_union.rename(columns={'co_procedimento_realizado':'co_procedimento_bpai'}, inplace=True)\n",
    "\n",
    "cirurgias_apac_1 = set(df_union['co_procedimento_principal']).intersection(set(df_cirurgia['cod_procedimento']))\n",
    "cirurgias_apac_2 = set(df_union['co_procedimento_secundario']).intersection(set(df_cirurgia['cod_procedimento']))\n",
    "print(' - Cirurgias na APAC:', len(cirurgias_apac_1)+len(cirurgias_apac_2))\n",
    "\n",
    "cirurgias_bpai = set(df_union['co_procedimento_bpai']).intersection(set(df_cirurgia['cod_procedimento']))\n",
    "print(' - Cirurgias no BPAI:', len(cirurgias_bpai))\n",
    "\n",
    "# Verifica quem fez cirurgia\n",
    "cirurgias_aih = set(df_union['co_procedimento_aih']).intersection(set(df_cirurgia['cod_procedimento']))\n",
    "print(' - Cirurgias no BPAI:', len(cirurgias_aih))"
   ]
  },
  {
   "cell_type": "code",
   "execution_count": 15,
   "metadata": {},
   "outputs": [
    {
     "name": "stdout",
     "output_type": "stream",
     "text": [
      " - Pacientes operados na base toda: 9127\n",
      " - Pacientes operados no algoritmo 1: 2061\n"
     ]
    }
   ],
   "source": [
    "# Verificando os procedimentos de cirurgia\n",
    "df_union['cirurgia_aih'] = df_union['co_procedimento_aih'].isin(cirurgias_aih)\n",
    "df_union['cirurgia_bpai'] = df_union['co_procedimento_bpai'].isin(cirurgias_bpai)\n",
    "df_union['cirurgia_apac'] = df_union['co_procedimento_secundario'].isin(cirurgias_apac_2)\n",
    "df_union['cirurgia'] = df_union['cirurgia_aih'] | df_union['cirurgia_bpai'] | df_union['cirurgia_apac']\n",
    "\n",
    "# Pacientes que passaram por algum dos procedimentos\n",
    "# cirúrgicos espefificados (em qualquer uma das bases)\n",
    "aux = df_union.groupby('id_paciente')['cirurgia'].sum()\n",
    "pacientes_operados = set(aux[aux>0].index)\n",
    "\n",
    "print(' - Pacientes operados na base toda:', len(pacientes_operados))\n",
    "print(f' - Pacientes operados no algoritmo {num_algoritmo}:', len(pacientes_operados.intersection(set(df_lupus['id_paciente']))))\n",
    "#print(' - Pacientes operados no algoritmo 2:', len(pacientes_operados.intersection(set(df_lupus_2['id_paciente']))))"
   ]
  },
  {
   "cell_type": "markdown",
   "metadata": {},
   "source": [
    "### Analisando os Pacientes com Lúpus e operados"
   ]
  },
  {
   "cell_type": "code",
   "execution_count": 16,
   "metadata": {},
   "outputs": [
    {
     "name": "stdout",
     "output_type": "stream",
     "text": [
      "sexo\n",
      "1    8570\n",
      "2     417\n",
      "Name: count, dtype: int64\n",
      "regiao\n",
      "1    8573\n",
      "2     404\n",
      "3      10\n",
      "Name: count, dtype: int64\n",
      "idade_categoria\n",
      "2    3587\n",
      "1    2701\n",
      "3    2480\n",
      "4     205\n",
      "5      11\n",
      "6       3\n",
      "Name: count, dtype: int64\n"
     ]
    }
   ],
   "source": [
    "# Questão número 1:\n",
    "# Tem pacientes com mais de 1 sexo e mais de 1 região:\n",
    "# Será que tenho que pegar a data e a região da cirugia? :S\n",
    "count_sexo = df_lupus.groupby('id_paciente')['sexo'].nunique().sort_values()\n",
    "print(count_sexo.value_counts())\n",
    "\n",
    "count_regiao = df_lupus.groupby('id_paciente')['regiao'].nunique().sort_values()\n",
    "print(count_regiao.value_counts())\n",
    "\n",
    "count_idade = df_lupus.groupby('id_paciente')['idade_categoria'].nunique().sort_values()\n",
    "print(count_idade.value_counts())"
   ]
  },
  {
   "cell_type": "markdown",
   "metadata": {},
   "source": [
    "### Tentando pegar os dados no dia da cirurgia\n",
    "Alguns pacientes tem muitas cirurgias, mamma mia"
   ]
  },
  {
   "cell_type": "code",
   "execution_count": null,
   "metadata": {},
   "outputs": [
    {
     "data": {
      "text/plain": [
       "(49501, 8)"
      ]
     },
     "execution_count": 17,
     "metadata": {},
     "output_type": "execute_result"
    }
   ],
   "source": [
    "df_lupus_cirurgia = df_lupus[df_lupus['co_procedimento_principal'].isin(df_cirurgia['cod_procedimento'])]\n",
    "df_lupus_cirurgia.shape"
   ]
  },
  {
   "cell_type": "code",
   "execution_count": 18,
   "metadata": {},
   "outputs": [],
   "source": [
    "# Ainda tá tendo muiito nulo procurando os dados só na aih.. preciso olhar nas outras bases\n",
    "# Tenho que olhar só para os que fizeram cirurgia\n",
    "df_lupus_cirurgia_idx = df_lupus_cirurgia.set_index('id_paciente')\n",
    "\n",
    "def pesquisa_paciente(id_paciente):\n",
    "    if id_paciente not in df_lupus_cirurgia_idx.index:\n",
    "        print(' - Paciente não operou')\n",
    "        return  {id_paciente:{}}\n",
    "\n",
    "    df_paciente = df_lupus_cirurgia_idx.loc[id_paciente]\n",
    "    if isinstance(df_paciente, pd.DataFrame):\n",
    "        opt = set(df_paciente['co_procedimento_principal'])\n",
    "    else:\n",
    "        df_res = df_paciente.to_frame().T\n",
    "        return df_res[['data', 'sexo', 'idade','uf_paciente']]\n",
    "        \n",
    "    id_cirurgias_abs = opt.intersection(set(df_cirurgia['cod_procedimento']))\n",
    "\n",
    "    # Pega o primeiro registro com código de procedimento relacionado às cirugias especificadas\n",
    "    res = df_paciente[df_paciente['co_procedimento_principal'].isin(id_cirurgias_abs)] \\\n",
    "                    [['data', 'sexo', 'idade','uf_paciente']].sort_values('data')\n",
    "    return res\n",
    "\n",
    "def get_info_paciente(id_paciente):\n",
    "    df_paciente = pesquisa_paciente(id_paciente)\n",
    "    \n",
    "    if len(df_paciente) > 0:\n",
    "        return {id_paciente: df_paciente.iloc[0].to_dict()}\n",
    "    else:\n",
    "        print(df_paciente)\n",
    "        return {id_paciente:{}}"
   ]
  },
  {
   "cell_type": "code",
   "execution_count": 26,
   "metadata": {},
   "outputs": [
    {
     "data": {
      "text/html": [
       "<div>\n",
       "<style scoped>\n",
       "    .dataframe tbody tr th:only-of-type {\n",
       "        vertical-align: middle;\n",
       "    }\n",
       "\n",
       "    .dataframe tbody tr th {\n",
       "        vertical-align: top;\n",
       "    }\n",
       "\n",
       "    .dataframe thead th {\n",
       "        text-align: right;\n",
       "    }\n",
       "</style>\n",
       "<table border=\"1\" class=\"dataframe\">\n",
       "  <thead>\n",
       "    <tr style=\"text-align: right;\">\n",
       "      <th></th>\n",
       "      <th>data</th>\n",
       "      <th>sexo</th>\n",
       "      <th>idade</th>\n",
       "      <th>uf_paciente</th>\n",
       "      <th>regiao</th>\n",
       "      <th>idade_categoria</th>\n",
       "    </tr>\n",
       "  </thead>\n",
       "  <tbody>\n",
       "    <tr>\n",
       "      <th>9560651700</th>\n",
       "      <td>2018-11-06 00:00:00</td>\n",
       "      <td>FEMININO</td>\n",
       "      <td>71</td>\n",
       "      <td>RS</td>\n",
       "      <td>Sul</td>\n",
       "      <td>55+</td>\n",
       "    </tr>\n",
       "    <tr>\n",
       "      <th>24552062300</th>\n",
       "      <td>2018-07-23 00:00:00</td>\n",
       "      <td>FEMININO</td>\n",
       "      <td>63</td>\n",
       "      <td>RS</td>\n",
       "      <td>Sul</td>\n",
       "      <td>55+</td>\n",
       "    </tr>\n",
       "    <tr>\n",
       "      <th>20318851600</th>\n",
       "      <td>2018-06-16 00:00:00</td>\n",
       "      <td>FEMININO</td>\n",
       "      <td>22</td>\n",
       "      <td>SP</td>\n",
       "      <td>Sudeste</td>\n",
       "      <td>21-25</td>\n",
       "    </tr>\n",
       "    <tr>\n",
       "      <th>16366847900</th>\n",
       "      <td>2018-06-19 00:00:00</td>\n",
       "      <td>FEMININO</td>\n",
       "      <td>52</td>\n",
       "      <td>MG</td>\n",
       "      <td>Sudeste</td>\n",
       "      <td>51-55</td>\n",
       "    </tr>\n",
       "    <tr>\n",
       "      <th>5034990300</th>\n",
       "      <td>2018-05-22 00:00:00</td>\n",
       "      <td>FEMININO</td>\n",
       "      <td>18</td>\n",
       "      <td>SP</td>\n",
       "      <td>Sudeste</td>\n",
       "      <td>16-20</td>\n",
       "    </tr>\n",
       "  </tbody>\n",
       "</table>\n",
       "</div>"
      ],
      "text/plain": [
       "                            data      sexo idade uf_paciente   regiao  \\\n",
       "9560651700   2018-11-06 00:00:00  FEMININO    71          RS      Sul   \n",
       "24552062300  2018-07-23 00:00:00  FEMININO    63          RS      Sul   \n",
       "20318851600  2018-06-16 00:00:00  FEMININO    22          SP  Sudeste   \n",
       "16366847900  2018-06-19 00:00:00  FEMININO    52          MG  Sudeste   \n",
       "5034990300   2018-05-22 00:00:00  FEMININO    18          SP  Sudeste   \n",
       "\n",
       "            idade_categoria  \n",
       "9560651700              55+  \n",
       "24552062300             55+  \n",
       "20318851600           21-25  \n",
       "16366847900           51-55  \n",
       "5034990300            16-20  "
      ]
     },
     "execution_count": 26,
     "metadata": {},
     "output_type": "execute_result"
    }
   ],
   "source": [
    "set_lupus_cirurgia = df_lupus_cirurgia['id_paciente'].drop_duplicates()\n",
    "infos_pacientes_lupus_cirurgia = set_lupus_cirurgia.map(get_info_paciente)\n",
    "dict_aux = dict(ChainMap(*list(infos_pacientes_lupus_cirurgia)))\n",
    "df_pacientes_lupus_cirurgia = pd.DataFrame.from_dict(dict_aux).T\n",
    "df_pacientes_lupus_cirurgia['regiao'] = df_pacientes_lupus_cirurgia['uf_paciente'].map(get_regiao)\n",
    "df_pacientes_lupus_cirurgia['idade_categoria'] = df_pacientes_lupus_cirurgia['idade'].map(get_categoria_idade)\n",
    "df_pacientes_lupus_cirurgia.head()"
   ]
  },
  {
   "cell_type": "code",
   "execution_count": 27,
   "metadata": {},
   "outputs": [
    {
     "data": {
      "text/plain": [
       "(2060, 6)"
      ]
     },
     "execution_count": 27,
     "metadata": {},
     "output_type": "execute_result"
    }
   ],
   "source": [
    "df_pacientes_lupus_cirurgia.shape"
   ]
  },
  {
   "cell_type": "code",
   "execution_count": 28,
   "metadata": {},
   "outputs": [
    {
     "name": "stdout",
     "output_type": "stream",
     "text": [
      " - Pacientes com lúpus que fizeram curigia abdominal: 2060 de 8987\n"
     ]
    }
   ],
   "source": [
    "print(' - Pacientes com lúpus que fizeram curigia abdominal:',\n",
    "      df_lupus_cirurgia['id_paciente'].nunique(), 'de',\n",
    "      df_lupus['id_paciente'].nunique())"
   ]
  },
  {
   "cell_type": "markdown",
   "metadata": {},
   "source": [
    "### Agora sim analisando os pacientes com Lúpus que operaram"
   ]
  },
  {
   "cell_type": "code",
   "execution_count": 22,
   "metadata": {},
   "outputs": [],
   "source": [
    "df_pacientes_lupus_cirurgia['data'] = pd.to_datetime(df_pacientes_lupus_cirurgia['data'])"
   ]
  },
  {
   "cell_type": "code",
   "execution_count": null,
   "metadata": {},
   "outputs": [
    {
     "data": {
      "text/plain": [
       "sexo\n",
       "FEMININO     0.929612\n",
       "MASCULINO    0.070388\n",
       "Name: proportion, dtype: float64"
      ]
     },
     "execution_count": 23,
     "metadata": {},
     "output_type": "execute_result"
    }
   ],
   "source": [
    "df_pacientes_lupus_cirurgia['sexo'].value_counts(normalize=True)"
   ]
  },
  {
   "cell_type": "code",
   "execution_count": 24,
   "metadata": {},
   "outputs": [
    {
     "data": {
      "text/plain": [
       "regiao\n",
       "Sudeste         0.508252\n",
       "Sul             0.206796\n",
       "Nordeste        0.197573\n",
       "Centro-Oeste    0.063592\n",
       "Norte           0.023786\n",
       "Name: proportion, dtype: float64"
      ]
     },
     "execution_count": 24,
     "metadata": {},
     "output_type": "execute_result"
    }
   ],
   "source": [
    "df_pacientes_lupus_cirurgia['regiao'].value_counts(normalize=True)"
   ]
  },
  {
   "cell_type": "code",
   "execution_count": 25,
   "metadata": {},
   "outputs": [
    {
     "data": {
      "text/plain": [
       "idade_categoria\n",
       "21-25             0.196117\n",
       "26-30             0.168447\n",
       "16-20             0.148544\n",
       "31-35             0.142233\n",
       "36-40             0.086408\n",
       "Idade inválida    0.069417\n",
       "41-45             0.062621\n",
       "46-50             0.050485\n",
       "55+               0.045631\n",
       "51-55             0.030097\n",
       "Name: proportion, dtype: float64"
      ]
     },
     "execution_count": 25,
     "metadata": {},
     "output_type": "execute_result"
    }
   ],
   "source": [
    "df_pacientes_lupus_cirurgia['idade_categoria'].value_counts(normalize=True)"
   ]
  },
  {
   "cell_type": "markdown",
   "metadata": {},
   "source": [
    "### Com o filtro de idade"
   ]
  },
  {
   "cell_type": "code",
   "execution_count": 62,
   "metadata": {},
   "outputs": [],
   "source": [
    "df_lupus_cirurgia_idade = df_pacientes_lupus_cirurgia[df_pacientes_lupus_cirurgia['idade'] >= 18]"
   ]
  },
  {
   "cell_type": "code",
   "execution_count": 46,
   "metadata": {},
   "outputs": [
    {
     "data": {
      "text/plain": [
       "(1773, 6)"
      ]
     },
     "execution_count": 46,
     "metadata": {},
     "output_type": "execute_result"
    }
   ],
   "source": [
    "df_lupus_cirurgia_idade.shape"
   ]
  },
  {
   "cell_type": "code",
   "execution_count": 42,
   "metadata": {},
   "outputs": [
    {
     "data": {
      "text/plain": [
       "sexo\n",
       "FEMININO     94.21713\n",
       "MASCULINO     5.78287\n",
       "Name: proportion, dtype: float64"
      ]
     },
     "execution_count": 42,
     "metadata": {},
     "output_type": "execute_result"
    }
   ],
   "source": [
    "df_lupus_cirurgia_idade['sexo'].value_counts(normalize=True)*100"
   ]
  },
  {
   "cell_type": "code",
   "execution_count": 43,
   "metadata": {},
   "outputs": [
    {
     "data": {
      "text/plain": [
       "idade_categoria\n",
       "21-25    22.040371\n",
       "26-30    18.930715\n",
       "31-35    15.984724\n",
       "16-20    12.111293\n",
       "36-40     9.710857\n",
       "41-45     7.037643\n",
       "46-50     5.673759\n",
       "55+       5.128205\n",
       "51-55     3.382433\n",
       "Name: proportion, dtype: float64"
      ]
     },
     "execution_count": 43,
     "metadata": {},
     "output_type": "execute_result"
    }
   ],
   "source": [
    "df_lupus_cirurgia_idade['idade_categoria'].value_counts(normalize=True)*100"
   ]
  },
  {
   "cell_type": "code",
   "execution_count": 44,
   "metadata": {},
   "outputs": [
    {
     "data": {
      "text/plain": [
       "regiao\n",
       "Sudeste         51.500273\n",
       "Nordeste        20.567376\n",
       "Sul             19.258047\n",
       "Centro-Oeste     6.492089\n",
       "Norte            2.182215\n",
       "Name: proportion, dtype: float64"
      ]
     },
     "execution_count": 44,
     "metadata": {},
     "output_type": "execute_result"
    }
   ],
   "source": [
    "df_lupus_cirurgia_idade['regiao'].value_counts(normalize=True)*100"
   ]
  },
  {
   "cell_type": "markdown",
   "metadata": {},
   "source": [
    "### Teste"
   ]
  },
  {
   "cell_type": "code",
   "execution_count": 50,
   "metadata": {},
   "outputs": [],
   "source": [
    "#t = pd.read_parquet('data/pendrive/primeira_data_lupus.parquet')\n",
    "tf = pd.read_parquet('data/pendrive/ids_pareados_passo_final_pareamento.parquet')"
   ]
  },
  {
   "cell_type": "code",
   "execution_count": 56,
   "metadata": {},
   "outputs": [],
   "source": [
    "tc2 = pd.read_parquet('data/pendrive/caso_passo2_com_categorias_com_riscos.parquet')"
   ]
  },
  {
   "cell_type": "code",
   "execution_count": 60,
   "metadata": {},
   "outputs": [
    {
     "data": {
      "text/html": [
       "<div>\n",
       "<style scoped>\n",
       "    .dataframe tbody tr th:only-of-type {\n",
       "        vertical-align: middle;\n",
       "    }\n",
       "\n",
       "    .dataframe tbody tr th {\n",
       "        vertical-align: top;\n",
       "    }\n",
       "\n",
       "    .dataframe thead th {\n",
       "        text-align: right;\n",
       "    }\n",
       "</style>\n",
       "<table border=\"1\" class=\"dataframe\">\n",
       "  <thead>\n",
       "    <tr style=\"text-align: right;\">\n",
       "      <th></th>\n",
       "      <th>197</th>\n",
       "      <th>317</th>\n",
       "    </tr>\n",
       "  </thead>\n",
       "  <tbody>\n",
       "    <tr>\n",
       "      <th>id_paciente</th>\n",
       "      <td>1501389400</td>\n",
       "      <td>3232240600</td>\n",
       "    </tr>\n",
       "    <tr>\n",
       "      <th>procedimento_principal</th>\n",
       "      <td>PARTO CESARIANO EM GESTACAO DE ALTO RISCO</td>\n",
       "      <td>DRENAGEM DE HEMATOMA / ABSCESSO PRE-PERITONEAL</td>\n",
       "    </tr>\n",
       "    <tr>\n",
       "      <th>sexo</th>\n",
       "      <td>FEMININO</td>\n",
       "      <td>FEMININO</td>\n",
       "    </tr>\n",
       "    <tr>\n",
       "      <th>idade</th>\n",
       "      <td>28.0</td>\n",
       "      <td>47.0</td>\n",
       "    </tr>\n",
       "    <tr>\n",
       "      <th>region</th>\n",
       "      <td>Nordeste</td>\n",
       "      <td>Sul</td>\n",
       "    </tr>\n",
       "    <tr>\n",
       "      <th>no_cid_principal</th>\n",
       "      <td>GRAVIDEZ DUPLA</td>\n",
       "      <td>ABSCESSO CUTANEO, FURUNCULO E ANTRAZ DO TRONCO</td>\n",
       "    </tr>\n",
       "    <tr>\n",
       "      <th>baseline_internacao</th>\n",
       "      <td>2018-03-12</td>\n",
       "      <td>2018-05-06</td>\n",
       "    </tr>\n",
       "    <tr>\n",
       "      <th>Categoria</th>\n",
       "      <td>Obstetricia</td>\n",
       "      <td>Cirurgia Emergencia inflamatória</td>\n",
       "    </tr>\n",
       "    <tr>\n",
       "      <th>nu_prontuario</th>\n",
       "      <td>663596</td>\n",
       "      <td>736133</td>\n",
       "    </tr>\n",
       "    <tr>\n",
       "      <th>baseline_anoantes</th>\n",
       "      <td>2017-03-12</td>\n",
       "      <td>2017-05-06</td>\n",
       "    </tr>\n",
       "    <tr>\n",
       "      <th>SemRisco</th>\n",
       "      <td>Sim</td>\n",
       "      <td>Não</td>\n",
       "    </tr>\n",
       "    <tr>\n",
       "      <th>outros procedimentos</th>\n",
       "      <td>Não</td>\n",
       "      <td>Sim</td>\n",
       "    </tr>\n",
       "    <tr>\n",
       "      <th>obstetrícia</th>\n",
       "      <td>Não</td>\n",
       "      <td>Não</td>\n",
       "    </tr>\n",
       "    <tr>\n",
       "      <th>comorbidades</th>\n",
       "      <td>Não</td>\n",
       "      <td>Sim</td>\n",
       "    </tr>\n",
       "    <tr>\n",
       "      <th>doenças cardiovascular</th>\n",
       "      <td>Não</td>\n",
       "      <td>Sim</td>\n",
       "    </tr>\n",
       "  </tbody>\n",
       "</table>\n",
       "</div>"
      ],
      "text/plain": [
       "                                                              197  \\\n",
       "id_paciente                                            1501389400   \n",
       "procedimento_principal  PARTO CESARIANO EM GESTACAO DE ALTO RISCO   \n",
       "sexo                                                     FEMININO   \n",
       "idade                                                        28.0   \n",
       "region                                                   Nordeste   \n",
       "no_cid_principal                                   GRAVIDEZ DUPLA   \n",
       "baseline_internacao                                    2018-03-12   \n",
       "Categoria                                             Obstetricia   \n",
       "nu_prontuario                                              663596   \n",
       "baseline_anoantes                                      2017-03-12   \n",
       "SemRisco                                                      Sim   \n",
       "outros procedimentos                                          Não   \n",
       "obstetrícia                                                   Não   \n",
       "comorbidades                                                  Não   \n",
       "doenças cardiovascular                                        Não   \n",
       "\n",
       "                                                                   317  \n",
       "id_paciente                                                 3232240600  \n",
       "procedimento_principal  DRENAGEM DE HEMATOMA / ABSCESSO PRE-PERITONEAL  \n",
       "sexo                                                          FEMININO  \n",
       "idade                                                             47.0  \n",
       "region                                                             Sul  \n",
       "no_cid_principal        ABSCESSO CUTANEO, FURUNCULO E ANTRAZ DO TRONCO  \n",
       "baseline_internacao                                         2018-05-06  \n",
       "Categoria                             Cirurgia Emergencia inflamatória  \n",
       "nu_prontuario                                                   736133  \n",
       "baseline_anoantes                                           2017-05-06  \n",
       "SemRisco                                                           Não  \n",
       "outros procedimentos                                               Sim  \n",
       "obstetrícia                                                        Não  \n",
       "comorbidades                                                       Sim  \n",
       "doenças cardiovascular                                             Sim  "
      ]
     },
     "execution_count": 60,
     "metadata": {},
     "output_type": "execute_result"
    }
   ],
   "source": [
    "tc2.sample(2).T"
   ]
  },
  {
   "cell_type": "code",
   "execution_count": 68,
   "metadata": {},
   "outputs": [],
   "source": [
    "dfj = df_lupus_cirurgia_idade.join(tc2.set_index('id_paciente'), rsuffix='_franc')"
   ]
  },
  {
   "cell_type": "code",
   "execution_count": 73,
   "metadata": {},
   "outputs": [
    {
     "data": {
      "text/plain": [
       "np.int64(0)"
      ]
     },
     "execution_count": 73,
     "metadata": {},
     "output_type": "execute_result"
    }
   ],
   "source": [
    "tc2['id_paciente'].isin(df_lupus_cirurgia.index).sum()"
   ]
  },
  {
   "cell_type": "code",
   "execution_count": 79,
   "metadata": {},
   "outputs": [
    {
     "data": {
      "text/plain": [
       "528"
      ]
     },
     "execution_count": 79,
     "metadata": {},
     "output_type": "execute_result"
    }
   ],
   "source": [
    "df_lupus_cirurgia[df_lupus_cirurgia['id_paciente'].isin(tc2['id_paciente'])]['id_paciente'].nunique()"
   ]
  },
  {
   "cell_type": "code",
   "execution_count": 83,
   "metadata": {},
   "outputs": [
    {
     "data": {
      "text/plain": [
       "np.int64(628)"
      ]
     },
     "execution_count": 83,
     "metadata": {},
     "output_type": "execute_result"
    }
   ],
   "source": [
    "tc2['id_paciente'].isin(df_lupus['id_paciente']).sum()"
   ]
  },
  {
   "cell_type": "code",
   "execution_count": 81,
   "metadata": {},
   "outputs": [
    {
     "data": {
      "text/plain": [
       "71874"
      ]
     },
     "execution_count": 81,
     "metadata": {},
     "output_type": "execute_result"
    }
   ],
   "source": [
    "df_union['id_paciente'].nunique()"
   ]
  },
  {
   "cell_type": "code",
   "execution_count": 93,
   "metadata": {},
   "outputs": [
    {
     "data": {
      "text/plain": [
       "(1080, 15)"
      ]
     },
     "execution_count": 93,
     "metadata": {},
     "output_type": "execute_result"
    }
   ],
   "source": [
    "tc2[~tc2['id_paciente'].isin(df_lupus['id_paciente'])].shape\n",
    "#df_lupus_cirurgia[df_lupus_cirurgia['id_paciente'].isin(tc2['id_paciente'])]['id_paciente'].nunique()"
   ]
  },
  {
   "cell_type": "code",
   "execution_count": 91,
   "metadata": {},
   "outputs": [
    {
     "data": {
      "text/plain": [
       "Index(['id_paciente', 'dt_internacao', 'dt_saida', 'dt_paciente_nascimento',\n",
       "       'nu_prontuario', 'co_paciente_sexo', 'vl_paciente_idade', 'raca',\n",
       "       'sg_uf', 'no_municipio', 'dt_emissao', 'co_cnes',\n",
       "       'co_procedimento_principal', 'procedimento_principal',\n",
       "       'desc_procedimento_secundario', 'ds_carater', 'ds_descricao',\n",
       "       'qt_diarias', 'qt_diarias_uti', 'qt_diarias_ui', 'complexidade',\n",
       "       'co_cid_obito', 'co_cid_principal', 'no_cid_principal',\n",
       "       'co_cid_secundario', 'no_cid_secundario', 'co_cid_secundario_1',\n",
       "       'co_cid_secundario_2', 'co_cid_secundario_3', 'co_cid_secundario_4',\n",
       "       'co_cid_secundario_5', 'co_cid_secundario_6', 'co_cid_secundario_7',\n",
       "       'co_cid_secundario_8', 'co_cid_secundario_9', 'data'],\n",
       "      dtype='object')"
      ]
     },
     "execution_count": 91,
     "metadata": {},
     "output_type": "execute_result"
    }
   ],
   "source": [
    "df_aih.columns"
   ]
  },
  {
   "cell_type": "code",
   "execution_count": 92,
   "metadata": {},
   "outputs": [
    {
     "data": {
      "text/html": [
       "<div>\n",
       "<style scoped>\n",
       "    .dataframe tbody tr th:only-of-type {\n",
       "        vertical-align: middle;\n",
       "    }\n",
       "\n",
       "    .dataframe tbody tr th {\n",
       "        vertical-align: top;\n",
       "    }\n",
       "\n",
       "    .dataframe thead th {\n",
       "        text-align: right;\n",
       "    }\n",
       "</style>\n",
       "<table border=\"1\" class=\"dataframe\">\n",
       "  <thead>\n",
       "    <tr style=\"text-align: right;\">\n",
       "      <th></th>\n",
       "      <th>procedimento_principal</th>\n",
       "      <th>desc_procedimento_secundario</th>\n",
       "    </tr>\n",
       "  </thead>\n",
       "  <tbody>\n",
       "    <tr>\n",
       "      <th>481082</th>\n",
       "      <td>TRATAMENTO DE INFECÇÕES VIRAIS DO SISTEMA NERV...</td>\n",
       "      <td>TRATAMENTO DE INFECCOES VIRAIS DO SISTEMA NERV...</td>\n",
       "    </tr>\n",
       "    <tr>\n",
       "      <th>481109</th>\n",
       "      <td>TRATAMENTO DE INFECÇÕES VIRAIS DO SISTEMA NERV...</td>\n",
       "      <td>PUNCAO LOMBAR</td>\n",
       "    </tr>\n",
       "    <tr>\n",
       "      <th>481115</th>\n",
       "      <td>TRATAMENTO DE INFECÇÕES VIRAIS DO SISTEMA NERV...</td>\n",
       "      <td>TRATAMENTO DE INFECCOES VIRAIS DO SISTEMA NERV...</td>\n",
       "    </tr>\n",
       "    <tr>\n",
       "      <th>481407</th>\n",
       "      <td>TRATAMENTO DE INFECÇÕES VIRAIS DO SISTEMA NERV...</td>\n",
       "      <td>CONSULTA/AVALIAÇÃO EM PACIENTE INTERNADO</td>\n",
       "    </tr>\n",
       "    <tr>\n",
       "      <th>481447</th>\n",
       "      <td>TRATAMENTO DE INFECÇÕES VIRAIS DO SISTEMA NERV...</td>\n",
       "      <td>CONSULTA DE PROFISSIONAIS DE NIVEL SUPERIOR NA...</td>\n",
       "    </tr>\n",
       "    <tr>\n",
       "      <th>708077</th>\n",
       "      <td>TRATAMENTO DAS POLIARTROPATIAS INFLAMATORIAS</td>\n",
       "      <td>TRATAMENTO DAS POLIARTROPATIAS INFLAMATORIAS</td>\n",
       "    </tr>\n",
       "    <tr>\n",
       "      <th>708899</th>\n",
       "      <td>TRATAMENTO DAS POLIARTROPATIAS INFLAMATORIAS</td>\n",
       "      <td>TRATAMENTO DAS POLIARTROPATIAS INFLAMATORIAS</td>\n",
       "    </tr>\n",
       "    <tr>\n",
       "      <th>719117</th>\n",
       "      <td>TRATAMENTO DAS POLIARTROPATIAS INFLAMATORIAS</td>\n",
       "      <td>CONSULTA/AVALIAÇÃO EM PACIENTE INTERNADO</td>\n",
       "    </tr>\n",
       "    <tr>\n",
       "      <th>719231</th>\n",
       "      <td>TRATAMENTO DAS POLIARTROPATIAS INFLAMATORIAS</td>\n",
       "      <td>TOMOGRAFIA COMPUTADORIZADA DO CRANIO</td>\n",
       "    </tr>\n",
       "    <tr>\n",
       "      <th>1761579</th>\n",
       "      <td>LAQUEADURA TUBARIA</td>\n",
       "      <td>LAQUEADURA TUBARIA</td>\n",
       "    </tr>\n",
       "    <tr>\n",
       "      <th>1762264</th>\n",
       "      <td>LAQUEADURA TUBARIA</td>\n",
       "      <td>LAQUEADURA TUBARIA</td>\n",
       "    </tr>\n",
       "    <tr>\n",
       "      <th>1763057</th>\n",
       "      <td>LAQUEADURA TUBARIA</td>\n",
       "      <td>LAQUEADURA TUBARIA</td>\n",
       "    </tr>\n",
       "    <tr>\n",
       "      <th>2125134</th>\n",
       "      <td>TRATAMENTO DE OUTRAS DOENÇAS DO SANGUE E DOS Ó...</td>\n",
       "      <td>DOSAGEM DE HORMONIO TIREOESTIMULANTE (TSH)</td>\n",
       "    </tr>\n",
       "    <tr>\n",
       "      <th>2132861</th>\n",
       "      <td>TRATAMENTO DE OUTRAS DOENÇAS DO SANGUE E DOS Ó...</td>\n",
       "      <td>DOSAGEM DE AMILASE</td>\n",
       "    </tr>\n",
       "    <tr>\n",
       "      <th>2135649</th>\n",
       "      <td>TRATAMENTO DE OUTRAS DOENÇAS DO SANGUE E DOS Ó...</td>\n",
       "      <td>DOSAGEM DE TRANSAMINASE GLUTAMICO-PIRUVICA (TGP)</td>\n",
       "    </tr>\n",
       "    <tr>\n",
       "      <th>2135866</th>\n",
       "      <td>TRATAMENTO DE OUTRAS DOENÇAS DO SANGUE E DOS Ó...</td>\n",
       "      <td>TRATAMENTO DE OUTRAS DOENCAS DO SANGUE E DOS O...</td>\n",
       "    </tr>\n",
       "    <tr>\n",
       "      <th>2136489</th>\n",
       "      <td>TRATAMENTO DE OUTRAS DOENÇAS DO SANGUE E DOS Ó...</td>\n",
       "      <td>DOSAGEM DE MAGNESIO</td>\n",
       "    </tr>\n",
       "    <tr>\n",
       "      <th>2136810</th>\n",
       "      <td>TRATAMENTO DE OUTRAS DOENÇAS DO SANGUE E DOS Ó...</td>\n",
       "      <td>TRATAMENTO DE OUTRAS DOENCAS DO SANGUE E DOS O...</td>\n",
       "    </tr>\n",
       "    <tr>\n",
       "      <th>2137278</th>\n",
       "      <td>TRATAMENTO DE OUTRAS DOENÇAS DO SANGUE E DOS Ó...</td>\n",
       "      <td>BACTERIOSCOPIA (GRAM)</td>\n",
       "    </tr>\n",
       "    <tr>\n",
       "      <th>2137727</th>\n",
       "      <td>TRATAMENTO DE OUTRAS DOENÇAS DO SANGUE E DOS Ó...</td>\n",
       "      <td>CULTURA DE BACTERIAS P/ IDENTIFICACAO</td>\n",
       "    </tr>\n",
       "    <tr>\n",
       "      <th>2137787</th>\n",
       "      <td>TRATAMENTO DE OUTRAS DOENÇAS DO SANGUE E DOS Ó...</td>\n",
       "      <td>DOSAGEM DE TIROXINA LIVRE (T4 LIVRE)</td>\n",
       "    </tr>\n",
       "    <tr>\n",
       "      <th>2141398</th>\n",
       "      <td>TRATAMENTO DE OUTRAS DOENÇAS DO SANGUE E DOS Ó...</td>\n",
       "      <td>DOSAGEM DE LIPASE</td>\n",
       "    </tr>\n",
       "    <tr>\n",
       "      <th>2141967</th>\n",
       "      <td>TRATAMENTO DE OUTRAS DOENÇAS DO SANGUE E DOS Ó...</td>\n",
       "      <td>ANALISE DE CARACTERES FISICOS, ELEMENTOS E SED...</td>\n",
       "    </tr>\n",
       "    <tr>\n",
       "      <th>2142581</th>\n",
       "      <td>TRATAMENTO DE OUTRAS DOENÇAS DO SANGUE E DOS Ó...</td>\n",
       "      <td>DOSAGEM DE CREATININA</td>\n",
       "    </tr>\n",
       "    <tr>\n",
       "      <th>2143253</th>\n",
       "      <td>TRATAMENTO DE OUTRAS DOENÇAS DO SANGUE E DOS Ó...</td>\n",
       "      <td>DOSAGEM DE PROTEINA C REATIVA</td>\n",
       "    </tr>\n",
       "    <tr>\n",
       "      <th>2143264</th>\n",
       "      <td>TRATAMENTO DE OUTRAS DOENÇAS DO SANGUE E DOS Ó...</td>\n",
       "      <td>DOSAGEM DE CREATININA</td>\n",
       "    </tr>\n",
       "    <tr>\n",
       "      <th>2143299</th>\n",
       "      <td>TRATAMENTO DE OUTRAS DOENÇAS DO SANGUE E DOS Ó...</td>\n",
       "      <td>DOSAGEM DE POTASSIO</td>\n",
       "    </tr>\n",
       "    <tr>\n",
       "      <th>2143386</th>\n",
       "      <td>TRATAMENTO DE OUTRAS DOENÇAS DO SANGUE E DOS Ó...</td>\n",
       "      <td>DOSAGEM DE UREIA</td>\n",
       "    </tr>\n",
       "    <tr>\n",
       "      <th>2143495</th>\n",
       "      <td>TRATAMENTO DE OUTRAS DOENÇAS DO SANGUE E DOS Ó...</td>\n",
       "      <td>DOSAGEM DE PROTEINAS TOTAIS E FRACOES</td>\n",
       "    </tr>\n",
       "    <tr>\n",
       "      <th>2143635</th>\n",
       "      <td>TRATAMENTO DE OUTRAS DOENÇAS DO SANGUE E DOS Ó...</td>\n",
       "      <td>HEMOGRAMA COMPLETO</td>\n",
       "    </tr>\n",
       "    <tr>\n",
       "      <th>2144200</th>\n",
       "      <td>TRATAMENTO DE OUTRAS DOENÇAS DO SANGUE E DOS Ó...</td>\n",
       "      <td>HEMOCULTURA</td>\n",
       "    </tr>\n",
       "    <tr>\n",
       "      <th>2144221</th>\n",
       "      <td>TRATAMENTO DE OUTRAS DOENÇAS DO SANGUE E DOS Ó...</td>\n",
       "      <td>DIÁRIA DE PERMANÊNCIA A MAIOR</td>\n",
       "    </tr>\n",
       "    <tr>\n",
       "      <th>2144413</th>\n",
       "      <td>TRATAMENTO DE OUTRAS DOENÇAS DO SANGUE E DOS Ó...</td>\n",
       "      <td>DOSAGEM DE LACTATO</td>\n",
       "    </tr>\n",
       "    <tr>\n",
       "      <th>2145941</th>\n",
       "      <td>TRATAMENTO DE OUTRAS DOENÇAS DO SANGUE E DOS Ó...</td>\n",
       "      <td>DOSAGEM DE SODIO</td>\n",
       "    </tr>\n",
       "    <tr>\n",
       "      <th>2146145</th>\n",
       "      <td>TRATAMENTO DE OUTRAS DOENÇAS DO SANGUE E DOS Ó...</td>\n",
       "      <td>PROVA DE CONSUMO DE PROTROMBINA</td>\n",
       "    </tr>\n",
       "    <tr>\n",
       "      <th>2146737</th>\n",
       "      <td>TRATAMENTO DE OUTRAS DOENÇAS DO SANGUE E DOS Ó...</td>\n",
       "      <td>TOMOGRAFIA COMPUTADORIZADA DE ABDOMEN SUPERIOR</td>\n",
       "    </tr>\n",
       "    <tr>\n",
       "      <th>2147153</th>\n",
       "      <td>TRATAMENTO DE OUTRAS DOENÇAS DO SANGUE E DOS Ó...</td>\n",
       "      <td>DETERMINACAO DE VELOCIDADE DE HEMOSSEDIMENTACA...</td>\n",
       "    </tr>\n",
       "    <tr>\n",
       "      <th>2147320</th>\n",
       "      <td>TRATAMENTO DE OUTRAS DOENÇAS DO SANGUE E DOS Ó...</td>\n",
       "      <td>DOSAGEM DE TRANSAMINASE GLUTAMICO-OXALACETICA ...</td>\n",
       "    </tr>\n",
       "  </tbody>\n",
       "</table>\n",
       "</div>"
      ],
      "text/plain": [
       "                                    procedimento_principal  \\\n",
       "481082   TRATAMENTO DE INFECÇÕES VIRAIS DO SISTEMA NERV...   \n",
       "481109   TRATAMENTO DE INFECÇÕES VIRAIS DO SISTEMA NERV...   \n",
       "481115   TRATAMENTO DE INFECÇÕES VIRAIS DO SISTEMA NERV...   \n",
       "481407   TRATAMENTO DE INFECÇÕES VIRAIS DO SISTEMA NERV...   \n",
       "481447   TRATAMENTO DE INFECÇÕES VIRAIS DO SISTEMA NERV...   \n",
       "708077        TRATAMENTO DAS POLIARTROPATIAS INFLAMATORIAS   \n",
       "708899        TRATAMENTO DAS POLIARTROPATIAS INFLAMATORIAS   \n",
       "719117        TRATAMENTO DAS POLIARTROPATIAS INFLAMATORIAS   \n",
       "719231        TRATAMENTO DAS POLIARTROPATIAS INFLAMATORIAS   \n",
       "1761579                                 LAQUEADURA TUBARIA   \n",
       "1762264                                 LAQUEADURA TUBARIA   \n",
       "1763057                                 LAQUEADURA TUBARIA   \n",
       "2125134  TRATAMENTO DE OUTRAS DOENÇAS DO SANGUE E DOS Ó...   \n",
       "2132861  TRATAMENTO DE OUTRAS DOENÇAS DO SANGUE E DOS Ó...   \n",
       "2135649  TRATAMENTO DE OUTRAS DOENÇAS DO SANGUE E DOS Ó...   \n",
       "2135866  TRATAMENTO DE OUTRAS DOENÇAS DO SANGUE E DOS Ó...   \n",
       "2136489  TRATAMENTO DE OUTRAS DOENÇAS DO SANGUE E DOS Ó...   \n",
       "2136810  TRATAMENTO DE OUTRAS DOENÇAS DO SANGUE E DOS Ó...   \n",
       "2137278  TRATAMENTO DE OUTRAS DOENÇAS DO SANGUE E DOS Ó...   \n",
       "2137727  TRATAMENTO DE OUTRAS DOENÇAS DO SANGUE E DOS Ó...   \n",
       "2137787  TRATAMENTO DE OUTRAS DOENÇAS DO SANGUE E DOS Ó...   \n",
       "2141398  TRATAMENTO DE OUTRAS DOENÇAS DO SANGUE E DOS Ó...   \n",
       "2141967  TRATAMENTO DE OUTRAS DOENÇAS DO SANGUE E DOS Ó...   \n",
       "2142581  TRATAMENTO DE OUTRAS DOENÇAS DO SANGUE E DOS Ó...   \n",
       "2143253  TRATAMENTO DE OUTRAS DOENÇAS DO SANGUE E DOS Ó...   \n",
       "2143264  TRATAMENTO DE OUTRAS DOENÇAS DO SANGUE E DOS Ó...   \n",
       "2143299  TRATAMENTO DE OUTRAS DOENÇAS DO SANGUE E DOS Ó...   \n",
       "2143386  TRATAMENTO DE OUTRAS DOENÇAS DO SANGUE E DOS Ó...   \n",
       "2143495  TRATAMENTO DE OUTRAS DOENÇAS DO SANGUE E DOS Ó...   \n",
       "2143635  TRATAMENTO DE OUTRAS DOENÇAS DO SANGUE E DOS Ó...   \n",
       "2144200  TRATAMENTO DE OUTRAS DOENÇAS DO SANGUE E DOS Ó...   \n",
       "2144221  TRATAMENTO DE OUTRAS DOENÇAS DO SANGUE E DOS Ó...   \n",
       "2144413  TRATAMENTO DE OUTRAS DOENÇAS DO SANGUE E DOS Ó...   \n",
       "2145941  TRATAMENTO DE OUTRAS DOENÇAS DO SANGUE E DOS Ó...   \n",
       "2146145  TRATAMENTO DE OUTRAS DOENÇAS DO SANGUE E DOS Ó...   \n",
       "2146737  TRATAMENTO DE OUTRAS DOENÇAS DO SANGUE E DOS Ó...   \n",
       "2147153  TRATAMENTO DE OUTRAS DOENÇAS DO SANGUE E DOS Ó...   \n",
       "2147320  TRATAMENTO DE OUTRAS DOENÇAS DO SANGUE E DOS Ó...   \n",
       "\n",
       "                              desc_procedimento_secundario  \n",
       "481082   TRATAMENTO DE INFECCOES VIRAIS DO SISTEMA NERV...  \n",
       "481109                                       PUNCAO LOMBAR  \n",
       "481115   TRATAMENTO DE INFECCOES VIRAIS DO SISTEMA NERV...  \n",
       "481407            CONSULTA/AVALIAÇÃO EM PACIENTE INTERNADO  \n",
       "481447   CONSULTA DE PROFISSIONAIS DE NIVEL SUPERIOR NA...  \n",
       "708077        TRATAMENTO DAS POLIARTROPATIAS INFLAMATORIAS  \n",
       "708899        TRATAMENTO DAS POLIARTROPATIAS INFLAMATORIAS  \n",
       "719117            CONSULTA/AVALIAÇÃO EM PACIENTE INTERNADO  \n",
       "719231                TOMOGRAFIA COMPUTADORIZADA DO CRANIO  \n",
       "1761579                                 LAQUEADURA TUBARIA  \n",
       "1762264                                 LAQUEADURA TUBARIA  \n",
       "1763057                                 LAQUEADURA TUBARIA  \n",
       "2125134         DOSAGEM DE HORMONIO TIREOESTIMULANTE (TSH)  \n",
       "2132861                                 DOSAGEM DE AMILASE  \n",
       "2135649   DOSAGEM DE TRANSAMINASE GLUTAMICO-PIRUVICA (TGP)  \n",
       "2135866  TRATAMENTO DE OUTRAS DOENCAS DO SANGUE E DOS O...  \n",
       "2136489                                DOSAGEM DE MAGNESIO  \n",
       "2136810  TRATAMENTO DE OUTRAS DOENCAS DO SANGUE E DOS O...  \n",
       "2137278                              BACTERIOSCOPIA (GRAM)  \n",
       "2137727              CULTURA DE BACTERIAS P/ IDENTIFICACAO  \n",
       "2137787               DOSAGEM DE TIROXINA LIVRE (T4 LIVRE)  \n",
       "2141398                                  DOSAGEM DE LIPASE  \n",
       "2141967  ANALISE DE CARACTERES FISICOS, ELEMENTOS E SED...  \n",
       "2142581                              DOSAGEM DE CREATININA  \n",
       "2143253                      DOSAGEM DE PROTEINA C REATIVA  \n",
       "2143264                              DOSAGEM DE CREATININA  \n",
       "2143299                                DOSAGEM DE POTASSIO  \n",
       "2143386                                   DOSAGEM DE UREIA  \n",
       "2143495              DOSAGEM DE PROTEINAS TOTAIS E FRACOES  \n",
       "2143635                                 HEMOGRAMA COMPLETO  \n",
       "2144200                                        HEMOCULTURA  \n",
       "2144221                      DIÁRIA DE PERMANÊNCIA A MAIOR  \n",
       "2144413                                 DOSAGEM DE LACTATO  \n",
       "2145941                                   DOSAGEM DE SODIO  \n",
       "2146145                    PROVA DE CONSUMO DE PROTROMBINA  \n",
       "2146737     TOMOGRAFIA COMPUTADORIZADA DE ABDOMEN SUPERIOR  \n",
       "2147153  DETERMINACAO DE VELOCIDADE DE HEMOSSEDIMENTACA...  \n",
       "2147320  DOSAGEM DE TRANSAMINASE GLUTAMICO-OXALACETICA ...  "
      ]
     },
     "execution_count": 92,
     "metadata": {},
     "output_type": "execute_result"
    }
   ],
   "source": [
    "df_aih.loc[df_aih['id_paciente']==563459000, ['procedimento_principal', 'desc_procedimento_secundario']]"
   ]
  },
  {
   "cell_type": "code",
   "execution_count": null,
   "metadata": {},
   "outputs": [],
   "source": []
  },
  {
   "cell_type": "code",
   "execution_count": 88,
   "metadata": {},
   "outputs": [
    {
     "name": "stdout",
     "output_type": "stream",
     "text": [
      " - Paciente não operou\n"
     ]
    },
    {
     "data": {
      "text/plain": [
       "{563459000: {}}"
      ]
     },
     "execution_count": 88,
     "metadata": {},
     "output_type": "execute_result"
    }
   ],
   "source": [
    "pesquisa_paciente(563459000)"
   ]
  }
 ],
 "metadata": {
  "kernelspec": {
   "display_name": "Python 3",
   "language": "python",
   "name": "python3"
  },
  "language_info": {
   "codemirror_mode": {
    "name": "ipython",
    "version": 3
   },
   "file_extension": ".py",
   "mimetype": "text/x-python",
   "name": "python",
   "nbconvert_exporter": "python",
   "pygments_lexer": "ipython3",
   "version": "3.12.8"
  }
 },
 "nbformat": 4,
 "nbformat_minor": 2
}
