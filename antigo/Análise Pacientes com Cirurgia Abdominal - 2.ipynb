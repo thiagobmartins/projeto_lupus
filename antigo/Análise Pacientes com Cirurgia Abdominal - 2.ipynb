{
 "cells": [
  {
   "cell_type": "markdown",
   "metadata": {},
   "source": [
    "# Analisando Pacientes e Riscos"
   ]
  },
  {
   "cell_type": "markdown",
   "metadata": {},
   "source": [
    "## imports"
   ]
  },
  {
   "cell_type": "code",
   "execution_count": null,
   "metadata": {},
   "outputs": [
    {
     "name": "stdout",
     "output_type": "stream",
     "text": [
      "Defaulting to user installation because normal site-packages is not writeable\n",
      "Requirement already satisfied: ipdb in c:\\users\\thiag\\appdata\\local\\packages\\pythonsoftwarefoundation.python.3.12_qbz5n2kfra8p0\\localcache\\local-packages\\python312\\site-packages (0.13.13)\n",
      "Requirement already satisfied: ipython>=7.31.1 in c:\\users\\thiag\\appdata\\local\\packages\\pythonsoftwarefoundation.python.3.12_qbz5n2kfra8p0\\localcache\\local-packages\\python312\\site-packages (from ipdb) (8.29.0)\n",
      "Requirement already satisfied: decorator in c:\\users\\thiag\\appdata\\local\\packages\\pythonsoftwarefoundation.python.3.12_qbz5n2kfra8p0\\localcache\\local-packages\\python312\\site-packages (from ipdb) (5.1.1)\n",
      "Requirement already satisfied: jedi>=0.16 in c:\\users\\thiag\\appdata\\local\\packages\\pythonsoftwarefoundation.python.3.12_qbz5n2kfra8p0\\localcache\\local-packages\\python312\\site-packages (from ipython>=7.31.1->ipdb) (0.19.2)\n",
      "Requirement already satisfied: matplotlib-inline in c:\\users\\thiag\\appdata\\local\\packages\\pythonsoftwarefoundation.python.3.12_qbz5n2kfra8p0\\localcache\\local-packages\\python312\\site-packages (from ipython>=7.31.1->ipdb) (0.1.7)\n",
      "Requirement already satisfied: prompt-toolkit<3.1.0,>=3.0.41 in c:\\users\\thiag\\appdata\\local\\packages\\pythonsoftwarefoundation.python.3.12_qbz5n2kfra8p0\\localcache\\local-packages\\python312\\site-packages (from ipython>=7.31.1->ipdb) (3.0.48)\n",
      "Requirement already satisfied: pygments>=2.4.0 in c:\\users\\thiag\\appdata\\local\\packages\\pythonsoftwarefoundation.python.3.12_qbz5n2kfra8p0\\localcache\\local-packages\\python312\\site-packages (from ipython>=7.31.1->ipdb) (2.18.0)\n",
      "Requirement already satisfied: stack-data in c:\\users\\thiag\\appdata\\local\\packages\\pythonsoftwarefoundation.python.3.12_qbz5n2kfra8p0\\localcache\\local-packages\\python312\\site-packages (from ipython>=7.31.1->ipdb) (0.6.3)\n",
      "Requirement already satisfied: traitlets>=5.13.0 in c:\\users\\thiag\\appdata\\local\\packages\\pythonsoftwarefoundation.python.3.12_qbz5n2kfra8p0\\localcache\\local-packages\\python312\\site-packages (from ipython>=7.31.1->ipdb) (5.14.3)\n",
      "Requirement already satisfied: colorama in c:\\users\\thiag\\appdata\\local\\packages\\pythonsoftwarefoundation.python.3.12_qbz5n2kfra8p0\\localcache\\local-packages\\python312\\site-packages (from ipython>=7.31.1->ipdb) (0.4.6)\n",
      "Requirement already satisfied: parso<0.9.0,>=0.8.4 in c:\\users\\thiag\\appdata\\local\\packages\\pythonsoftwarefoundation.python.3.12_qbz5n2kfra8p0\\localcache\\local-packages\\python312\\site-packages (from jedi>=0.16->ipython>=7.31.1->ipdb) (0.8.4)\n",
      "Requirement already satisfied: wcwidth in c:\\users\\thiag\\appdata\\local\\packages\\pythonsoftwarefoundation.python.3.12_qbz5n2kfra8p0\\localcache\\local-packages\\python312\\site-packages (from prompt-toolkit<3.1.0,>=3.0.41->ipython>=7.31.1->ipdb) (0.2.13)\n",
      "Requirement already satisfied: executing>=1.2.0 in c:\\users\\thiag\\appdata\\local\\packages\\pythonsoftwarefoundation.python.3.12_qbz5n2kfra8p0\\localcache\\local-packages\\python312\\site-packages (from stack-data->ipython>=7.31.1->ipdb) (2.1.0)\n",
      "Requirement already satisfied: asttokens>=2.1.0 in c:\\users\\thiag\\appdata\\local\\packages\\pythonsoftwarefoundation.python.3.12_qbz5n2kfra8p0\\localcache\\local-packages\\python312\\site-packages (from stack-data->ipython>=7.31.1->ipdb) (2.4.1)\n",
      "Requirement already satisfied: pure-eval in c:\\users\\thiag\\appdata\\local\\packages\\pythonsoftwarefoundation.python.3.12_qbz5n2kfra8p0\\localcache\\local-packages\\python312\\site-packages (from stack-data->ipython>=7.31.1->ipdb) (0.2.3)\n",
      "Requirement already satisfied: six>=1.12.0 in c:\\users\\thiag\\appdata\\local\\packages\\pythonsoftwarefoundation.python.3.12_qbz5n2kfra8p0\\localcache\\local-packages\\python312\\site-packages (from asttokens>=2.1.0->stack-data->ipython>=7.31.1->ipdb) (1.16.0)\n"
     ]
    }
   ],
   "source": [
    "!pip install ipdb\n",
    "!pip install tqdm\n",
    "from tqdm import tqdm\n",
    "import ipdb\n",
    "import pandas as pd\n",
    "from collections import ChainMap"
   ]
  },
  {
   "cell_type": "code",
   "execution_count": 181,
   "metadata": {},
   "outputs": [
    {
     "data": {
      "text/plain": [
       "<module 'src.bases_utils' from 'c:\\\\Users\\\\thiag\\\\OneDrive\\\\Documents\\\\UFRJ\\\\git\\\\projeto_lupus\\\\src\\\\bases_utils.py'>"
      ]
     },
     "execution_count": 181,
     "metadata": {},
     "output_type": "execute_result"
    }
   ],
   "source": [
    "import importlib\n",
    "from src import bases_utils as bu\n",
    "importlib.reload(bu)"
   ]
  },
  {
   "cell_type": "markdown",
   "metadata": {},
   "source": [
    "## Leitura das Bases"
   ]
  },
  {
   "cell_type": "markdown",
   "metadata": {},
   "source": [
    "### Procedimentos com Risco"
   ]
  },
  {
   "cell_type": "code",
   "execution_count": 2,
   "metadata": {},
   "outputs": [],
   "source": [
    "df_risk = pd.read_csv('data/procedimentos/dev/procedimentos_encontrados_no_risco_cirurgico.csv')\n",
    "set_risk = set(df_risk['cod_procedimento'])"
   ]
  },
  {
   "cell_type": "markdown",
   "metadata": {},
   "source": [
    "### Com Lúpus"
   ]
  },
  {
   "cell_type": "code",
   "execution_count": 3,
   "metadata": {},
   "outputs": [],
   "source": [
    "num_algoritmo = 2\n",
    "\n",
    "df_lupus = pd.read_parquet(f'data/results/df_alg{num_algoritmo}.parquet')\n",
    "df_lupus_bpai = pd.read_parquet(f'data/results/df_bpai_alg{num_algoritmo}.parquet')\n",
    "df_lupus_aih = pd.read_parquet(f'data/results/df_aih_alg{num_algoritmo}.parquet')\n",
    "df_lupus_apac = pd.read_parquet(f'data/results/df_apac_alg{num_algoritmo}.parquet')"
   ]
  },
  {
   "cell_type": "markdown",
   "metadata": {},
   "source": [
    "### Sem Lúpus"
   ]
  },
  {
   "cell_type": "code",
   "execution_count": 4,
   "metadata": {},
   "outputs": [],
   "source": [
    "df_bpai = pd.read_parquet(f'data/BPAI_Lupus_L93M32N08_todos_cids.parquet')\n",
    "df_aih = pd.read_parquet(f'data/AIH_Lupus_L93M32N08_todos_cids.parquet')\n",
    "df_apac = pd.read_parquet(f'data/APAC_Lupus_L93M32N08_todos_cids.parquet')\n",
    "\n",
    "# Preciso ajustas as datas\n",
    "df_aih['data'] = pd.to_datetime(df_aih['dt_internacao'], format='%d/%m/%Y', errors='coerce')\n",
    "df_apac['data'] = pd.to_datetime(df_apac['data_inicio'], format='%d/%m/%Y', errors='coerce')\n",
    "\n",
    "# Não achei data na bpai\n",
    "# Só para conseguir unificar o bpai\n",
    "df_bpai['data'] = '01/01/2058'\n",
    "df_bpai['data'] = pd.to_datetime(df_bpai['data'], format='%d/%m/%Y', errors='coerce')"
   ]
  },
  {
   "cell_type": "code",
   "execution_count": 5,
   "metadata": {},
   "outputs": [
    {
     "name": "stdout",
     "output_type": "stream",
     "text": [
      " - Pacientes na BPAI: 46967\n",
      " - Pacientes na BPAI com algum risco: 33049 (70.37%)\n",
      " - Pacientes com Lúpus na BPAI: 13228 (28.16)%\n",
      " - Pacientes com Lúpus e algum risco na BPAI: 10522 (79.54% de Lúpus) e (22.4% da BPAI)\n",
      "\n",
      " - Pacientes na AIH: 48663\n",
      " - Pacientes na AIH com algum risco: 6906 (14.19%)\n",
      " - Pacientes com Lúpus na AIH: 22362 (45.95)%\n",
      " - Pacientes com Lúpus e algum risco na AIH: 2884 (12.9% de Lúpus) e (5.93% da AIH)\n",
      "\n",
      " - Pacientes na APAC: 31948\n",
      " - Pacientes na APAC com algum risco: 14418 (45.13%)\n",
      " - Pacientes com Lúpus na APAC: 13713 (42.92)%\n",
      " - Pacientes com Lúpus e algum risco na APAC: 3430 (25.01% de Lúpus) e (10.74% da APAC)\n",
      "\n"
     ]
    }
   ],
   "source": [
    "def get_cols_procedimentos(base_name):\n",
    "      dict_col = {'BPAI':['co_procedimento_realizado'],\n",
    "                  'AIH':['co_procedimento_principal'], # --> AIH nãm tem cod_procedimento_secundario\n",
    "                  'APAC':['co_procedimento_principal', 'co_procedimento_secundario'],\n",
    "                  'UNION':['co_procedimento_realizado', # BPAI\n",
    "                           'co_procedimento_principal', # APAC\n",
    "                           'co_procedimento_secundario', # APAC\n",
    "                           'co_procedimento_aih']} # AIH\n",
    "      return dict_col[base_name]\n",
    "\n",
    "def get_risk(df, cols, set_risk):\n",
    "    \"\"\" Calcula quantos pacientes possuem um procedimento de risco \"\"\"\n",
    "    if len(cols) > 1: # Se tiver mais de uma coluna de procedimentos\n",
    "        cols_risk = []\n",
    "        for idx, col in enumerate(cols): # Itera nas colunas\n",
    "            col_name = f'risk_procedimento_{idx}'\n",
    "            df[col_name] = df[col].isin(set_risk)\n",
    "            cols_risk.append(col_name)\n",
    "\n",
    "        df['risk_filter_col'] = df[cols_risk].sum(axis=1) # Conta quantas colnuas possuem True\n",
    "        \n",
    "        # Filtra as que tiveram pelo menos 1\n",
    "        num_pacientes_risk = df[df['risk_filter_col'] > 0]['id_paciente'].nunique()\n",
    "\n",
    "    else: # Se for só uma coluna, fica mais fácil\n",
    "        num_pacientes_risk = df[df[cols[0]].isin(set_risk)]['id_paciente'].nunique()\n",
    "    return num_pacientes_risk\n",
    "\n",
    "def get_percent(numerador, denominador):\n",
    "    return round(numerador*100/denominador, 2)\n",
    "\n",
    "def analisa_riscos(df, df_lupus, base_name):\n",
    "    cols_procedimento = get_cols_procedimentos(base_name)\n",
    "\n",
    "    num_total_pacientes = df['id_paciente'].nunique()\n",
    "    print(f' - Pacientes na {base_name}:', num_total_pacientes)\n",
    "    \n",
    "    num_pacientes_risk = get_risk(df, cols_procedimento, set_risk)\n",
    "    print(f' - Pacientes na {base_name} com algum risco: '+\n",
    "            f'{num_pacientes_risk} ' +\n",
    "            f'({get_percent(num_pacientes_risk, num_total_pacientes)}%)')\n",
    "\n",
    "    num_pacientes_lupus = df_lupus['id_paciente'].nunique()\n",
    "    print(f' - Pacientes com Lúpus na {base_name}: {num_pacientes_lupus} '+\n",
    "          f'({get_percent(num_pacientes_lupus, num_total_pacientes)})%')\n",
    "\n",
    "    num_lupus_risk = get_risk(df_lupus, cols_procedimento, set_risk)\n",
    "\n",
    "    print(f' - Pacientes com Lúpus e algum risco na {base_name}: {num_lupus_risk} ' +\n",
    "            f'({get_percent(num_lupus_risk, num_pacientes_lupus)}% de Lúpus) e ' +\n",
    "            f'({get_percent(num_lupus_risk, num_total_pacientes)}% da {base_name})')\n",
    "    print()\n",
    "\n",
    "analisa_riscos(df_bpai, df_lupus_bpai, 'BPAI')\n",
    "analisa_riscos(df_aih, df_lupus_aih, 'AIH')\n",
    "analisa_riscos(df_apac, df_lupus_apac, 'APAC')"
   ]
  },
  {
   "cell_type": "markdown",
   "metadata": {},
   "source": [
    "# Base Unificada\n",
    "BPAI + AIH + APAC"
   ]
  },
  {
   "cell_type": "code",
   "execution_count": 7,
   "metadata": {},
   "outputs": [],
   "source": [
    "df_alg = pd.read_parquet(f'data/results/df_alg{num_algoritmo}.parquet')"
   ]
  },
  {
   "cell_type": "code",
   "execution_count": 8,
   "metadata": {},
   "outputs": [],
   "source": [
    "cols_union = ['id_paciente'\n",
    "              #, 'sexo', 'idade', 'data'\n",
    "              ]\n",
    "df_aih.rename(columns={'co_procedimento_principal':'co_procedimento_aih'})\n",
    "df_union = pd.concat([df_bpai[cols_union+get_cols_procedimentos('BPAI')],\n",
    "                      df_apac[cols_union+get_cols_procedimentos('APAC')],\n",
    "                      df_aih.rename(columns={'co_procedimento_principal':'co_procedimento_aih'})\\\n",
    "                      [cols_union+['co_procedimento_aih']]])"
   ]
  },
  {
   "cell_type": "code",
   "execution_count": 9,
   "metadata": {},
   "outputs": [],
   "source": [
    "cols_union = ['id_paciente']\n",
    "df_lupus_aih.rename(columns={'co_procedimento_principal':'co_procedimento_aih'})\n",
    "df_lupus_union = pd.concat([df_lupus_bpai[cols_union+get_cols_procedimentos('BPAI')],\n",
    "                      df_lupus_apac[cols_union+get_cols_procedimentos('APAC')],\n",
    "                      df_lupus_aih.rename(columns={'co_procedimento_principal':'co_procedimento_aih'})\\\n",
    "                      [cols_union+['co_procedimento_aih']]])"
   ]
  },
  {
   "cell_type": "code",
   "execution_count": 10,
   "metadata": {},
   "outputs": [
    {
     "name": "stdout",
     "output_type": "stream",
     "text": [
      " - Pacientes na UNION: 71874\n",
      " - Pacientes na UNION com algum risco: 43032 (59.87%)\n",
      " - Pacientes com Lúpus na UNION: 22937 (31.91)%\n",
      " - Pacientes com Lúpus e algum risco na UNION: 12625 (55.04% de Lúpus) e (17.57% da UNION)\n",
      "\n"
     ]
    }
   ],
   "source": [
    "analisa_riscos(df_union, df_lupus_union, 'UNION')"
   ]
  },
  {
   "cell_type": "markdown",
   "metadata": {},
   "source": [
    "# Analise dos grupos"
   ]
  },
  {
   "cell_type": "code",
   "execution_count": 12,
   "metadata": {},
   "outputs": [],
   "source": [
    "set_bpai = list(df_lupus_bpai['id_paciente'].unique())\n",
    "set_aih = list(df_lupus_aih['id_paciente'].unique())\n",
    "set_apac = list(df_lupus_apac['id_paciente'].unique())\n",
    "\n",
    "df_lupus_bpai_full = df_bpai.set_index('id_paciente').loc[set_bpai].reset_index()\n",
    "df_lupus_aih_full = df_aih.set_index('id_paciente').loc[set_aih].reset_index()\n",
    "df_lupus_apac_full = df_apac.set_index('id_paciente').loc[set_apac].reset_index()"
   ]
  },
  {
   "cell_type": "markdown",
   "metadata": {},
   "source": [
    "### Resultado Algoritmo"
   ]
  },
  {
   "cell_type": "code",
   "execution_count": 13,
   "metadata": {},
   "outputs": [],
   "source": [
    "df_lupus = bu.junta_dfs(df_lupus_bpai_full, df_lupus_aih_full, df_lupus_apac_full)"
   ]
  },
  {
   "cell_type": "code",
   "execution_count": 38,
   "metadata": {},
   "outputs": [
    {
     "data": {
      "text/plain": [
       "Index(['id_paciente', 'sexo', 'idade', 'uf_paciente', 'data',\n",
       "       'co_procedimento_principal', 'regiao', 'idade_categoria'],\n",
       "      dtype='object')"
      ]
     },
     "execution_count": 38,
     "metadata": {},
     "output_type": "execute_result"
    }
   ],
   "source": [
    "df_lupus.columns"
   ]
  },
  {
   "cell_type": "markdown",
   "metadata": {},
   "source": [
    "### Filtro Cirurgia"
   ]
  },
  {
   "cell_type": "code",
   "execution_count": 58,
   "metadata": {},
   "outputs": [],
   "source": [
    "df_cirurgia = pd.read_csv('data/procedimentos/dev/procedimentos_cirúrgicos_para_o_baseline.csv')"
   ]
  },
  {
   "cell_type": "code",
   "execution_count": 14,
   "metadata": {},
   "outputs": [
    {
     "name": "stdout",
     "output_type": "stream",
     "text": [
      " - Cirurgias na APAC: 1\n",
      " - Cirurgias no BPAI: 27\n",
      " - Cirurgias no BPAI: 191\n"
     ]
    }
   ],
   "source": [
    "# Ajustando o nome dos procedimentos\n",
    "df_union.rename(columns={'co_procedimento_realizado':'co_procedimento_bpai'}, inplace=True)\n",
    "\n",
    "cirurgias_apac_1 = set(df_union['co_procedimento_principal']).intersection(set(df_cirurgia['cod_procedimento']))\n",
    "cirurgias_apac_2 = set(df_union['co_procedimento_secundario']).intersection(set(df_cirurgia['cod_procedimento']))\n",
    "print(' - Cirurgias na APAC:', len(cirurgias_apac_1)+len(cirurgias_apac_2))\n",
    "\n",
    "cirurgias_bpai = set(df_union['co_procedimento_bpai']).intersection(set(df_cirurgia['cod_procedimento']))\n",
    "print(' - Cirurgias no BPAI:', len(cirurgias_bpai))\n",
    "\n",
    "# Verifica quem fez cirurgia\n",
    "cirurgias_aih = set(df_union['co_procedimento_aih']).intersection(set(df_cirurgia['cod_procedimento']))\n",
    "print(' - Cirurgias no BPAI:', len(cirurgias_aih))"
   ]
  },
  {
   "cell_type": "code",
   "execution_count": 15,
   "metadata": {},
   "outputs": [
    {
     "name": "stdout",
     "output_type": "stream",
     "text": [
      " - Pacientes operados na base toda: 9127\n",
      " - Pacientes operados no algoritmo 2: 4743\n"
     ]
    }
   ],
   "source": [
    "# Verificando os procedimentos de cirurgia\n",
    "df_union['cirurgia_aih'] = df_union['co_procedimento_aih'].isin(cirurgias_aih)\n",
    "df_union['cirurgia_bpai'] = df_union['co_procedimento_bpai'].isin(cirurgias_bpai)\n",
    "df_union['cirurgia_apac'] = df_union['co_procedimento_secundario'].isin(cirurgias_apac_2)\n",
    "df_union['cirurgia'] = df_union['cirurgia_aih'] | df_union['cirurgia_bpai'] | df_union['cirurgia_apac']\n",
    "\n",
    "# Pacientes que passaram por algum dos procedimentos\n",
    "# cirúrgicos espefificados (em qualquer uma das bases)\n",
    "aux = df_union.groupby('id_paciente')['cirurgia'].sum()\n",
    "pacientes_operados = set(aux[aux>0].index)\n",
    "\n",
    "print(' - Pacientes operados na base toda:', len(pacientes_operados))\n",
    "print(f' - Pacientes operados no algoritmo {num_algoritmo}:', len(pacientes_operados.intersection(set(df_lupus['id_paciente']))))\n",
    "#print(' - Pacientes operados no algoritmo 2:', len(pacientes_operados.intersection(set(df_lupus_2['id_paciente']))))"
   ]
  },
  {
   "cell_type": "markdown",
   "metadata": {},
   "source": [
    "### Analisando os Pacientes com Lúpus e operados"
   ]
  },
  {
   "cell_type": "code",
   "execution_count": 16,
   "metadata": {},
   "outputs": [
    {
     "name": "stdout",
     "output_type": "stream",
     "text": [
      "sexo\n",
      "1    21785\n",
      "2     1152\n",
      "Name: count, dtype: int64\n",
      "regiao\n",
      "1    21868\n",
      "2     1041\n",
      "3       28\n",
      "Name: count, dtype: int64\n",
      "idade_categoria\n",
      "1    8724\n",
      "2    8124\n",
      "3    5559\n",
      "4     489\n",
      "5      32\n",
      "6       8\n",
      "7       1\n",
      "Name: count, dtype: int64\n"
     ]
    }
   ],
   "source": [
    "# Questão número 1:\n",
    "# Tem pacientes com mais de 1 sexo e mais de 1 região:\n",
    "# Será que tenho que pegar a data e a região da cirugia? :S\n",
    "count_sexo = df_lupus.groupby('id_paciente')['sexo'].nunique().sort_values()\n",
    "print(count_sexo.value_counts())\n",
    "\n",
    "count_regiao = df_lupus.groupby('id_paciente')['regiao'].nunique().sort_values()\n",
    "print(count_regiao.value_counts())\n",
    "\n",
    "count_idade = df_lupus.groupby('id_paciente')['idade_categoria'].nunique().sort_values()\n",
    "print(count_idade.value_counts())"
   ]
  },
  {
   "cell_type": "markdown",
   "metadata": {},
   "source": [
    "### Tentando pegar os dados no dia da cirurgia\n",
    "Alguns pacientes tem muitas cirurgias, mamma mia"
   ]
  },
  {
   "cell_type": "code",
   "execution_count": 60,
   "metadata": {},
   "outputs": [
    {
     "data": {
      "text/plain": [
       "(100879, 8)"
      ]
     },
     "execution_count": 60,
     "metadata": {},
     "output_type": "execute_result"
    }
   ],
   "source": [
    "df_lupus_cirurgia = df_lupus[df_lupus['co_procedimento_principal'].isin(df_cirurgia['cod_procedimento'])]\n",
    "df_lupus_cirurgia.shape"
   ]
  },
  {
   "cell_type": "code",
   "execution_count": 67,
   "metadata": {},
   "outputs": [
    {
     "data": {
      "text/html": [
       "<div>\n",
       "<style scoped>\n",
       "    .dataframe tbody tr th:only-of-type {\n",
       "        vertical-align: middle;\n",
       "    }\n",
       "\n",
       "    .dataframe tbody tr th {\n",
       "        vertical-align: top;\n",
       "    }\n",
       "\n",
       "    .dataframe thead th {\n",
       "        text-align: right;\n",
       "    }\n",
       "</style>\n",
       "<table border=\"1\" class=\"dataframe\">\n",
       "  <thead>\n",
       "    <tr style=\"text-align: right;\">\n",
       "      <th></th>\n",
       "      <th>data</th>\n",
       "      <th>sexo</th>\n",
       "      <th>idade</th>\n",
       "      <th>uf_paciente</th>\n",
       "      <th>regiao</th>\n",
       "      <th>idade_categoria</th>\n",
       "    </tr>\n",
       "  </thead>\n",
       "  <tbody>\n",
       "    <tr>\n",
       "      <th>34899773600</th>\n",
       "      <td>2018-09-23 00:00:00</td>\n",
       "      <td>FEMININO</td>\n",
       "      <td>16</td>\n",
       "      <td>AC</td>\n",
       "      <td>Norte</td>\n",
       "      <td>16-20</td>\n",
       "    </tr>\n",
       "    <tr>\n",
       "      <th>9560651700</th>\n",
       "      <td>2018-11-06 00:00:00</td>\n",
       "      <td>FEMININO</td>\n",
       "      <td>71</td>\n",
       "      <td>RS</td>\n",
       "      <td>Sul</td>\n",
       "      <td>55+</td>\n",
       "    </tr>\n",
       "    <tr>\n",
       "      <th>89426845001</th>\n",
       "      <td>2018-09-23 00:00:00</td>\n",
       "      <td>FEMININO</td>\n",
       "      <td>16</td>\n",
       "      <td>AC</td>\n",
       "      <td>Norte</td>\n",
       "      <td>16-20</td>\n",
       "    </tr>\n",
       "    <tr>\n",
       "      <th>6135801400</th>\n",
       "      <td>2018-11-28 00:00:00</td>\n",
       "      <td>FEMININO</td>\n",
       "      <td>78</td>\n",
       "      <td>PE</td>\n",
       "      <td>Nordeste</td>\n",
       "      <td>55+</td>\n",
       "    </tr>\n",
       "    <tr>\n",
       "      <th>24552062300</th>\n",
       "      <td>2018-07-23 00:00:00</td>\n",
       "      <td>FEMININO</td>\n",
       "      <td>63</td>\n",
       "      <td>RS</td>\n",
       "      <td>Sul</td>\n",
       "      <td>55+</td>\n",
       "    </tr>\n",
       "  </tbody>\n",
       "</table>\n",
       "</div>"
      ],
      "text/plain": [
       "                            data      sexo idade uf_paciente    regiao  \\\n",
       "34899773600  2018-09-23 00:00:00  FEMININO    16          AC     Norte   \n",
       "9560651700   2018-11-06 00:00:00  FEMININO    71          RS       Sul   \n",
       "89426845001  2018-09-23 00:00:00  FEMININO    16          AC     Norte   \n",
       "6135801400   2018-11-28 00:00:00  FEMININO    78          PE  Nordeste   \n",
       "24552062300  2018-07-23 00:00:00  FEMININO    63          RS       Sul   \n",
       "\n",
       "            idade_categoria  \n",
       "34899773600           16-20  \n",
       "9560651700              55+  \n",
       "89426845001           16-20  \n",
       "6135801400              55+  \n",
       "24552062300             55+  "
      ]
     },
     "execution_count": 67,
     "metadata": {},
     "output_type": "execute_result"
    }
   ],
   "source": [
    "set_lupus_cirurgia = df_lupus_cirurgia['id_paciente'].drop_duplicates()\n",
    "df_lupus_cirurgia_idx = df_lupus_cirurgia.set_index('id_paciente')\n",
    "infos_pacientes_lupus_cirurgia = set_lupus_cirurgia.apply(lambda row: bu.get_info_paciente(row, df_lupus_cirurgia_idx, df_cirurgia))\n",
    "dict_aux = dict(ChainMap(*list(infos_pacientes_lupus_cirurgia)))\n",
    "df_pacientes_lupus_cirugia = pd.DataFrame.from_dict(dict_aux).T\n",
    "df_pacientes_lupus_cirugia['regiao'] = df_pacientes_lupus_cirugia['uf_paciente'].map(bu.get_regiao)\n",
    "df_pacientes_lupus_cirugia['idade_categoria'] = df_pacientes_lupus_cirugia['idade'].map(bu.get_categoria_idade)\n",
    "df_pacientes_lupus_cirugia.head()"
   ]
  },
  {
   "cell_type": "code",
   "execution_count": 20,
   "metadata": {},
   "outputs": [
    {
     "name": "stdout",
     "output_type": "stream",
     "text": [
      " - Pacientes com lúpus que fizeram curigia abidominal: 4742 de 22937\n"
     ]
    }
   ],
   "source": [
    "print(' - Pacientes com lúpus que fizeram curigia abidominal:',\n",
    "      df_lupus_cirurgia['id_paciente'].nunique(), 'de',\n",
    "      df_lupus['id_paciente'].nunique())"
   ]
  },
  {
   "cell_type": "markdown",
   "metadata": {},
   "source": [
    "### Agora sim analisando os pacientes com Lúpus que operaram"
   ]
  },
  {
   "cell_type": "code",
   "execution_count": 21,
   "metadata": {},
   "outputs": [
    {
     "data": {
      "text/plain": [
       "sexo\n",
       "FEMININO     0.8876\n",
       "MASCULINO    0.1124\n",
       "Name: proportion, dtype: float64"
      ]
     },
     "execution_count": 21,
     "metadata": {},
     "output_type": "execute_result"
    }
   ],
   "source": [
    "df_pacientes_lupus_cirugia['sexo'].value_counts(normalize=True)"
   ]
  },
  {
   "cell_type": "code",
   "execution_count": 22,
   "metadata": {},
   "outputs": [
    {
     "data": {
      "text/plain": [
       "regiao\n",
       "Sudeste         0.465415\n",
       "Nordeste        0.239983\n",
       "Sul             0.158372\n",
       "Centro-Oeste    0.079291\n",
       "Norte           0.056938\n",
       "Name: proportion, dtype: float64"
      ]
     },
     "execution_count": 22,
     "metadata": {},
     "output_type": "execute_result"
    }
   ],
   "source": [
    "df_pacientes_lupus_cirugia['regiao'].value_counts(normalize=True)"
   ]
  },
  {
   "cell_type": "code",
   "execution_count": 23,
   "metadata": {},
   "outputs": [
    {
     "data": {
      "text/plain": [
       "idade_categoria\n",
       "21-25             0.182412\n",
       "26-30             0.168705\n",
       "31-35             0.135597\n",
       "16-20             0.134542\n",
       "36-40             0.087516\n",
       "55+               0.079081\n",
       "41-45             0.063054\n",
       "Idade inválida    0.061788\n",
       "46-50             0.048503\n",
       "51-55             0.038802\n",
       "Name: proportion, dtype: float64"
      ]
     },
     "execution_count": 23,
     "metadata": {},
     "output_type": "execute_result"
    }
   ],
   "source": [
    "df_pacientes_lupus_cirugia['idade_categoria'].value_counts(normalize=True)"
   ]
  },
  {
   "cell_type": "markdown",
   "metadata": {},
   "source": [
    "### Testando a base do Fernando"
   ]
  },
  {
   "cell_type": "code",
   "execution_count": 144,
   "metadata": {},
   "outputs": [
    {
     "name": "stdout",
     "output_type": "stream",
     "text": [
      " - Total de Pacientes que não foram classificados com lúpus: 401\n"
     ]
    }
   ],
   "source": [
    "tc2 = pd.read_parquet('data/pendrive/caso_passo2_com_categorias_com_riscos.parquet')\n",
    "pacientes_sem_lupus = tc2[~tc2['id_paciente'].isin(df_lupus['id_paciente'])]['id_paciente']\n",
    "print(' - Total de Pacientes que não foram classificados com lúpus:', len(pacientes_sem_lupus))"
   ]
  },
  {
   "cell_type": "code",
   "execution_count": 173,
   "metadata": {},
   "outputs": [
    {
     "data": {
      "text/html": [
       "<div>\n",
       "<style scoped>\n",
       "    .dataframe tbody tr th:only-of-type {\n",
       "        vertical-align: middle;\n",
       "    }\n",
       "\n",
       "    .dataframe tbody tr th {\n",
       "        vertical-align: top;\n",
       "    }\n",
       "\n",
       "    .dataframe thead th {\n",
       "        text-align: right;\n",
       "    }\n",
       "</style>\n",
       "<table border=\"1\" class=\"dataframe\">\n",
       "  <thead>\n",
       "    <tr style=\"text-align: right;\">\n",
       "      <th></th>\n",
       "      <th>id_paciente</th>\n",
       "      <th>no_procedimento_principal</th>\n",
       "      <th>no_procedimento_secundario</th>\n",
       "    </tr>\n",
       "  </thead>\n",
       "  <tbody>\n",
       "    <tr>\n",
       "      <th>271954</th>\n",
       "      <td>1059774700</td>\n",
       "      <td>HEMOGRAMA COMPLETO</td>\n",
       "      <td>BPAI</td>\n",
       "    </tr>\n",
       "    <tr>\n",
       "      <th>271995</th>\n",
       "      <td>1059774700</td>\n",
       "      <td>DOSAGEM DE COMPLEMENTO C3</td>\n",
       "      <td>BPAI</td>\n",
       "    </tr>\n",
       "    <tr>\n",
       "      <th>272434</th>\n",
       "      <td>1059774700</td>\n",
       "      <td>DOSAGEM DE COLESTEROL LDL</td>\n",
       "      <td>BPAI</td>\n",
       "    </tr>\n",
       "    <tr>\n",
       "      <th>272472</th>\n",
       "      <td>1059774700</td>\n",
       "      <td>DOSAGEM DE PROTEINAS (URINA DE 24 HORAS)</td>\n",
       "      <td>BPAI</td>\n",
       "    </tr>\n",
       "    <tr>\n",
       "      <th>272803</th>\n",
       "      <td>1059774700</td>\n",
       "      <td>DOSAGEM DE TRANSAMINASE GLUTAMICO-OXALACETICA ...</td>\n",
       "      <td>BPAI</td>\n",
       "    </tr>\n",
       "    <tr>\n",
       "      <th>...</th>\n",
       "      <td>...</td>\n",
       "      <td>...</td>\n",
       "      <td>...</td>\n",
       "    </tr>\n",
       "    <tr>\n",
       "      <th>7089582</th>\n",
       "      <td>1059774700</td>\n",
       "      <td>HIDROXICLOROQUINA 400 MG (POR COMPRIMIDO)</td>\n",
       "      <td>HIDROXICLOROQUINA 400 MG (POR COMPRIMIDO)</td>\n",
       "    </tr>\n",
       "    <tr>\n",
       "      <th>7107008</th>\n",
       "      <td>1059774700</td>\n",
       "      <td>HIDROXICLOROQUINA 400 MG (POR COMPRIMIDO)</td>\n",
       "      <td>HIDROXICLOROQUINA 400 MG (POR COMPRIMIDO)</td>\n",
       "    </tr>\n",
       "    <tr>\n",
       "      <th>7146510</th>\n",
       "      <td>1059774700</td>\n",
       "      <td>HIDROXICLOROQUINA 400 MG (POR COMPRIMIDO)</td>\n",
       "      <td>HIDROXICLOROQUINA 400 MG (POR COMPRIMIDO)</td>\n",
       "    </tr>\n",
       "    <tr>\n",
       "      <th>7155622</th>\n",
       "      <td>1059774700</td>\n",
       "      <td>HIDROXICLOROQUINA 400 MG (POR COMPRIMIDO)</td>\n",
       "      <td>HIDROXICLOROQUINA 400 MG (POR COMPRIMIDO)</td>\n",
       "    </tr>\n",
       "    <tr>\n",
       "      <th>7168556</th>\n",
       "      <td>1059774700</td>\n",
       "      <td>HIDROXICLOROQUINA 400 MG (POR COMPRIMIDO)</td>\n",
       "      <td>HIDROXICLOROQUINA 400 MG (POR COMPRIMIDO)</td>\n",
       "    </tr>\n",
       "  </tbody>\n",
       "</table>\n",
       "<p>151 rows × 3 columns</p>\n",
       "</div>"
      ],
      "text/plain": [
       "         id_paciente                          no_procedimento_principal  \\\n",
       "271954    1059774700                                 HEMOGRAMA COMPLETO   \n",
       "271995    1059774700                          DOSAGEM DE COMPLEMENTO C3   \n",
       "272434    1059774700                          DOSAGEM DE COLESTEROL LDL   \n",
       "272472    1059774700           DOSAGEM DE PROTEINAS (URINA DE 24 HORAS)   \n",
       "272803    1059774700  DOSAGEM DE TRANSAMINASE GLUTAMICO-OXALACETICA ...   \n",
       "...              ...                                                ...   \n",
       "7089582   1059774700          HIDROXICLOROQUINA 400 MG (POR COMPRIMIDO)   \n",
       "7107008   1059774700          HIDROXICLOROQUINA 400 MG (POR COMPRIMIDO)   \n",
       "7146510   1059774700          HIDROXICLOROQUINA 400 MG (POR COMPRIMIDO)   \n",
       "7155622   1059774700          HIDROXICLOROQUINA 400 MG (POR COMPRIMIDO)   \n",
       "7168556   1059774700          HIDROXICLOROQUINA 400 MG (POR COMPRIMIDO)   \n",
       "\n",
       "                        no_procedimento_secundario  \n",
       "271954                                        BPAI  \n",
       "271995                                        BPAI  \n",
       "272434                                        BPAI  \n",
       "272472                                        BPAI  \n",
       "272803                                        BPAI  \n",
       "...                                            ...  \n",
       "7089582  HIDROXICLOROQUINA 400 MG (POR COMPRIMIDO)  \n",
       "7107008  HIDROXICLOROQUINA 400 MG (POR COMPRIMIDO)  \n",
       "7146510  HIDROXICLOROQUINA 400 MG (POR COMPRIMIDO)  \n",
       "7155622  HIDROXICLOROQUINA 400 MG (POR COMPRIMIDO)  \n",
       "7168556  HIDROXICLOROQUINA 400 MG (POR COMPRIMIDO)  \n",
       "\n",
       "[151 rows x 3 columns]"
      ]
     },
     "execution_count": 173,
     "metadata": {},
     "output_type": "execute_result"
    }
   ],
   "source": [
    "# Junta os 3 dfs para poder olhar todos os procedimentos de forma simplificada\n",
    "df_pacientes = bu.junta_dfs_e_procedimentos(df_bpai, df_aih, df_apac)\n",
    "df_pacientes.loc[df_pacientes['id_paciente']==pacientes_sem_lupus.iloc[30],\n",
    "    ['id_paciente', 'no_procedimento_principal', 'no_procedimento_secundario']]"
   ]
  },
  {
   "cell_type": "markdown",
   "metadata": {},
   "source": [
    "#### Verifica Cids"
   ]
  },
  {
   "cell_type": "code",
   "execution_count": 174,
   "metadata": {},
   "outputs": [],
   "source": [
    "def verifica_cid(row):\n",
    "    for cod in ['M32', 'L93', 'N08']:\n",
    "        if (cod in row):\n",
    "            return True    \n",
    "    return False\n",
    "\n",
    "df_pacientes['cid_principal'] = df_pacientes['co_cid_principal'].apply(verifica_cid)\n",
    "df_pacientes['cid_secundario'] = df_pacientes['co_cid_secundario'].apply(verifica_cid)"
   ]
  },
  {
   "cell_type": "code",
   "execution_count": 183,
   "metadata": {},
   "outputs": [
    {
     "data": {
      "text/plain": [
       "cid_principal     0.089116\n",
       "cid_secundario    0.135328\n",
       "dtype: float64"
      ]
     },
     "execution_count": 183,
     "metadata": {},
     "output_type": "execute_result"
    }
   ],
   "source": [
    "df_pacientes.loc[:,'cid_principal':].mean()"
   ]
  },
  {
   "cell_type": "markdown",
   "metadata": {},
   "source": [
    "#### Verifica Procedimentos"
   ]
  },
  {
   "cell_type": "code",
   "execution_count": 190,
   "metadata": {},
   "outputs": [
    {
     "data": {
      "text/plain": [
       "<module 'src.bases_utils' from 'c:\\\\Users\\\\thiag\\\\OneDrive\\\\Documents\\\\UFRJ\\\\git\\\\projeto_lupus\\\\src\\\\bases_utils.py'>"
      ]
     },
     "execution_count": 190,
     "metadata": {},
     "output_type": "execute_result"
    }
   ],
   "source": [
    "import importlib\n",
    "from src import bases_utils as bu\n",
    "importlib.reload(bu)"
   ]
  },
  {
   "cell_type": "code",
   "execution_count": 195,
   "metadata": {},
   "outputs": [
    {
     "name": "stderr",
     "output_type": "stream",
     "text": [
      "100%|██████████| 401/401 [04:23<00:00,  1.52it/s]\n"
     ]
    }
   ],
   "source": [
    "cols = ['id_paciente', 'co_procedimento_principal', 'no_procedimento_principal',\n",
    "            'co_procedimento_secundario', 'no_procedimento_secundario', 'cid_principal', 'cid_secundario']\n",
    "\n",
    "pac_dict = {}\n",
    "for id in tqdm(pacientes_sem_lupus):\n",
    "    dfp = df_pacientes.loc[df_pacientes['id_paciente']==id, cols]\n",
    "    dfr = bu.verifica_procedimentos_paciente(dfp, ['no_procedimento_principal', 'no_procedimento_secundario'])\n",
    "    #print(dfr.loc[:,'procedimento_p1':].sum())\n",
    "    pac_dict[id] = dfr.loc[:,'procedimento_p1':].sum().to_dict()  \n",
    "\n",
    "df_pacientes_sem_lupus = pd.DataFrame.from_dict(pac_dict).T  "
   ]
  },
  {
   "cell_type": "code",
   "execution_count": 196,
   "metadata": {},
   "outputs": [],
   "source": [
    "dft = pd.DataFrame()\n",
    "for col in df_pacientes_sem_lupus.columns:\n",
    "    dft[col] = df_pacientes_sem_lupus[col]>0"
   ]
  },
  {
   "cell_type": "code",
   "execution_count": 197,
   "metadata": {},
   "outputs": [
    {
     "data": {
      "text/plain": [
       "procedimento_p1     0.000000\n",
       "procedimento_p2     0.291771\n",
       "procedimento_p3     0.192020\n",
       "procedimento_p4     0.942643\n",
       "procedimento_cid    0.905237\n",
       "dtype: float64"
      ]
     },
     "execution_count": 197,
     "metadata": {},
     "output_type": "execute_result"
    }
   ],
   "source": [
    "dft.mean()"
   ]
  },
  {
   "cell_type": "code",
   "execution_count": 158,
   "metadata": {},
   "outputs": [
    {
     "data": {
      "text/plain": [
       "procedimento_p1    False\n",
       "procedimento_p2     True\n",
       "procedimento_p3     True\n",
       "procedimento_p4     True\n",
       "Name: 1059774700, dtype: bool"
      ]
     },
     "execution_count": 158,
     "metadata": {},
     "output_type": "execute_result"
    }
   ],
   "source": [
    "dft.loc[1059774700]"
   ]
  }
 ],
 "metadata": {
  "kernelspec": {
   "display_name": "Python 3",
   "language": "python",
   "name": "python3"
  },
  "language_info": {
   "codemirror_mode": {
    "name": "ipython",
    "version": 3
   },
   "file_extension": ".py",
   "mimetype": "text/x-python",
   "name": "python",
   "nbconvert_exporter": "python",
   "pygments_lexer": "ipython3",
   "version": "3.12.8"
  }
 },
 "nbformat": 4,
 "nbformat_minor": 2
}
