{
 "cells": [
  {
   "cell_type": "markdown",
   "metadata": {},
   "source": [
    "# Juntando as Bases"
   ]
  },
  {
   "cell_type": "code",
   "execution_count": 1,
   "metadata": {},
   "outputs": [],
   "source": [
    "# df_bpai = pd.read_parquet('data/results/df_bpai_filtrado.parquet')\n",
    "# df_apac = pd.read_parquet('data/results/df_apac_filtrado.parquet')\n",
    "# df_apac[df_apac.id_paciente.isin(df_apac.id_paciente)]['id_paciente'].nunique()"
   ]
  },
  {
   "cell_type": "markdown",
   "metadata": {},
   "source": [
    "## Pacientes"
   ]
  },
  {
   "cell_type": "code",
   "execution_count": 177,
   "metadata": {},
   "outputs": [],
   "source": [
    "# pac_aih.sample().T\n",
    "columns_aih = ['id_paciente', 'co_cid_principal', 'no_cid_principal', 'co_procedimento_principal',\n",
    "               'co_cid_secundario', 'no_cid_secundario', 'procedimento_principal', 'desc_procedimento_secundario']\n",
    "\n",
    "columns_apac = ['id_paciente', 'co_cid_principal', 'no_cid_principal', 'co_cid_secundario',\n",
    "              'co_procedimento_principal', 'no_procedimento_principal', 'co_procedimento_secundario', 'no_procedimento_secundario']\n",
    "\n",
    "columns_bpai = ['id_paciente', 'co_cid_principal', 'no_cid_principal', 'co_procedimento_realizado', 'no_procedimento_realizado', ]"
   ]
  },
  {
   "cell_type": "code",
   "execution_count": 173,
   "metadata": {},
   "outputs": [
    {
     "name": "stdout",
     "output_type": "stream",
     "text": [
      " - Colunas procedimento aih\n",
      "['co_procedimento_principal', 'procedimento_principal', 'desc_procedimento_secundario']\n",
      " - Colunas procedimento apac\n",
      "['co_procedimento_principal', 'no_procedimento_principal', 'co_procedimento_secundario', 'no_procedimento_secundario', 'qt_procedimento', 'qt_procedimento_aprovado']\n",
      "- Colunas procedimento bpai\n",
      "['co_procedimento_realizado', 'no_procedimento_realizado']\n"
     ]
    }
   ],
   "source": [
    "\n",
    "print(' - Colunas procedimento aih')\n",
    "print(['co_procedimento_principal', 'procedimento_principal', 'desc_procedimento_secundario'])\n",
    "\n",
    "print(' - Colunas procedimento apac')\n",
    "print(['co_procedimento_principal', 'no_procedimento_principal', 'co_procedimento_secundario',\n",
    "       'no_procedimento_secundario', 'qt_procedimento', 'qt_procedimento_aprovado'])\n",
    "\n",
    "print('- Colunas procedimento bpai')\n",
    "print(['co_procedimento_realizado', 'no_procedimento_realizado'])"
   ]
  },
  {
   "cell_type": "code",
   "execution_count": 175,
   "metadata": {},
   "outputs": [
    {
     "name": "stdout",
     "output_type": "stream",
     "text": [
      " - Colunas cid\n",
      "['co_cid_principal', 'no_cid_principal']\n"
     ]
    }
   ],
   "source": [
    "# import pyarrow.parquet as pq\n",
    "# filename = path+'BPAI_Lupus_L93M32N08_todos_cids.parquet'\n",
    "# pfile = pq.read_table(filename)\n",
    "# print(' - Colunas cid')\n",
    "# print([col for col in pfile.column_names if 'cid' in col ])\n",
    "# print(\"Column names: {}\".format(pfile.column_names))\n",
    "# print(\"Schema: {}\".format(pfile.schema))"
   ]
  },
  {
   "cell_type": "code",
   "execution_count": 178,
   "metadata": {},
   "outputs": [],
   "source": [
    "import pandas as pd\n",
    "path = 'data/HD/'\n",
    "pac_apac = pd.read_parquet(path+'APAC_Lupus_L93M32N08_todos_cids.parquet', columns=columns_apac)\n",
    "pac_aih = pd.read_parquet(path+'AIH_Lupus_L93M32N08_todos_cids.parquet', columns=columns_aih)\n",
    "pac_bpai = pd.read_parquet(path+'BPAI_Lupus_L93M32N08_todos_cids.parquet', columns=columns_bpai)"
   ]
  },
  {
   "cell_type": "code",
   "execution_count": 138,
   "metadata": {},
   "outputs": [
    {
     "name": "stdout",
     "output_type": "stream",
     "text": [
      " - APAC: Registros: 7194178 Pacientes únicos: 31948\n",
      " - AIH: Registros: 3968946 Pacientes únicos: 48663\n",
      " - BPAI: Registros: 857369 Pacientes únicos: 46967\n",
      " - Total: Registros: 12020493 Pacientes únicos: 127578\n"
     ]
    }
   ],
   "source": [
    "print(f' - APAC: Registros: {pac_apac.shape[0]} Pacientes únicos: {pac_apac['id_paciente'].nunique()}')\n",
    "print(f' - AIH: Registros: {pac_aih.shape[0]} Pacientes únicos: {pac_aih['id_paciente'].nunique()}')\n",
    "print(f' - BPAI: Registros: {pac_bpai.shape[0]} Pacientes únicos: {pac_bpai['id_paciente'].nunique()}')\n",
    "print(f' - Total: Registros: {pac_bpai.shape[0]+pac_aih.shape[0]+pac_apac.shape[0]} Pacientes únicos: {pac_bpai['id_paciente'].nunique()+pac_aih['id_paciente'].nunique()+pac_apac['id_paciente'].nunique()}')\n"
   ]
  },
  {
   "cell_type": "code",
   "execution_count": 180,
   "metadata": {},
   "outputs": [],
   "source": [
    "pac_aih['desc_procedimento_secundario'].value_counts().to_csv('data/results/procedimentos_secundarios_aih.csv')"
   ]
  },
  {
   "cell_type": "code",
   "execution_count": 4,
   "metadata": {},
   "outputs": [],
   "source": [
    "set_bpai = set(pac_bpai['id_paciente'])\n",
    "set_apac = set(pac_apac['id_paciente'])\n",
    "set_aih = set(pac_aih['id_paciente'])"
   ]
  },
  {
   "cell_type": "code",
   "execution_count": 5,
   "metadata": {},
   "outputs": [
    {
     "name": "stdout",
     "output_type": "stream",
     "text": [
      " - Interseção do aih com apac: 28856\n",
      " - Interseção do aih com bpai: 25601\n",
      " - Interseção do bpai com apac: 19485\n",
      " - Interseção dos 3 conjuntos: 18238\n"
     ]
    }
   ],
   "source": [
    "print(' - Interseção do aih com apac:', len(set_aih.intersection(set_apac)))\n",
    "print(' - Interseção do aih com bpai:', len(set_bpai.intersection(set_aih)))\n",
    "print(' - Interseção do bpai com apac:', len(set_apac.intersection(set_bpai)))\n",
    "print(' - Interseção dos 3 conjuntos:', len(set_apac.intersection(set_bpai).intersection(set_aih)))"
   ]
  },
  {
   "cell_type": "markdown",
   "metadata": {},
   "source": [
    "## Filtrando CIDs"
   ]
  },
  {
   "cell_type": "code",
   "execution_count": 24,
   "metadata": {},
   "outputs": [],
   "source": [
    "#!pip install tqdm"
   ]
  },
  {
   "cell_type": "code",
   "execution_count": 186,
   "metadata": {},
   "outputs": [
    {
     "name": "stderr",
     "output_type": "stream",
     "text": [
      "100%|██████████| 3/3 [00:07<00:00,  2.58s/it]\n"
     ]
    }
   ],
   "source": [
    "from tqdm import tqdm\n",
    "\n",
    "def verifica_cid(row):\n",
    "    for cod in ['M32', 'L93', 'N08']:\n",
    "        if (cod in row):\n",
    "            return True    \n",
    "    return False\n",
    "\n",
    "for df in tqdm([pac_aih, pac_bpai, pac_apac]):\n",
    "    df['filtro_cid_principal'] = df['co_cid_principal'].apply(verifica_cid)\n",
    "    if 'co_cid_secundario' in df.columns:\n",
    "        df['filtro_cid_secundario'] = df['co_cid_secundario'].apply(verifica_cid)"
   ]
  },
  {
   "cell_type": "code",
   "execution_count": 187,
   "metadata": {},
   "outputs": [
    {
     "name": "stdout",
     "output_type": "stream",
     "text": [
      " - AIH\n",
      "filtro_cid_principal\n",
      "False    0.774591\n",
      "True     0.225409\n",
      "Name: proportion, dtype: float64\n",
      "\n",
      "filtro_cid_secundario\n",
      "False    0.948285\n",
      "True     0.051715\n",
      "Name: proportion, dtype: float64\n",
      "\n",
      " - APAC\n",
      "filtro_cid_principal\n",
      "False    0.984727\n",
      "True     0.015273\n",
      "Name: proportion, dtype: float64\n",
      "\n",
      "filtro_cid_secundario\n",
      "False    0.802416\n",
      "True     0.197584\n",
      "Name: proportion, dtype: float64\n",
      "\n",
      " - BPAI\n",
      "filtro_cid_principal\n",
      "False    0.922196\n",
      "True     0.077804\n",
      "Name: proportion, dtype: float64\n"
     ]
    }
   ],
   "source": [
    "print(' - AIH')\n",
    "print(pac_aih['filtro_cid_principal'].value_counts(normalize=True))\n",
    "print()\n",
    "print(pac_aih['filtro_cid_secundario'].value_counts(normalize=True))\n",
    "\n",
    "print()\n",
    "print(' - APAC')\n",
    "print(pac_apac['filtro_cid_principal'].value_counts(normalize=True))\n",
    "print()\n",
    "print(pac_apac['filtro_cid_secundario'].value_counts(normalize=True))\n",
    "print()\n",
    "print(' - BPAI')\n",
    "print(pac_bpai['filtro_cid_principal'].value_counts(normalize=True))"
   ]
  },
  {
   "cell_type": "markdown",
   "metadata": {},
   "source": [
    "## Classificando os Pacientes"
   ]
  },
  {
   "cell_type": "code",
   "execution_count": 67,
   "metadata": {},
   "outputs": [],
   "source": [
    "import importlib\n",
    "from  src import procedimentos\n",
    "importlib.reload(procedimentos)\n",
    "\n",
    "def verifica_procedimentos(df_pacientes, col_procedimento):\n",
    "    df_pacientes = df_pacientes.copy()\n",
    "    pacientes_list = list(df_pacientes.id_paciente.unique())\n",
    "    dict_pacientes = {}\n",
    "    proc_dict = {'p1':procedimentos.p1, 'p2':procedimentos.p2, 'p3':procedimentos.p3, 'p4':procedimentos.p4}\n",
    "    \n",
    "    for proc_name in proc_dict.keys():\n",
    "        dict_pacientes[proc_name] = set()\n",
    "\n",
    "    for id_paciente in tqdm(pacientes_list, desc=f'Classificando Pacientes'):\n",
    "        id_paciente = int(id_paciente)\n",
    "        df_paciente = df_pacientes[df_pacientes.id_paciente==id_paciente].copy() # Pega apenas os procedimentos no paciente em questão        \n",
    "\n",
    "        # Se o paciente passou no filtro dos cids, agora aplica o filtro dos procedimentos\n",
    "        for proc, proc_func in proc_dict.items():\n",
    "            if proc_func(df_paciente, col_procedimento): # Aplica todos os procedimentos em cada cliente\n",
    "                dict_pacientes[proc].add(id_paciente) # Salva o id do paciente no conjunto do procedimento em que ele passou\n",
    "\n",
    "    for proced in ['p1', 'p2', 'p3', 'p4']: # Adiciona uma coluna como True para cada procedimento em que o paciente foi aprovado\n",
    "        df_pacientes[f'procedimento_{proced}'] = df_pacientes['id_paciente'].isin(dict_pacientes[proced])\n",
    "    \n",
    "    return df_pacientes"
   ]
  },
  {
   "cell_type": "code",
   "execution_count": null,
   "metadata": {},
   "outputs": [
    {
     "name": "stderr",
     "output_type": "stream",
     "text": [
      "Classificando Pacientes: 100%|██████████| 48663/48663 [05:00<00:00, 162.08it/s]\n"
     ]
    }
   ],
   "source": [
    "df_apac = verifica_procedimentos(pac_apac, col_procedimento='no_procedimento_principal')\n",
    "df_aih = verifica_procedimentos(pac_aih, col_procedimento='desc_procedimento_secundario')\n",
    "df_bpai = verifica_procedimentos(pac_bpai, col_procedimento='no_procedimento_realizado')"
   ]
  },
  {
   "cell_type": "code",
   "execution_count": 182,
   "metadata": {},
   "outputs": [
    {
     "data": {
      "text/plain": [
       "procedimento_p1  procedimento_p2  procedimento_p3  procedimento_p4\n",
       "False            True             False            False              0.341819\n",
       "True             True             True             False              0.242559\n",
       "False            True             True             False              0.165093\n",
       "                 False            False            False              0.149547\n",
       "True             True             False            False              0.085698\n",
       "False            False            True             False              0.008206\n",
       "True             False            False            False              0.005112\n",
       "                                  True             False              0.001965\n",
       "Name: proportion, dtype: float64"
      ]
     },
     "execution_count": 182,
     "metadata": {},
     "output_type": "execute_result"
    }
   ],
   "source": [
    "df_aih.loc[:, 'procedimento_p1':].value_counts(normalize=True)"
   ]
  },
  {
   "cell_type": "code",
   "execution_count": 183,
   "metadata": {},
   "outputs": [
    {
     "data": {
      "text/plain": [
       "procedimento_p1  procedimento_p2  procedimento_p3  procedimento_p4\n",
       "False            False            False            False              0.815104\n",
       "                                                   True               0.184896\n",
       "Name: proportion, dtype: float64"
      ]
     },
     "execution_count": 183,
     "metadata": {},
     "output_type": "execute_result"
    }
   ],
   "source": [
    "df_apac.loc[:, 'procedimento_p1':].value_counts(normalize=True)"
   ]
  },
  {
   "cell_type": "code",
   "execution_count": 94,
   "metadata": {},
   "outputs": [
    {
     "data": {
      "text/plain": [
       "procedimento_p1  procedimento_p2  procedimento_p3  procedimento_p4\n",
       "False            False            False            False              0.687637\n",
       "                 True             True             False              0.138699\n",
       "True             True             True             False              0.089883\n",
       "False            True             False            False              0.071081\n",
       "True             True             False            False              0.006423\n",
       "False            False            True             False              0.004594\n",
       "True             False            False            False              0.001063\n",
       "                                  True             False              0.000619\n",
       "Name: proportion, dtype: float64"
      ]
     },
     "execution_count": 94,
     "metadata": {},
     "output_type": "execute_result"
    }
   ],
   "source": [
    "df_bpai.loc[:, 'procedimento_p1':].value_counts(normalize=True)"
   ]
  },
  {
   "cell_type": "markdown",
   "metadata": {},
   "source": [
    "### Aplicando Algoritmos"
   ]
  },
  {
   "cell_type": "code",
   "execution_count": null,
   "metadata": {},
   "outputs": [
    {
     "name": "stdout",
     "output_type": "stream",
     "text": [
      "Número de registros\n",
      " - AIH: 3968946\n",
      " - BPAI: 857369\n",
      " - APAC: 7194178\n",
      "\n",
      "Número de Pacientes Únicos:\n",
      " - AIH: 48663\n",
      " - BPAI: 46967\n",
      " - APAC: 31948\n"
     ]
    }
   ],
   "source": [
    "# Juntando as bases (por enquanto BPAI e APAC porque a base da AIH não passou em nenhum procedimento)\n",
    "cols_union = ['id_paciente', 'procedimento_p1', 'procedimento_p2', 'procedimento_p3', 'procedimento_p4', 'filtro_cid_principal']\n",
    "df_union = pd.concat([df_bpai[cols_union], df_apac[cols_union+['filtro_cid_secundario']], df_aih[cols_union+['filtro_cid_secundario']]])\n",
    "df_union.fillna(False, inplace=True)\n",
    "\n",
    "print('Número de registros')\n",
    "print(f' - AIH: {df_aih.shape[0]}')\n",
    "print(f' - BPAI: {df_bpai.shape[0]}')\n",
    "print(f' - APAC: {df_apac.shape[0]}')\n",
    "print()\n",
    "print('Número de Pacientes Únicos:')\n",
    "print(f' - AIH: {df_aih['id_paciente'].nunique()}')\n",
    "print(f' - BPAI: {df_bpai['id_paciente'].nunique()}')\n",
    "print(f' - APAC: {df_apac['id_paciente'].nunique()}')"
   ]
  },
  {
   "cell_type": "code",
   "execution_count": 243,
   "metadata": {},
   "outputs": [
    {
     "data": {
      "text/plain": [
       "(12020493, 7)"
      ]
     },
     "execution_count": 243,
     "metadata": {},
     "output_type": "execute_result"
    }
   ],
   "source": [
    "df_union.shape"
   ]
  },
  {
   "cell_type": "code",
   "execution_count": 194,
   "metadata": {},
   "outputs": [
    {
     "name": "stdout",
     "output_type": "stream",
     "text": [
      "Número de Registros:\n",
      " - Aplicando o filtro do cid\n",
      " - Redução de 12020493 para 2657726 = 77.89%\n",
      "\n",
      "Número de Pacientes Únicos:\n",
      " - Antes do filtro: 71874\n",
      " - Após o filtro: 69772\n",
      " - Redução de 2.92%\n",
      " - Ou seja, 97.08% aprovados no filtro do cid\n"
     ]
    }
   ],
   "source": [
    "df_cid = df_union[df_union['filtro_cid_principal'] | df_union['filtro_cid_secundario']].copy()\n",
    "print('Número de Registros:')\n",
    "print(' - Aplicando o filtro do cid')\n",
    "print(f' - Redução de {df_union.shape[0]} para {df_cid.shape[0]} = {round((df_union.shape[0]-df_cid.shape[0])*100/df_union.shape[0],2)}%')\n",
    "\n",
    "print()\n",
    "num_pac_union = df_union['id_paciente'].nunique()\n",
    "num_pac_cid = df_cid['id_paciente'].nunique()\n",
    "print('Número de Pacientes Únicos:')\n",
    "print(f' - Antes do filtro: {num_pac_union}')\n",
    "print(f' - Após o filtro: {num_pac_cid}')\n",
    "red_pac = (num_pac_union-num_pac_cid)/num_pac_union\n",
    "print(f' - Redução de {round(red_pac*100,2)}%')\n",
    "print(f' - Ou seja, {round(num_pac_cid*100/num_pac_union,2)}% aprovados no filtro do cid')"
   ]
  },
  {
   "cell_type": "code",
   "execution_count": 195,
   "metadata": {},
   "outputs": [],
   "source": [
    "# Agora aplicando os filtros de procedimento\n",
    "cols_proced = ['procedimento_p1', 'procedimento_p2', 'procedimento_p3', 'procedimento_p4']\n",
    "df_cid_pac = df_cid[df_cid['procedimento_p1'] | df_cid['procedimento_p2'] | df_cid['procedimento_p3'] | df_cid['procedimento_p4']].groupby('id_paciente')[cols_proced].sum()\n",
    "\n",
    "df_cid_filtro_proced = df_cid_pac.map(lambda row: 1 if row > 0 else 0)\n",
    "df_final = df_cid_filtro_proced.sum(axis=1).sort_values()"
   ]
  },
  {
   "cell_type": "markdown",
   "metadata": {},
   "source": [
    "### Algoritmo 1\n",
    "CID + 2 Procedimentos distindos"
   ]
  },
  {
   "cell_type": "code",
   "execution_count": 213,
   "metadata": {},
   "outputs": [
    {
     "name": "stdout",
     "output_type": "stream",
     "text": [
      " - Total de pacientes encontrados após o algoritmo 1: 10884\n",
      " - % em relação ao total de pacientes (BPAI+APAC+AIH): 15.14%\n"
     ]
    }
   ],
   "source": [
    "df_alg1 = df_final[df_final > 1].to_frame().reset_index()\n",
    "df_alg1.columns = ['id_paciente', 'num_procedimentos_qualificados']\n",
    "print(' - Total de pacientes encontrados após o algoritmo 1:', df_alg1.shape[0])\n",
    "print(f' - % em relação ao total de pacientes (BPAI+APAC+AIH): {round((df_alg1.shape[0]*100)/df_union['id_paciente'].nunique(),2)}%')"
   ]
  },
  {
   "cell_type": "markdown",
   "metadata": {},
   "source": [
    "### Algoritmo 2\n",
    "CID + 1 Procedimento"
   ]
  },
  {
   "cell_type": "code",
   "execution_count": 214,
   "metadata": {},
   "outputs": [
    {
     "name": "stdout",
     "output_type": "stream",
     "text": [
      " - Total de pacientes encontrados após o algoritmo 2: 23137\n",
      " - % em relação ao total de pacientes (BPAI+APAC+AIH): 32.19%\n"
     ]
    }
   ],
   "source": [
    "df_alg2 = df_final[df_final > 0].to_frame().reset_index()\n",
    "df_alg2.columns = ['id_paciente', 'num_procedimentos_qualificados']\n",
    "print(' - Total de pacientes encontrados após o algoritmo 2:', df_alg2.shape[0])\n",
    "print(f' - % em relação ao total de pacientes (BPAI+APAC+AIH): {round((df_alg2.shape[0]*100)/df_union['id_paciente'].nunique(),2)}%')"
   ]
  },
  {
   "cell_type": "code",
   "execution_count": 147,
   "metadata": {},
   "outputs": [
    {
     "data": {
      "text/plain": [
       "co_cid_principal\n",
       "        0.368758\n",
       "        0.158768\n",
       "Z006    0.027869\n",
       "M321    0.023031\n",
       "M329    0.020937\n",
       "N180    0.012596\n",
       "Z000    0.012543\n",
       "M320    0.009392\n",
       "Z017    0.008476\n",
       "L930    0.007362\n",
       "M328    0.007257\n",
       "M545    0.007053\n",
       "Z010    0.006820\n",
       "M255    0.006297\n",
       "Z048    0.006046\n",
       "B182    0.005028\n",
       "Z524    0.004671\n",
       "I64     0.003771\n",
       "Z940    0.003659\n",
       "N083    0.003335\n",
       "Name: proportion, dtype: float64"
      ]
     },
     "execution_count": 147,
     "metadata": {},
     "output_type": "execute_result"
    }
   ],
   "source": [
    "df_bpai.co_cid_principal.value_counts(normalize=True, dropna=False).iloc[:20]"
   ]
  },
  {
   "cell_type": "markdown",
   "metadata": {},
   "source": [
    "### Salvando os Resultados"
   ]
  },
  {
   "cell_type": "code",
   "execution_count": 215,
   "metadata": {},
   "outputs": [],
   "source": [
    "df_alg1.to_parquet('data/results/df_alg1.parquet')\n",
    "df_alg2.to_parquet('data/results/df_alg2.parquet')"
   ]
  },
  {
   "cell_type": "code",
   "execution_count": 217,
   "metadata": {},
   "outputs": [
    {
     "data": {
      "text/plain": [
       "1.0"
      ]
     },
     "execution_count": 217,
     "metadata": {},
     "output_type": "execute_result"
    }
   ],
   "source": [
    "df_alg1.id_paciente.nunique()/df_alg1.shape[0]"
   ]
  },
  {
   "cell_type": "code",
   "execution_count": 223,
   "metadata": {},
   "outputs": [],
   "source": [
    "df_bpai_alg1 = df_bpai[df_bpai['id_paciente'].isin(df_alg1['id_paciente'])]\n",
    "df_aih_alg1 = df_aih[df_aih['id_paciente'].isin(df_alg1['id_paciente'])]\n",
    "df_apac_alg1 = df_apac[df_apac['id_paciente'].isin(df_alg1['id_paciente'])]"
   ]
  },
  {
   "cell_type": "code",
   "execution_count": 239,
   "metadata": {},
   "outputs": [],
   "source": [
    "df_bpai_alg2 = df_bpai[df_bpai['id_paciente'].isin(df_alg2['id_paciente'])]\n",
    "df_aih_alg2 = df_aih[df_aih['id_paciente'].isin(df_alg2['id_paciente'])]\n",
    "df_apac_alg2 = df_apac[df_apac['id_paciente'].isin(df_alg2['id_paciente'])]"
   ]
  },
  {
   "cell_type": "code",
   "execution_count": 241,
   "metadata": {},
   "outputs": [],
   "source": [
    "df_bpai_alg1.to_parquet('data/results/df_bpai_alg1.parquet')\n",
    "df_aih_alg1.to_parquet('data/results/df_aih_alg1.parquet')\n",
    "df_apac_alg1.to_parquet('data/results/df_apac_alg1.parquet')\n",
    "\n",
    "df_bpai_alg2.to_parquet('data/results/df_bpai_alg2.parquet')\n",
    "df_aih_alg2.to_parquet('data/results/df_aih_alg2.parquet')\n",
    "df_apac_alg2.to_parquet('data/results/df_apac_alg2.parquet')"
   ]
  },
  {
   "cell_type": "code",
   "execution_count": 225,
   "metadata": {},
   "outputs": [],
   "source": [
    "pacientes_alg1 = set(df_alg1['id_paciente'])"
   ]
  },
  {
   "cell_type": "code",
   "execution_count": 235,
   "metadata": {},
   "outputs": [
    {
     "name": "stdout",
     "output_type": "stream",
     "text": [
      "(245704, 10)\n",
      "(1691355, 14)\n",
      "(767139, 14)\n"
     ]
    }
   ],
   "source": [
    "print(df_bpai_alg1.shape)\n",
    "print(df_aih_alg1.shape)\n",
    "print(df_apac_alg1.shape)"
   ]
  },
  {
   "cell_type": "code",
   "execution_count": null,
   "metadata": {},
   "outputs": [],
   "source": [
    "# Ver quantos pacientes estão no bpai, no aih e no apac\n",
    "# Depois, ver quais os CIDS mais presentes entre os pacientes"
   ]
  },
  {
   "cell_type": "code",
   "execution_count": 238,
   "metadata": {},
   "outputs": [
    {
     "name": "stdout",
     "output_type": "stream",
     "text": [
      " - Pacientes presentes no bpai: 0.6481991914737228\n",
      " - Pacientes presentes no aih: 0.9609518559353178\n",
      " - Pacientes presentes no apac: 0.6841234840132304\n"
     ]
    }
   ],
   "source": [
    "print(' - Pacientes presentes no bpai:', df_bpai_alg1['id_paciente'].nunique() / df_alg1['id_paciente'].nunique())\n",
    "print(' - Pacientes presentes no aih:', df_aih_alg1['id_paciente'].nunique() / df_alg1['id_paciente'].nunique())\n",
    "print(' - Pacientes presentes no apac:', df_apac_alg1['id_paciente'].nunique() / df_alg1['id_paciente'].nunique())"
   ]
  }
 ],
 "metadata": {
  "kernelspec": {
   "display_name": "Python 3",
   "language": "python",
   "name": "python3"
  },
  "language_info": {
   "codemirror_mode": {
    "name": "ipython",
    "version": 3
   },
   "file_extension": ".py",
   "mimetype": "text/x-python",
   "name": "python",
   "nbconvert_exporter": "python",
   "pygments_lexer": "ipython3",
   "version": "3.12.8"
  }
 },
 "nbformat": 4,
 "nbformat_minor": 2
}
