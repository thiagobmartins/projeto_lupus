{
 "cells": [
  {
   "cell_type": "markdown",
   "metadata": {},
   "source": [
    "# Algoritmos de Classificação de Lúpus\n"
   ]
  },
  {
   "cell_type": "markdown",
   "metadata": {},
   "source": [
    "## Imports\n"
   ]
  },
  {
   "cell_type": "code",
   "execution_count": null,
   "metadata": {},
   "outputs": [],
   "source": [
    "!pip install tqdm\n",
    "from tqdm import tqdm"
   ]
  },
  {
   "cell_type": "markdown",
   "metadata": {},
   "source": [
    "## Pacientes"
   ]
  },
  {
   "cell_type": "code",
   "execution_count": 2,
   "metadata": {},
   "outputs": [],
   "source": [
    "columns_aih = ['id_paciente', 'co_cid_principal', 'no_cid_principal', 'co_procedimento_principal',\n",
    "               'co_cid_secundario', 'no_cid_secundario', 'procedimento_principal', 'desc_procedimento_secundario']\n",
    "\n",
    "columns_apac = ['id_paciente', 'co_cid_principal', 'no_cid_principal', 'co_cid_secundario',\n",
    "              'co_procedimento_principal', 'no_procedimento_principal', 'co_procedimento_secundario', 'no_procedimento_secundario']\n",
    "\n",
    "columns_bpai = ['id_paciente', 'co_cid_principal', 'no_cid_principal', 'co_procedimento_realizado', 'no_procedimento_realizado', ]"
   ]
  },
  {
   "cell_type": "code",
   "execution_count": 3,
   "metadata": {},
   "outputs": [],
   "source": [
    "import pandas as pd\n",
    "path = 'data/'\n",
    "pac_apac = pd.read_parquet(path+'APAC_Lupus_L93M32N08_todos_cids.parquet', columns=columns_apac)\n",
    "pac_aih = pd.read_parquet(path+'AIH_Lupus_L93M32N08_todos_cids.parquet', columns=columns_aih)\n",
    "pac_bpai = pd.read_parquet(path+'BPAI_Lupus_L93M32N08_todos_cids.parquet', columns=columns_bpai)"
   ]
  },
  {
   "cell_type": "code",
   "execution_count": 4,
   "metadata": {},
   "outputs": [
    {
     "name": "stdout",
     "output_type": "stream",
     "text": [
      " - APAC: Registros: 7194178 Pacientes únicos: 31948\n",
      " - AIH: Registros: 3968946 Pacientes únicos: 48663\n",
      " - BPAI: Registros: 857369 Pacientes únicos: 46967\n",
      " - Total: Registros: 12020493 Pacientes únicos: 127578\n"
     ]
    }
   ],
   "source": [
    "print(f' - APAC: Registros: {pac_apac.shape[0]} Pacientes únicos: {pac_apac['id_paciente'].nunique()}')\n",
    "print(f' - AIH: Registros: {pac_aih.shape[0]} Pacientes únicos: {pac_aih['id_paciente'].nunique()}')\n",
    "print(f' - BPAI: Registros: {pac_bpai.shape[0]} Pacientes únicos: {pac_bpai['id_paciente'].nunique()}')\n",
    "print(f' - Total: Registros: {pac_bpai.shape[0]+pac_aih.shape[0]+pac_apac.shape[0]} Pacientes únicos: {pac_bpai['id_paciente'].nunique()+pac_aih['id_paciente'].nunique()+pac_apac['id_paciente'].nunique()}')\n"
   ]
  },
  {
   "cell_type": "code",
   "execution_count": 5,
   "metadata": {},
   "outputs": [
    {
     "name": "stdout",
     "output_type": "stream",
     "text": [
      " - Interseção do aih com apac: 28856\n",
      " - Interseção do aih com bpai: 25601\n",
      " - Interseção do bpai com apac: 19485\n",
      " - Interseção dos 3 conjuntos: 18238\n"
     ]
    }
   ],
   "source": [
    "set_bpai = set(pac_bpai['id_paciente'])\n",
    "set_apac = set(pac_apac['id_paciente'])\n",
    "set_aih = set(pac_aih['id_paciente'])\n",
    "\n",
    "print(' - Interseção do aih com apac:', len(set_aih.intersection(set_apac)))\n",
    "print(' - Interseção do aih com bpai:', len(set_bpai.intersection(set_aih)))\n",
    "print(' - Interseção do bpai com apac:', len(set_apac.intersection(set_bpai)))\n",
    "print(' - Interseção dos 3 conjuntos:', len(set_apac.intersection(set_bpai).intersection(set_aih)))"
   ]
  },
  {
   "cell_type": "markdown",
   "metadata": {},
   "source": [
    "## Filtrando CIDs"
   ]
  },
  {
   "cell_type": "code",
   "execution_count": 6,
   "metadata": {},
   "outputs": [
    {
     "name": "stderr",
     "output_type": "stream",
     "text": [
      "100%|██████████| 3/3 [00:07<00:00,  2.52s/it]\n"
     ]
    }
   ],
   "source": [
    "def verifica_cid(row):\n",
    "    for cod in ['M32', 'L93', 'N08']:\n",
    "        if (cod in row):\n",
    "            return True    \n",
    "    return False\n",
    "\n",
    "for df in tqdm([pac_aih, pac_bpai, pac_apac]):\n",
    "    df['filtro_cid_principal'] = df['co_cid_principal'].apply(verifica_cid)\n",
    "    if 'co_cid_secundario' in df.columns:\n",
    "        df['filtro_cid_secundario'] = df['co_cid_secundario'].apply(verifica_cid)"
   ]
  },
  {
   "cell_type": "code",
   "execution_count": 7,
   "metadata": {},
   "outputs": [
    {
     "name": "stdout",
     "output_type": "stream",
     "text": [
      " - AIH\n",
      "filtro_cid_principal\n",
      "False    0.774591\n",
      "True     0.225409\n",
      "Name: proportion, dtype: float64\n",
      "\n",
      "filtro_cid_secundario\n",
      "False    0.948285\n",
      "True     0.051715\n",
      "Name: proportion, dtype: float64\n",
      "\n",
      " - APAC\n",
      "filtro_cid_principal\n",
      "False    0.984727\n",
      "True     0.015273\n",
      "Name: proportion, dtype: float64\n",
      "\n",
      "filtro_cid_secundario\n",
      "False    0.802416\n",
      "True     0.197584\n",
      "Name: proportion, dtype: float64\n",
      "\n",
      " - BPAI\n",
      "filtro_cid_principal\n",
      "False    0.922196\n",
      "True     0.077804\n",
      "Name: proportion, dtype: float64\n"
     ]
    }
   ],
   "source": [
    "print(' - AIH')\n",
    "print(pac_aih['filtro_cid_principal'].value_counts(normalize=True))\n",
    "print()\n",
    "print(pac_aih['filtro_cid_secundario'].value_counts(normalize=True))\n",
    "\n",
    "print()\n",
    "print(' - APAC')\n",
    "print(pac_apac['filtro_cid_principal'].value_counts(normalize=True))\n",
    "print()\n",
    "print(pac_apac['filtro_cid_secundario'].value_counts(normalize=True))\n",
    "print()\n",
    "print(' - BPAI')\n",
    "print(pac_bpai['filtro_cid_principal'].value_counts(normalize=True))"
   ]
  },
  {
   "cell_type": "markdown",
   "metadata": {},
   "source": [
    "## Classificando os Pacientes"
   ]
  },
  {
   "cell_type": "code",
   "execution_count": 8,
   "metadata": {},
   "outputs": [],
   "source": [
    "import importlib\n",
    "from  src import procedimentos\n",
    "importlib.reload(procedimentos)\n",
    "\n",
    "def verifica_procedimentos(df_pacientes, col_procedimento):\n",
    "    df_pacientes = df_pacientes.copy()\n",
    "    pacientes_list = list(df_pacientes.id_paciente.unique())\n",
    "    dict_pacientes = {}\n",
    "    proc_dict = {'p1':procedimentos.p1, 'p2':procedimentos.p2, 'p3':procedimentos.p3, 'p4':procedimentos.p4}\n",
    "    \n",
    "    for proc_name in proc_dict.keys():\n",
    "        dict_pacientes[proc_name] = set()\n",
    "\n",
    "    for id_paciente in tqdm(pacientes_list, desc=f'Classificando Pacientes'):\n",
    "        id_paciente = int(id_paciente)\n",
    "        df_paciente = df_pacientes[df_pacientes.id_paciente==id_paciente].copy() # Pega apenas os procedimentos no paciente em questão        \n",
    "\n",
    "        # Se o paciente passou no filtro dos cids, agora aplica o filtro dos procedimentos\n",
    "        for proc, proc_func in proc_dict.items():\n",
    "            if proc_func(df_paciente, col_procedimento): # Aplica todos os procedimentos em cada cliente\n",
    "                dict_pacientes[proc].add(id_paciente) # Salva o id do paciente no conjunto do procedimento em que ele passou\n",
    "\n",
    "    for proced in ['p1', 'p2', 'p3', 'p4']: # Adiciona uma coluna como True para cada procedimento em que o paciente foi aprovado\n",
    "        df_pacientes[f'procedimento_{proced}'] = df_pacientes['id_paciente'].isin(dict_pacientes[proced])\n",
    "    \n",
    "    return df_pacientes"
   ]
  },
  {
   "cell_type": "code",
   "execution_count": 9,
   "metadata": {},
   "outputs": [
    {
     "name": "stderr",
     "output_type": "stream",
     "text": [
      "Classificando Pacientes: 100%|██████████| 31948/31948 [07:19<00:00, 72.75it/s]\n",
      "Classificando Pacientes: 100%|██████████| 48663/48663 [05:13<00:00, 155.44it/s]\n",
      "Classificando Pacientes: 100%|██████████| 46967/46967 [01:32<00:00, 508.31it/s]\n"
     ]
    }
   ],
   "source": [
    "df_aih = verifica_procedimentos(pac_aih, col_procedimento='desc_procedimento_secundario')\n",
    "df_bpai = verifica_procedimentos(pac_bpai, col_procedimento='no_procedimento_realizado')\n",
    "df_apac = verifica_procedimentos(pac_apac, col_procedimento='no_procedimento_principal')"
   ]
  },
  {
   "cell_type": "markdown",
   "metadata": {},
   "source": [
    "### Aplicando Filtros\n",
    "Os filtros são aplicados antes dos algoritmos para diminuir o tamanho do conjunto"
   ]
  },
  {
   "cell_type": "code",
   "execution_count": 10,
   "metadata": {},
   "outputs": [
    {
     "name": "stderr",
     "output_type": "stream",
     "text": [
      "C:\\Users\\thiag\\AppData\\Local\\Temp\\ipykernel_7956\\918640848.py:7: FutureWarning: Downcasting object dtype arrays on .fillna, .ffill, .bfill is deprecated and will change in a future version. Call result.infer_objects(copy=False) instead. To opt-in to the future behavior, set `pd.set_option('future.no_silent_downcasting', True)`\n",
      "  df_union.fillna(False, inplace=True)\n"
     ]
    },
    {
     "name": "stdout",
     "output_type": "stream",
     "text": [
      "Número de registros\n",
      " - AIH: 3968946\n",
      " - BPAI: 857369\n",
      " - APAC: 7194178\n",
      "\n",
      "Número de Pacientes Únicos:\n",
      " - AIH: 48663\n",
      " - BPAI: 46967\n",
      " - APAC: 31948\n"
     ]
    }
   ],
   "source": [
    "# Juntando as bases (BPAI, APAC e AIH)\n",
    "cols_union = ['id_paciente', 'procedimento_p1', 'procedimento_p2',\n",
    "              'procedimento_p3', 'procedimento_p4', 'filtro_cid_principal']\n",
    "df_union = pd.concat([df_bpai[cols_union],\n",
    "                      df_apac[cols_union+['filtro_cid_secundario']],\n",
    "                      df_aih[cols_union+['filtro_cid_secundario']]])\n",
    "df_union.fillna(False, inplace=True)\n",
    "\n",
    "print('Número de registros')\n",
    "print(f' - AIH: {df_aih.shape[0]}')\n",
    "print(f' - BPAI: {df_bpai.shape[0]}')\n",
    "print(f' - APAC: {df_apac.shape[0]}')\n",
    "print()\n",
    "print('Número de Pacientes Únicos:')\n",
    "print(f' - AIH: {df_aih['id_paciente'].nunique()}')\n",
    "print(f' - BPAI: {df_bpai['id_paciente'].nunique()}')\n",
    "print(f' - APAC: {df_apac['id_paciente'].nunique()}')"
   ]
  },
  {
   "cell_type": "code",
   "execution_count": 11,
   "metadata": {},
   "outputs": [
    {
     "name": "stdout",
     "output_type": "stream",
     "text": [
      " - Tamanho da união dos conjuntos: (12020493, 7)\n"
     ]
    }
   ],
   "source": [
    "print(' - Tamanho da união dos conjuntos:', df_union.shape)"
   ]
  },
  {
   "cell_type": "code",
   "execution_count": 12,
   "metadata": {},
   "outputs": [
    {
     "name": "stdout",
     "output_type": "stream",
     "text": [
      "Número de Registros:\n",
      " - Aplicando o filtro do cid\n",
      " - Redução de 12020493 para 2657726 = 77.89%\n",
      "\n",
      "Número de Pacientes Únicos:\n",
      " - Antes do filtro: 71874\n",
      " - Após o filtro: 69772\n",
      " - Redução de 2.92%\n",
      " - Ou seja, 97.08% aprovados no filtro do cid\n"
     ]
    }
   ],
   "source": [
    "df_cid = df_union[df_union['filtro_cid_principal'] | df_union['filtro_cid_secundario']].copy()\n",
    "print('Número de Registros:')\n",
    "print(' - Aplicando o filtro do cid')\n",
    "print(f' - Redução de {df_union.shape[0]} para {df_cid.shape[0]} = {round((df_union.shape[0]-df_cid.shape[0])*100/df_union.shape[0],2)}%')\n",
    "\n",
    "print()\n",
    "num_pac_union = df_union['id_paciente'].nunique()\n",
    "num_pac_cid = df_cid['id_paciente'].nunique()\n",
    "print('Número de Pacientes Únicos:')\n",
    "print(f' - Antes do filtro: {num_pac_union}')\n",
    "print(f' - Após o filtro: {num_pac_cid}')\n",
    "red_pac = (num_pac_union-num_pac_cid)/num_pac_union\n",
    "print(f' - Redução de {round(red_pac*100,2)}%')\n",
    "print(f' - Ou seja, {round(num_pac_cid*100/num_pac_union,2)}% aprovados no filtro do cid')"
   ]
  },
  {
   "cell_type": "code",
   "execution_count": 13,
   "metadata": {},
   "outputs": [],
   "source": [
    "# Agora aplicando os filtros de procedimento\n",
    "cols_proced = ['procedimento_p1', 'procedimento_p2', 'procedimento_p3', 'procedimento_p4']\n",
    "df_cid_pac = df_cid[df_cid['procedimento_p1'] | df_cid['procedimento_p2'] | df_cid['procedimento_p3'] | df_cid['procedimento_p4']].groupby('id_paciente')[cols_proced].sum()\n",
    "\n",
    "df_cid_filtro_proced = df_cid_pac.map(lambda row: 1 if row > 0 else 0)\n",
    "df_final = df_cid_filtro_proced.sum(axis=1).sort_values()"
   ]
  },
  {
   "cell_type": "markdown",
   "metadata": {},
   "source": [
    "### Algoritmo 1\n",
    "CID + 2 Procedimentos distindos"
   ]
  },
  {
   "cell_type": "code",
   "execution_count": null,
   "metadata": {},
   "outputs": [
    {
     "name": "stdout",
     "output_type": "stream",
     "text": [
      " - Total de pacientes encontrados após o algoritmo 1: 8987\n",
      " - % em relação ao total de pacientes (BPAI+APAC+AIH):       12.5%\n"
     ]
    }
   ],
   "source": [
    "df_alg1 = df_final[df_final > 1].to_frame().reset_index()\n",
    "df_alg1.columns = ['id_paciente', 'num_procedimentos_qualificados']\n",
    "print(' - Total de pacientes encontrados após o algoritmo 1:', df_alg1.shape[0])\n",
    "print(f' - % em relação ao total de pacientes (BPAI+APAC+AIH): \\\n",
    "{round((df_alg1.shape[0]*100)/df_union['id_paciente'].nunique(),2)}%')"
   ]
  },
  {
   "cell_type": "markdown",
   "metadata": {},
   "source": [
    "### Algoritmo 2\n",
    "CID + 1 Procedimento"
   ]
  },
  {
   "cell_type": "code",
   "execution_count": null,
   "metadata": {},
   "outputs": [
    {
     "name": "stdout",
     "output_type": "stream",
     "text": [
      " - Total de pacientes encontrados após o algoritmo 2: 22937\n",
      " - % em relação ao total de pacientes (BPAI+APAC+AIH):       31.91%\n"
     ]
    }
   ],
   "source": [
    "df_alg2 = df_final[df_final > 0].to_frame().reset_index()\n",
    "df_alg2.columns = ['id_paciente', 'num_procedimentos_qualificados']\n",
    "print(' - Total de pacientes encontrados após o algoritmo 2:', df_alg2.shape[0])\n",
    "print(f' - % em relação ao total de pacientes (BPAI+APAC+AIH): \\\n",
    "{round((df_alg2.shape[0]*100)/df_union['id_paciente'].nunique(),2)}%')"
   ]
  },
  {
   "cell_type": "markdown",
   "metadata": {},
   "source": [
    "### Salvando os Resultados"
   ]
  },
  {
   "cell_type": "code",
   "execution_count": 17,
   "metadata": {},
   "outputs": [],
   "source": [
    "df_alg1.to_parquet('data/results/df_alg1.parquet')\n",
    "df_alg2.to_parquet('data/results/df_alg2.parquet')"
   ]
  },
  {
   "cell_type": "code",
   "execution_count": 18,
   "metadata": {},
   "outputs": [],
   "source": [
    "df_bpai_alg1 = df_bpai[df_bpai['id_paciente'].isin(df_alg1['id_paciente'])]\n",
    "df_aih_alg1 = df_aih[df_aih['id_paciente'].isin(df_alg1['id_paciente'])]\n",
    "df_apac_alg1 = df_apac[df_apac['id_paciente'].isin(df_alg1['id_paciente'])]\n",
    "\n",
    "df_bpai_alg1.to_parquet('data/results/df_bpai_alg1.parquet')\n",
    "df_aih_alg1.to_parquet('data/results/df_aih_alg1.parquet')\n",
    "df_apac_alg1.to_parquet('data/results/df_apac_alg1.parquet')"
   ]
  },
  {
   "cell_type": "code",
   "execution_count": 19,
   "metadata": {},
   "outputs": [],
   "source": [
    "df_bpai_alg2 = df_bpai[df_bpai['id_paciente'].isin(df_alg2['id_paciente'])]\n",
    "df_aih_alg2 = df_aih[df_aih['id_paciente'].isin(df_alg2['id_paciente'])]\n",
    "df_apac_alg2 = df_apac[df_apac['id_paciente'].isin(df_alg2['id_paciente'])]\n",
    "\n",
    "df_bpai_alg2.to_parquet('data/results/df_bpai_alg2.parquet')\n",
    "df_aih_alg2.to_parquet('data/results/df_aih_alg2.parquet')\n",
    "df_apac_alg2.to_parquet('data/results/df_apac_alg2.parquet')"
   ]
  },
  {
   "cell_type": "markdown",
   "metadata": {},
   "source": [
    "## Visão Geral dos Resultados"
   ]
  },
  {
   "cell_type": "markdown",
   "metadata": {},
   "source": [
    "### Algoritmo 1"
   ]
  },
  {
   "cell_type": "code",
   "execution_count": 20,
   "metadata": {},
   "outputs": [
    {
     "name": "stdout",
     "output_type": "stream",
     "text": [
      " - Registros dos pacientes aprovados no Algoritmo 1\n",
      "- BPAI: (219311, 10)\n",
      " - AIH: (1426139, 14)\n",
      " - APAC: (621240, 14)\n"
     ]
    }
   ],
   "source": [
    "print(' - Registros dos pacientes aprovados no Algoritmo 1')\n",
    "print('- BPAI:', df_bpai_alg1.shape)\n",
    "print(' - AIH:', df_aih_alg1.shape)\n",
    "print(' - APAC:', df_apac_alg1.shape)"
   ]
  },
  {
   "cell_type": "code",
   "execution_count": 21,
   "metadata": {},
   "outputs": [
    {
     "name": "stdout",
     "output_type": "stream",
     "text": [
      " - Pacientes presentes no bpai: 0.66\n",
      " - Pacientes presentes no aih: 0.95\n",
      " - Pacientes presentes no apac: 0.68\n"
     ]
    }
   ],
   "source": [
    "total = df_alg1['id_paciente'].nunique()\n",
    "print(' - Pacientes presentes no bpai:', round(df_bpai_alg1['id_paciente'].nunique() / total, 2))\n",
    "print(' - Pacientes presentes no aih:', round(df_aih_alg1['id_paciente'].nunique() / total, 2))\n",
    "print(' - Pacientes presentes no apac:', round(df_apac_alg1['id_paciente'].nunique() / total, 2))"
   ]
  },
  {
   "cell_type": "markdown",
   "metadata": {},
   "source": [
    "### Algoritmo 2"
   ]
  },
  {
   "cell_type": "code",
   "execution_count": 22,
   "metadata": {},
   "outputs": [
    {
     "name": "stdout",
     "output_type": "stream",
     "text": [
      " - Registros dos pacientes aprovados no Algoritmo 2\n",
      "- BPAI: (364308, 10)\n",
      " - AIH: (2637829, 14)\n",
      " - APAC: (1565977, 14)\n"
     ]
    }
   ],
   "source": [
    "print(' - Registros dos pacientes aprovados no Algoritmo 2')\n",
    "print('- BPAI:', df_bpai_alg2.shape)\n",
    "print(' - AIH:', df_aih_alg2.shape)\n",
    "print(' - APAC:', df_apac_alg2.shape)"
   ]
  },
  {
   "cell_type": "code",
   "execution_count": 23,
   "metadata": {},
   "outputs": [
    {
     "name": "stdout",
     "output_type": "stream",
     "text": [
      " - Pacientes presentes no bpai: 0.58\n",
      " - Pacientes presentes no aih: 0.97\n",
      " - Pacientes presentes no apac: 0.6\n"
     ]
    }
   ],
   "source": [
    "total = df_alg2['id_paciente'].nunique()\n",
    "print(' - Pacientes presentes no bpai:', round(df_bpai_alg2['id_paciente'].nunique() / total, 2))\n",
    "print(' - Pacientes presentes no aih:', round(df_aih_alg2['id_paciente'].nunique() / total, 2))\n",
    "print(' - Pacientes presentes no apac:', round(df_apac_alg2['id_paciente'].nunique() / total, 2))"
   ]
  }
 ],
 "metadata": {
  "kernelspec": {
   "display_name": "Python 3",
   "language": "python",
   "name": "python3"
  },
  "language_info": {
   "codemirror_mode": {
    "name": "ipython",
    "version": 3
   },
   "file_extension": ".py",
   "mimetype": "text/x-python",
   "name": "python",
   "nbconvert_exporter": "python",
   "pygments_lexer": "ipython3",
   "version": "3.12.8"
  }
 },
 "nbformat": 4,
 "nbformat_minor": 2
}
