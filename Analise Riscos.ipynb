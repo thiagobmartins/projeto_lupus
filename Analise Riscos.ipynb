{
 "cells": [
  {
   "cell_type": "markdown",
   "metadata": {},
   "source": [
    "# Analisando Pacientes e Riscos"
   ]
  },
  {
   "cell_type": "markdown",
   "metadata": {},
   "source": [
    "## imports"
   ]
  },
  {
   "cell_type": "code",
   "execution_count": 1,
   "metadata": {},
   "outputs": [],
   "source": [
    "!pip install ipdb\n",
    "import ipdb\n",
    "import pandas as pd\n",
    "from collections import ChainMap"
   ]
  },
  {
   "cell_type": "markdown",
   "metadata": {},
   "source": [
    "## Leitura das Bases"
   ]
  },
  {
   "cell_type": "markdown",
   "metadata": {},
   "source": [
    "### Procedimentos com Risco"
   ]
  },
  {
   "cell_type": "code",
   "execution_count": 2,
   "metadata": {},
   "outputs": [],
   "source": [
    "df_risk = pd.read_csv('data/procedimentos/dev/procedimentos_encontrados_no_risco_cirurgico.csv')\n",
    "set_risk = set(df_risk['cod_procedimento'])"
   ]
  },
  {
   "cell_type": "markdown",
   "metadata": {},
   "source": [
    "### Com Lúpus"
   ]
  },
  {
   "cell_type": "code",
   "execution_count": 3,
   "metadata": {},
   "outputs": [],
   "source": [
    "num_algoritmo = 1\n",
    "\n",
    "df_lupus = pd.read_parquet(f'data/results/df_alg{num_algoritmo}.parquet')\n",
    "df_lupus_bpai = pd.read_parquet(f'data/results/df_bpai_alg{num_algoritmo}.parquet')\n",
    "df_lupus_aih = pd.read_parquet(f'data/results/df_aih_alg{num_algoritmo}.parquet')\n",
    "df_lupus_apac = pd.read_parquet(f'data/results/df_apac_alg{num_algoritmo}.parquet')"
   ]
  },
  {
   "cell_type": "markdown",
   "metadata": {},
   "source": [
    "### Sem Lúpus"
   ]
  },
  {
   "cell_type": "code",
   "execution_count": 11,
   "metadata": {},
   "outputs": [],
   "source": [
    "df_bpai = pd.read_parquet(f'data/BPAI_Lupus_L93M32N08_todos_cids.parquet')\n",
    "df_aih = pd.read_parquet(f'data/AIH_Lupus_L93M32N08_todos_cids.parquet')\n",
    "df_apac = pd.read_parquet(f'data/APAC_Lupus_L93M32N08_todos_cids.parquet')\n",
    "\n",
    "# Preciso ajustas as datas\n",
    "df_aih['data'] = pd.to_datetime(df_aih['dt_internacao'], format='%d/%m/%Y', errors='coerce')\n",
    "df_apac['data'] = pd.to_datetime(df_apac['data_inicio'], format='%d/%m/%Y', errors='coerce')\n",
    "\n",
    "# Não achei data na bpai\n",
    "# Só para conseguir unificar o bpai\n",
    "df_bpai['data'] = '01/01/2058'\n",
    "df_bpai['data'] = pd.to_datetime(df_bpai['data'], format='%d/%m/%Y', errors='coerce')"
   ]
  },
  {
   "cell_type": "code",
   "execution_count": 6,
   "metadata": {},
   "outputs": [
    {
     "name": "stdout",
     "output_type": "stream",
     "text": [
      " - Pacientes na BPAI: 46967\n",
      " - Pacientes na BPAI com algum risco: 33049 (70.37%)\n",
      " - Pacientes com Lúpus na BPAI: 5934 (12.63)%\n",
      " - Pacientes com Lúpus e algum risco na BPAI: 4940 (83.25% de Lúpus) e (10.52% da BPAI)\n",
      "\n",
      " - Pacientes na AIH: 48663\n",
      " - Pacientes na AIH com algum risco: 6906 (14.19%)\n",
      " - Pacientes com Lúpus na AIH: 8566 (17.6)%\n",
      " - Pacientes com Lúpus e algum risco na AIH: 1323 (15.44% de Lúpus) e (2.72% da AIH)\n",
      "\n",
      " - Pacientes na APAC: 31948\n",
      " - Pacientes na APAC com algum risco: 14418 (45.13%)\n",
      " - Pacientes com Lúpus na APAC: 6122 (19.16)%\n",
      " - Pacientes com Lúpus e algum risco na APAC: 1389 (22.69% de Lúpus) e (4.35% da APAC)\n",
      "\n"
     ]
    }
   ],
   "source": [
    "def get_cols_procedimentos(base_name):\n",
    "      dict_col = {'BPAI':['co_procedimento_realizado'],\n",
    "                  'AIH':['co_procedimento_principal'], # --> AIH nãm tem cod_procedimento_secundario\n",
    "                  'APAC':['co_procedimento_principal', 'co_procedimento_secundario'],\n",
    "                  'UNION':['co_procedimento_realizado', # BPAI\n",
    "                           'co_procedimento_principal', # APAC\n",
    "                           'co_procedimento_secundario', # APAC\n",
    "                           'co_procedimento_aih']} # AIH\n",
    "      return dict_col[base_name]\n",
    "\n",
    "def get_risk(df, cols, set_risk):\n",
    "    \"\"\" Calcula quantos pacientes possuem um procedimento de risco \"\"\"\n",
    "    if len(cols) > 1: # Se tiver mais de uma coluna de procedimentos\n",
    "        cols_risk = []\n",
    "        for idx, col in enumerate(cols): # Itera nas colunas\n",
    "            col_name = f'risk_procedimento_{idx}'\n",
    "            df[col_name] = df[col].isin(set_risk)\n",
    "            cols_risk.append(col_name)\n",
    "\n",
    "        df['risk_filter_col'] = df[cols_risk].sum(axis=1) # Conta quantas colnuas possuem True\n",
    "        \n",
    "        # Filtra as que tiveram pelo menos 1\n",
    "        num_pacientes_risk = df[df['risk_filter_col'] > 0]['id_paciente'].nunique()\n",
    "\n",
    "    else: # Se for só uma coluna, fica mais fácil\n",
    "        num_pacientes_risk = df[df[cols[0]].isin(set_risk)]['id_paciente'].nunique()\n",
    "    return num_pacientes_risk\n",
    "\n",
    "def get_percent(numerador, denominador):\n",
    "    return round(numerador*100/denominador, 2)\n",
    "\n",
    "def analisa_riscos(df, df_lupus, base_name):\n",
    "    cols_procedimento = get_cols_procedimentos(base_name)\n",
    "\n",
    "    num_total_pacientes = df['id_paciente'].nunique()\n",
    "    print(f' - Pacientes na {base_name}:', num_total_pacientes)\n",
    "    \n",
    "    num_pacientes_risk = get_risk(df, cols_procedimento, set_risk)\n",
    "    print(f' - Pacientes na {base_name} com algum risco: '+\n",
    "            f'{num_pacientes_risk} ' +\n",
    "            f'({get_percent(num_pacientes_risk, num_total_pacientes)}%)')\n",
    "\n",
    "    num_pacientes_lupus = df_lupus['id_paciente'].nunique()\n",
    "    print(f' - Pacientes com Lúpus na {base_name}: {num_pacientes_lupus} '+\n",
    "          f'({get_percent(num_pacientes_lupus, num_total_pacientes)})%')\n",
    "\n",
    "    num_lupus_risk = get_risk(df_lupus, cols_procedimento, set_risk)\n",
    "\n",
    "    print(f' - Pacientes com Lúpus e algum risco na {base_name}: {num_lupus_risk} ' +\n",
    "            f'({get_percent(num_lupus_risk, num_pacientes_lupus)}% de Lúpus) e ' +\n",
    "            f'({get_percent(num_lupus_risk, num_total_pacientes)}% da {base_name})')\n",
    "    print()\n",
    "\n",
    "analisa_riscos(df_bpai, df_lupus_bpai, 'BPAI')\n",
    "analisa_riscos(df_aih, df_lupus_aih, 'AIH')\n",
    "analisa_riscos(df_apac, df_lupus_apac, 'APAC')"
   ]
  },
  {
   "cell_type": "markdown",
   "metadata": {},
   "source": [
    "# Base Unificada\n",
    "BPAI + AIH + APAC"
   ]
  },
  {
   "cell_type": "code",
   "execution_count": 8,
   "metadata": {},
   "outputs": [],
   "source": [
    "df_alg = pd.read_parquet(f'data/results/df_alg{num_algoritmo}.parquet')"
   ]
  },
  {
   "cell_type": "code",
   "execution_count": 15,
   "metadata": {},
   "outputs": [],
   "source": [
    "cols_union = ['id_paciente'\n",
    "              #, 'sexo', 'idade', 'data'\n",
    "              ]\n",
    "df_aih.rename(columns={'co_procedimento_principal':'co_procedimento_aih'})\n",
    "df_union = pd.concat([df_bpai[cols_union+get_cols_procedimentos('BPAI')],\n",
    "                      df_apac[cols_union+get_cols_procedimentos('APAC')],\n",
    "                      df_aih.rename(columns={'co_procedimento_principal':'co_procedimento_aih'})\\\n",
    "                      [cols_union+['co_procedimento_aih']]])"
   ]
  },
  {
   "cell_type": "code",
   "execution_count": 13,
   "metadata": {},
   "outputs": [],
   "source": [
    "cols_union = ['id_paciente']\n",
    "df_lupus_aih.rename(columns={'co_procedimento_principal':'co_procedimento_aih'})\n",
    "df_lupus_union = pd.concat([df_lupus_bpai[cols_union+get_cols_procedimentos('BPAI')],\n",
    "                      df_lupus_apac[cols_union+get_cols_procedimentos('APAC')],\n",
    "                      df_lupus_aih.rename(columns={'co_procedimento_principal':'co_procedimento_aih'})\\\n",
    "                      [cols_union+['co_procedimento_aih']]])"
   ]
  },
  {
   "cell_type": "code",
   "execution_count": 12,
   "metadata": {},
   "outputs": [
    {
     "name": "stdout",
     "output_type": "stream",
     "text": [
      " - Pacientes na UNION: 71874\n",
      " - Pacientes na UNION com algum risco: 43032 (59.87%)\n",
      " - Pacientes com Lúpus na UNION: 8987 (12.5)%\n",
      " - Pacientes com Lúpus e algum risco na UNION: 5695 (63.37% de Lúpus) e (7.92% da UNION)\n",
      "\n"
     ]
    }
   ],
   "source": [
    "analisa_riscos(df_union, df_lupus_union, 'UNION')"
   ]
  },
  {
   "cell_type": "markdown",
   "metadata": {},
   "source": [
    "# Analise dos grupos"
   ]
  },
  {
   "cell_type": "code",
   "execution_count": 56,
   "metadata": {},
   "outputs": [],
   "source": [
    "def get_regiao(sigla):\n",
    "    \"\"\"\n",
    "    Retorna a região brasileira dado a sigla do estado.\n",
    "    \n",
    "    Args:\n",
    "        sigla (str): Sigla do estado brasileiro (ex: 'SP', 'RJ', 'AM').\n",
    "    \n",
    "    Returns:\n",
    "        str: Região brasileira (Norte, Nordeste, Sudeste, Sul, Centro-Oeste).\n",
    "    \"\"\"\n",
    "    \n",
    "    regioes = {\n",
    "        # Norte\n",
    "        'AC': 'Norte', 'AM': 'Norte', 'AP': 'Norte', 'PA': 'Norte', 'RO': 'Norte', 'RR': 'Norte', 'TO': 'Norte',\n",
    "        \n",
    "        # Nordeste\n",
    "        'AL': 'Nordeste', 'BA': 'Nordeste', 'CE': 'Nordeste', 'MA': 'Nordeste', 'PB': 'Nordeste', 'PE': 'Nordeste', 'PI': 'Nordeste', 'RN': 'Nordeste', 'SE': 'Nordeste',\n",
    "        \n",
    "        # Sudeste\n",
    "        'ES': 'Sudeste', 'MG': 'Sudeste', 'RJ': 'Sudeste', 'SP': 'Sudeste',\n",
    "        \n",
    "        # Sul\n",
    "        'PR': 'Sul', 'RS': 'Sul', 'SC': 'Sul',\n",
    "        \n",
    "        # Centro-Oeste\n",
    "        'DF': 'Centro-Oeste', 'GO': 'Centro-Oeste', 'MS': 'Centro-Oeste', 'MT': 'Centro-Oeste'\n",
    "    }\n",
    "    \n",
    "    return regioes.get(sigla.upper(), \"Sigla inválida\")\n",
    "\n",
    "def get_categoria_idade(idade: int) -> str:\n",
    "    \"\"\"\n",
    "    Retorna a categoria de idade dado um valor inteiro.\n",
    "\n",
    "    Args:\n",
    "        idade (int): Idade em anos.\n",
    "\n",
    "    Returns:\n",
    "        str: Categoria de idade.\n",
    "    \"\"\"\n",
    "    if idade < 16:\n",
    "        return \"Idade inválida\"\n",
    "    elif idade <= 20:\n",
    "        return \"16-20\"\n",
    "    elif idade <= 25:\n",
    "        return \"21-25\"\n",
    "    elif idade <= 30:\n",
    "        return \"26-30\"\n",
    "    elif idade <= 35:\n",
    "        return \"31-35\"\n",
    "    elif idade <= 40:\n",
    "        return \"36-40\"\n",
    "    elif idade <= 45:\n",
    "        return \"41-45\"\n",
    "    elif idade <= 50:\n",
    "        return \"46-50\"\n",
    "    elif idade <= 55:\n",
    "        return \"51-55\"\n",
    "    else:\n",
    "        return \"55+\"\n",
    "\n",
    "def junta_dfs(bpai, aih, apac):\n",
    "    \"\"\"\n",
    "    Junta os dfs de bpai, aih e apac para fazer\n",
    "    a análise de sexo, idade e região\n",
    "    \"\"\"\n",
    "    aih.rename(columns={'co_paciente_sexo':'sexo'}, inplace=True)\n",
    "    aih.rename(columns={'vl_paciente_idade':'idade'}, inplace=True)\n",
    "    aih.rename(columns={'sg_uf':'uf_paciente'}, inplace=True)\n",
    "    apac.rename(columns={'uf_endereco':'uf_paciente'}, inplace=True)\n",
    "    bpai.rename(columns={'co_procedimento_realizado':'co_procedimento_principal'}, inplace=True)\n",
    "    #aih['data'] = aih['dt_internacao']\n",
    "    #apac['data'] = apac['data_inicio']\n",
    "    #bpai['data'] = '01/01/2028' # Preciso inserir uma data para poder juntar os dfs\n",
    "    #bpai['data'] = pd.to_datetime(bpai['data'], format='%d/%m/%Y', errors='coerce')    \n",
    "\n",
    "    cols = ['id_paciente', 'sexo', 'idade', 'uf_paciente', 'data', 'co_procedimento_principal']\n",
    "    all = pd.concat([bpai[cols], aih[cols], apac[cols]])\n",
    "\n",
    "    all['sexo'] = all['sexo'].replace('F','FEMININO')\n",
    "    all['sexo'] = all['sexo'].replace('M','MASCULINO')\n",
    "\n",
    "    all['regiao'] = all['uf_paciente'].map(get_regiao)\n",
    "    all['idade_categoria'] = all['idade'].map(get_categoria_idade)\n",
    "\n",
    "    return all    "
   ]
  },
  {
   "cell_type": "code",
   "execution_count": 33,
   "metadata": {},
   "outputs": [],
   "source": [
    "set_bpai = list(df_lupus_bpai['id_paciente'].unique())\n",
    "set_aih = list(df_lupus_aih['id_paciente'].unique())\n",
    "set_apac = list(df_lupus_apac['id_paciente'].unique())\n",
    "\n",
    "df_lupus_bpai_full = df_bpai.set_index('id_paciente').loc[set_bpai].reset_index()\n",
    "df_lupus_aih_full = df_aih.set_index('id_paciente').loc[set_aih].reset_index()\n",
    "df_lupus_apac_full = df_apac.set_index('id_paciente').loc[set_apac].reset_index()"
   ]
  },
  {
   "cell_type": "markdown",
   "metadata": {},
   "source": [
    "### Resultado Algoritmo 1"
   ]
  },
  {
   "cell_type": "code",
   "execution_count": 57,
   "metadata": {},
   "outputs": [],
   "source": [
    "df_lupus_1 = junta_dfs(df_lupus_bpai_full, df_lupus_aih_full, df_lupus_apac_full)"
   ]
  },
  {
   "cell_type": "code",
   "execution_count": 21,
   "metadata": {},
   "outputs": [
    {
     "data": {
      "text/plain": [
       "regiao\n",
       "Sudeste         0.534233\n",
       "Sul             0.199536\n",
       "Nordeste        0.180412\n",
       "Centro-Oeste    0.067640\n",
       "Norte           0.018179\n",
       "Name: proportion, dtype: float64"
      ]
     },
     "execution_count": 21,
     "metadata": {},
     "output_type": "execute_result"
    }
   ],
   "source": [
    "df_lupus_1['regiao'].value_counts(normalize=True)"
   ]
  },
  {
   "cell_type": "markdown",
   "metadata": {},
   "source": [
    "### Resultado Algoritmo 2"
   ]
  },
  {
   "cell_type": "code",
   "execution_count": 22,
   "metadata": {},
   "outputs": [],
   "source": [
    "num_algoritmo = 2\n",
    "\n",
    "df_lupus_bpai_2 = pd.read_parquet(f'data/results/df_bpai_alg{num_algoritmo}.parquet')\n",
    "df_lupus_aih_2 = pd.read_parquet(f'data/results/df_aih_alg{num_algoritmo}.parquet')\n",
    "df_lupus_apac_2 = pd.read_parquet(f'data/results/df_apac_alg{num_algoritmo}.parquet')"
   ]
  },
  {
   "cell_type": "code",
   "execution_count": 23,
   "metadata": {},
   "outputs": [],
   "source": [
    "df_lupus_bpai_2_full = df_bpai[df_bpai['id_paciente'].isin(df_lupus_bpai_2['id_paciente'])].copy()\n",
    "df_lupus_aih_2_full = df_aih[df_aih['id_paciente'].isin(df_lupus_aih_2['id_paciente'])].copy()\n",
    "df_lupus_apac_2_full = df_apac[df_apac['id_paciente'].isin(df_lupus_apac_2['id_paciente'])].copy()"
   ]
  },
  {
   "cell_type": "code",
   "execution_count": 24,
   "metadata": {},
   "outputs": [],
   "source": [
    "df_lupus_2 = junta_dfs(df_lupus_bpai_2_full, df_lupus_aih_2_full, df_lupus_apac_2_full)"
   ]
  },
  {
   "cell_type": "code",
   "execution_count": 25,
   "metadata": {},
   "outputs": [
    {
     "data": {
      "text/plain": [
       "(4568114, 6)"
      ]
     },
     "execution_count": 25,
     "metadata": {},
     "output_type": "execute_result"
    }
   ],
   "source": [
    "df_lupus_2.shape"
   ]
  },
  {
   "cell_type": "code",
   "execution_count": 26,
   "metadata": {},
   "outputs": [
    {
     "data": {
      "text/plain": [
       "(118338, 6)"
      ]
     },
     "execution_count": 26,
     "metadata": {},
     "output_type": "execute_result"
    }
   ],
   "source": [
    "df_lupus_2.drop_duplicates(inplace=True)\n",
    "df_lupus_2.shape"
   ]
  },
  {
   "cell_type": "code",
   "execution_count": 88,
   "metadata": {},
   "outputs": [
    {
     "data": {
      "text/plain": [
       "regiao\n",
       "1    8573\n",
       "2     404\n",
       "3      10\n",
       "Name: count, dtype: int64"
      ]
     },
     "execution_count": 88,
     "metadata": {},
     "output_type": "execute_result"
    }
   ],
   "source": [
    "d = df_lupus_1.groupby('id_paciente')['regiao'].nunique().sort_values()\n",
    "d.value_counts()"
   ]
  },
  {
   "cell_type": "code",
   "execution_count": 89,
   "metadata": {},
   "outputs": [
    {
     "data": {
      "text/plain": [
       "sexo\n",
       "1    8570\n",
       "2     417\n",
       "Name: count, dtype: int64"
      ]
     },
     "execution_count": 89,
     "metadata": {},
     "output_type": "execute_result"
    }
   ],
   "source": [
    "d = df_lupus_1.groupby('id_paciente')['sexo'].nunique().sort_values()\n",
    "d.value_counts()"
   ]
  },
  {
   "cell_type": "code",
   "execution_count": 40,
   "metadata": {},
   "outputs": [],
   "source": [
    "#df_lupus_2['id_paciente'].nunique()\n",
    "#df_lupus_2['sexo'].value_counts(normalize=False)\n",
    "#df_lupus_2['idade_categoria'].value_counts(normalize=True)\n",
    "#df_lupus_2['regiao'].value_counts(normalize=True)"
   ]
  },
  {
   "cell_type": "markdown",
   "metadata": {},
   "source": [
    "### Filtro Cirurgia"
   ]
  },
  {
   "cell_type": "code",
   "execution_count": 41,
   "metadata": {},
   "outputs": [],
   "source": [
    "df_cirugia = pd.read_csv('data/procedimentos/dev/procedimentos_cirúrgicos_para_o_baseline.csv')"
   ]
  },
  {
   "cell_type": "code",
   "execution_count": 42,
   "metadata": {},
   "outputs": [
    {
     "name": "stdout",
     "output_type": "stream",
     "text": [
      " - Cirurgias na APAC: 1\n",
      " - Cirurgias no BPAI: 27\n",
      " - Cirurgias no BPAI: 191\n"
     ]
    }
   ],
   "source": [
    "# Ajustando o nome dos procedimentos\n",
    "df_union.rename(columns={'co_procedimento_realizado':'co_procedimento_bpai'}, inplace=True)\n",
    "\n",
    "cirurgias_apac_1 = set(df_union['co_procedimento_principal']).intersection(set(df_cirugia['cod_procedimento']))\n",
    "cirurgias_apac_2 = set(df_union['co_procedimento_secundario']).intersection(set(df_cirugia['cod_procedimento']))\n",
    "print(' - Cirurgias na APAC:', len(cirurgias_apac_1)+len(cirurgias_apac_2))\n",
    "\n",
    "cirurgias_bpai = set(df_union['co_procedimento_bpai']).intersection(set(df_cirugia['cod_procedimento']))\n",
    "print(' - Cirurgias no BPAI:', len(cirurgias_bpai))\n",
    "\n",
    "# Verifica quem fez cirurgia\n",
    "cirurgias_aih = set(df_union['co_procedimento_aih']).intersection(set(df_cirugia['cod_procedimento']))\n",
    "print(' - Cirurgias no BPAI:', len(cirurgias_aih))"
   ]
  },
  {
   "cell_type": "code",
   "execution_count": 45,
   "metadata": {},
   "outputs": [
    {
     "name": "stdout",
     "output_type": "stream",
     "text": [
      " - Pacientes operados na base toda: 9127\n",
      " - Pacientes operados no algoritmo 1: 2061\n"
     ]
    }
   ],
   "source": [
    "# Verificando os procedimentos de cirurgia\n",
    "df_union['cirurgia_aih'] = df_union['co_procedimento_aih'].isin(cirurgias_aih)\n",
    "df_union['cirurgia_bpai'] = df_union['co_procedimento_bpai'].isin(cirurgias_bpai)\n",
    "df_union['cirurgia_apac'] = df_union['co_procedimento_secundario'].isin(cirurgias_apac_2)\n",
    "df_union['cirurgia'] = df_union['cirurgia_aih'] | df_union['cirurgia_bpai'] | df_union['cirurgia_apac']\n",
    "\n",
    "# Pacientes que passaram por algum dos procedimentos\n",
    "# cirúrgicos espefificados (em qualquer uma das bases)\n",
    "aux = df_union.groupby('id_paciente')['cirurgia'].sum()\n",
    "pacientes_operados = set(aux[aux>0].index)\n",
    "\n",
    "print(' - Pacientes operados na base toda:', len(pacientes_operados))\n",
    "print(f' - Pacientes operados no algoritmo {num_algoritmo}:', len(pacientes_operados.intersection(set(df_lupus_1['id_paciente']))))\n",
    "#print(' - Pacientes operados no algoritmo 2:', len(pacientes_operados.intersection(set(df_lupus_2['id_paciente']))))"
   ]
  },
  {
   "cell_type": "markdown",
   "metadata": {},
   "source": [
    "### Analisando os Pacientes com Lúpus e operados"
   ]
  },
  {
   "cell_type": "code",
   "execution_count": 119,
   "metadata": {},
   "outputs": [
    {
     "name": "stdout",
     "output_type": "stream",
     "text": [
      "sexo\n",
      "1    8570\n",
      "2     417\n",
      "Name: count, dtype: int64\n",
      "regiao\n",
      "1    8573\n",
      "2     404\n",
      "3      10\n",
      "Name: count, dtype: int64\n",
      "idade_categoria\n",
      "2    3587\n",
      "1    2701\n",
      "3    2480\n",
      "4     205\n",
      "5      11\n",
      "6       3\n",
      "Name: count, dtype: int64\n"
     ]
    }
   ],
   "source": [
    "# Questão número 1:\n",
    "# Tem pacientes com mais de 1 sexo e mais de 1 região:\n",
    "# Será que tenho que pegar a data e a região da cirugia? :S\n",
    "count_sexo = df_lupus_1.groupby('id_paciente')['sexo'].nunique().sort_values()\n",
    "print(count_sexo.value_counts())\n",
    "\n",
    "count_regiao = df_lupus_1.groupby('id_paciente')['regiao'].nunique().sort_values()\n",
    "print(count_regiao.value_counts())\n",
    "\n",
    "count_idade = df_lupus_1.groupby('id_paciente')['idade_categoria'].nunique().sort_values()\n",
    "print(count_idade.value_counts())"
   ]
  },
  {
   "cell_type": "code",
   "execution_count": null,
   "metadata": {},
   "outputs": [],
   "source": [
    "# Vou ter que pegar a idade e região na época da cirugia!\n",
    "# Quanto ao sexo, talvez o que aparece mais.. mas posso tentar no momento da cirugia também"
   ]
  },
  {
   "cell_type": "markdown",
   "metadata": {},
   "source": [
    "### Tentando pegar os dados no dia da cirurgia\n",
    "Alguns pacientes tem muitas cirurgia"
   ]
  },
  {
   "cell_type": "code",
   "execution_count": 156,
   "metadata": {},
   "outputs": [
    {
     "data": {
      "text/plain": [
       "cirurgia\n",
       "False    11851406\n",
       "True       169087\n",
       "Name: count, dtype: int64"
      ]
     },
     "execution_count": 156,
     "metadata": {},
     "output_type": "execute_result"
    }
   ],
   "source": [
    "df_union['cirurgia'].value_counts()"
   ]
  },
  {
   "cell_type": "code",
   "execution_count": 174,
   "metadata": {},
   "outputs": [
    {
     "data": {
      "text/plain": [
       "id_paciente\n",
       "28711500       2\n",
       "30308400       2\n",
       "37936700       2\n",
       "40733400       2\n",
       "26616228800    2\n",
       "              ..\n",
       "6780516800     6\n",
       "7216964500     6\n",
       "22232453500    6\n",
       "20826787600    6\n",
       "316958700      7\n",
       "Name: co_procedimento_aih, Length: 1758, dtype: int64"
      ]
     },
     "execution_count": 174,
     "metadata": {},
     "output_type": "execute_result"
    }
   ],
   "source": [
    "t = df_union[df_union['cirurgia']].groupby('id_paciente')['co_procedimento_aih'].nunique().sort_values()\n",
    "t[t>1]"
   ]
  },
  {
   "cell_type": "code",
   "execution_count": 225,
   "metadata": {},
   "outputs": [
    {
     "data": {
      "text/html": [
       "<div>\n",
       "<style scoped>\n",
       "    .dataframe tbody tr th:only-of-type {\n",
       "        vertical-align: middle;\n",
       "    }\n",
       "\n",
       "    .dataframe tbody tr th {\n",
       "        vertical-align: top;\n",
       "    }\n",
       "\n",
       "    .dataframe thead th {\n",
       "        text-align: right;\n",
       "    }\n",
       "</style>\n",
       "<table border=\"1\" class=\"dataframe\">\n",
       "  <thead>\n",
       "    <tr style=\"text-align: right;\">\n",
       "      <th></th>\n",
       "      <th>sexo</th>\n",
       "      <th>idade</th>\n",
       "    </tr>\n",
       "  </thead>\n",
       "  <tbody>\n",
       "    <tr>\n",
       "      <th>178053</th>\n",
       "      <td>M</td>\n",
       "      <td>16</td>\n",
       "    </tr>\n",
       "    <tr>\n",
       "      <th>178201</th>\n",
       "      <td>M</td>\n",
       "      <td>16</td>\n",
       "    </tr>\n",
       "    <tr>\n",
       "      <th>187131</th>\n",
       "      <td>M</td>\n",
       "      <td>16</td>\n",
       "    </tr>\n",
       "    <tr>\n",
       "      <th>187429</th>\n",
       "      <td>M</td>\n",
       "      <td>16</td>\n",
       "    </tr>\n",
       "    <tr>\n",
       "      <th>187467</th>\n",
       "      <td>M</td>\n",
       "      <td>16</td>\n",
       "    </tr>\n",
       "    <tr>\n",
       "      <th>187774</th>\n",
       "      <td>M</td>\n",
       "      <td>16</td>\n",
       "    </tr>\n",
       "    <tr>\n",
       "      <th>188494</th>\n",
       "      <td>M</td>\n",
       "      <td>16</td>\n",
       "    </tr>\n",
       "    <tr>\n",
       "      <th>189578</th>\n",
       "      <td>M</td>\n",
       "      <td>16</td>\n",
       "    </tr>\n",
       "    <tr>\n",
       "      <th>193286</th>\n",
       "      <td>M</td>\n",
       "      <td>16</td>\n",
       "    </tr>\n",
       "  </tbody>\n",
       "</table>\n",
       "</div>"
      ],
      "text/plain": [
       "       sexo  idade\n",
       "178053    M     16\n",
       "178201    M     16\n",
       "187131    M     16\n",
       "187429    M     16\n",
       "187467    M     16\n",
       "187774    M     16\n",
       "188494    M     16\n",
       "189578    M     16\n",
       "193286    M     16"
      ]
     },
     "execution_count": 225,
     "metadata": {},
     "output_type": "execute_result"
    }
   ],
   "source": [
    "df_aih.loc[(df_aih['dt_internacao']=='2008-07-21')&(df_aih['id_paciente']==6780516800), ['sexo','idade']]"
   ]
  },
  {
   "cell_type": "code",
   "execution_count": 166,
   "metadata": {},
   "outputs": [],
   "source": [
    "# Os pacientes possuem muitos procedimentos de cirugia pq\n",
    "# o procedimento secundário muda mas o proncedimento principal\n",
    "# continua sendo a cirurgia\n",
    "#df_union[df_union['cirurgia']].groupby('id_paciente')['cirurgia'].count().sort_values() \n",
    "\n",
    "#df_aih.loc[(df_aih['id_paciente']==23432123400)&(df_aih['co_procedimento_principal']==411010034), \\\n",
    "#['procedimento_principal','desc_procedimento_secundario']]\n",
    "\n",
    "# para achar o parto preciso do código 411010034 e do desc_procedimento_secundario == 'PARTO CESARIANO'"
   ]
  },
  {
   "cell_type": "code",
   "execution_count": null,
   "metadata": {},
   "outputs": [],
   "source": [
    "def ajusta_aih(df):\n",
    "    df['sexo'] = df['sexo'].replace('F','FEMININO')\n",
    "    df['sexo'] = df['sexo'].replace('M','MASCULINO')\n",
    "\n",
    "    df['regiao'] = df['uf_paciente'].map(get_regiao)\n",
    "    df['idade_categoria'] = df['idade'].map(get_categoria_idade)\n",
    "    \n",
    "    dict_list = df.head()['id_paciente'].map(pesquisa_paciente)"
   ]
  },
  {
   "cell_type": "code",
   "execution_count": 113,
   "metadata": {},
   "outputs": [
    {
     "data": {
      "text/plain": [
       "(49501, 8)"
      ]
     },
     "execution_count": 113,
     "metadata": {},
     "output_type": "execute_result"
    }
   ],
   "source": [
    "df_lupus_cirurgia = df_lupus_1[df_lupus_1['co_procedimento_principal'].isin(df_cirugia['cod_procedimento'])]\n",
    "df_lupus_cirurgia.shape"
   ]
  },
  {
   "cell_type": "code",
   "execution_count": 158,
   "metadata": {},
   "outputs": [
    {
     "name": "stdout",
     "output_type": "stream",
     "text": [
      " - Paciente não operou\n"
     ]
    }
   ],
   "source": [
    "# Ainda tá tendo muiito nulo procurando os dados só na aih.. preciso olhar nas outras bases\n",
    "# Tenho que olhar só para os que fizera cirurgia\n",
    "df_lupus_cirurgia_idx = df_lupus_cirurgia.set_index('id_paciente')\n",
    "\n",
    "def pesquisa_paciente(id_paciente):\n",
    "    if id_paciente not in df_lupus_cirurgia_idx.index:\n",
    "        print(' - Paciente não operou')\n",
    "        return  {id_paciente:{}}\n",
    "\n",
    "    df_paciente = df_lupus_cirurgia_idx.loc[id_paciente]\n",
    "    if isinstance(df_paciente, pd.DataFrame):\n",
    "        opt = set(df_paciente['co_procedimento_principal'])\n",
    "    else:\n",
    "        #ipdb.set_trace()\n",
    "        df_res = df_paciente.to_frame().T\n",
    "        return df_res[['data', 'sexo', 'idade','uf_paciente']]\n",
    "        #ipdb.set_trace()\n",
    "        #opt = set([df_paciente['co_procedimento_principal']]) # Quando o df vira uma série, a coluna vira int\n",
    "        #return {id_paciente:{'eita':'eita'}}\n",
    "        \n",
    "    id_cirurgias_abs = opt.intersection(set(df_cirugia['cod_procedimento']))\n",
    "    \n",
    "\n",
    "    # Pega o primeiro registro com código de procedimento relacionado às cirugias especificadas\n",
    "    res = df_paciente[df_paciente['co_procedimento_principal'].isin(id_cirurgias_abs)] \\\n",
    "                    [['data', 'sexo', 'idade','uf_paciente']].sort_values('data')\n",
    "    return res\n",
    "\n",
    "def get_info_paciente(id_paciente):\n",
    "    df_paciente = pesquisa_paciente(id_paciente)\n",
    "    #print(df_paciente)\n",
    "    if len(df_paciente) > 0:\n",
    "        return {id_paciente: df_paciente.iloc[0].to_dict()}\n",
    "    else:\n",
    "        print(df_paciente)\n",
    "        return {id_paciente:{}}\n",
    "    \n",
    "r = pesquisa_paciente(303419000)\n",
    "#r2 = get_info_paciente(303419000)"
   ]
  },
  {
   "cell_type": "code",
   "execution_count": 170,
   "metadata": {},
   "outputs": [
    {
     "data": {
      "text/html": [
       "<div>\n",
       "<style scoped>\n",
       "    .dataframe tbody tr th:only-of-type {\n",
       "        vertical-align: middle;\n",
       "    }\n",
       "\n",
       "    .dataframe tbody tr th {\n",
       "        vertical-align: top;\n",
       "    }\n",
       "\n",
       "    .dataframe thead th {\n",
       "        text-align: right;\n",
       "    }\n",
       "</style>\n",
       "<table border=\"1\" class=\"dataframe\">\n",
       "  <thead>\n",
       "    <tr style=\"text-align: right;\">\n",
       "      <th></th>\n",
       "      <th>data</th>\n",
       "      <th>sexo</th>\n",
       "      <th>idade</th>\n",
       "      <th>uf_paciente</th>\n",
       "      <th>regiao</th>\n",
       "      <th>idade_categoria</th>\n",
       "    </tr>\n",
       "  </thead>\n",
       "  <tbody>\n",
       "    <tr>\n",
       "      <th>9560651700</th>\n",
       "      <td>2018-11-06 00:00:00</td>\n",
       "      <td>FEMININO</td>\n",
       "      <td>71</td>\n",
       "      <td>RS</td>\n",
       "      <td>Sul</td>\n",
       "      <td>55+</td>\n",
       "    </tr>\n",
       "    <tr>\n",
       "      <th>24552062300</th>\n",
       "      <td>2018-07-23 00:00:00</td>\n",
       "      <td>FEMININO</td>\n",
       "      <td>63</td>\n",
       "      <td>RS</td>\n",
       "      <td>Sul</td>\n",
       "      <td>55+</td>\n",
       "    </tr>\n",
       "    <tr>\n",
       "      <th>20318851600</th>\n",
       "      <td>2018-06-16 00:00:00</td>\n",
       "      <td>FEMININO</td>\n",
       "      <td>22</td>\n",
       "      <td>SP</td>\n",
       "      <td>Sudeste</td>\n",
       "      <td>21-25</td>\n",
       "    </tr>\n",
       "    <tr>\n",
       "      <th>16366847900</th>\n",
       "      <td>2018-06-19 00:00:00</td>\n",
       "      <td>FEMININO</td>\n",
       "      <td>52</td>\n",
       "      <td>MG</td>\n",
       "      <td>Sudeste</td>\n",
       "      <td>51-55</td>\n",
       "    </tr>\n",
       "    <tr>\n",
       "      <th>5034990300</th>\n",
       "      <td>2018-05-22 00:00:00</td>\n",
       "      <td>FEMININO</td>\n",
       "      <td>18</td>\n",
       "      <td>SP</td>\n",
       "      <td>Sudeste</td>\n",
       "      <td>16-20</td>\n",
       "    </tr>\n",
       "  </tbody>\n",
       "</table>\n",
       "</div>"
      ],
      "text/plain": [
       "                            data      sexo idade uf_paciente   regiao  \\\n",
       "9560651700   2018-11-06 00:00:00  FEMININO    71          RS      Sul   \n",
       "24552062300  2018-07-23 00:00:00  FEMININO    63          RS      Sul   \n",
       "20318851600  2018-06-16 00:00:00  FEMININO    22          SP  Sudeste   \n",
       "16366847900  2018-06-19 00:00:00  FEMININO    52          MG  Sudeste   \n",
       "5034990300   2018-05-22 00:00:00  FEMININO    18          SP  Sudeste   \n",
       "\n",
       "            idade_categoria  \n",
       "9560651700              55+  \n",
       "24552062300             55+  \n",
       "20318851600           21-25  \n",
       "16366847900           51-55  \n",
       "5034990300            16-20  "
      ]
     },
     "execution_count": 170,
     "metadata": {},
     "output_type": "execute_result"
    }
   ],
   "source": [
    "set_lupus_cirurgia = df_lupus_cirurgia['id_paciente'].drop_duplicates()\n",
    "infos_pacientes_lupus_cirurgia = set_lupus_cirurgia.map(get_info_paciente)\n",
    "dict_aux = dict(ChainMap(*list(infos_pacientes_lupus_cirurgia)))\n",
    "df_pacientes_lupus_cirugia = pd.DataFrame.from_dict(dict_aux).T\n",
    "df_pacientes_lupus_cirugia['regiao'] = df_pacientes_lupus_cirugia['uf_paciente'].map(get_regiao)\n",
    "df_pacientes_lupus_cirugia['idade_categoria'] = df_pacientes_lupus_cirugia['idade'].map(get_categoria_idade)\n",
    "df_pacientes_lupus_cirugia.head()"
   ]
  },
  {
   "cell_type": "code",
   "execution_count": 161,
   "metadata": {},
   "outputs": [
    {
     "name": "stdout",
     "output_type": "stream",
     "text": [
      " - Pacientes com lúpus que fizeram curigia abidominal: 2060 de 8987\n"
     ]
    }
   ],
   "source": [
    "print(' - Pacientes com lúpus que fizeram curigia abidominal:',\n",
    "      df_lupus_cirurgia['id_paciente'].nunique(), 'de',\n",
    "      df_lupus_1['id_paciente'].nunique())"
   ]
  },
  {
   "cell_type": "markdown",
   "metadata": {},
   "source": [
    "### Agora sim analisando os pacientes com Lúpus que operaram"
   ]
  },
  {
   "cell_type": "code",
   "execution_count": 168,
   "metadata": {},
   "outputs": [
    {
     "data": {
      "text/plain": [
       "sexo\n",
       "FEMININO     0.929612\n",
       "MASCULINO    0.070388\n",
       "Name: proportion, dtype: float64"
      ]
     },
     "execution_count": 168,
     "metadata": {},
     "output_type": "execute_result"
    }
   ],
   "source": [
    "df_pacientes_lupus_cirugia['sexo'].value_counts(normalize=True)"
   ]
  },
  {
   "cell_type": "code",
   "execution_count": 172,
   "metadata": {},
   "outputs": [
    {
     "data": {
      "text/plain": [
       "regiao\n",
       "Sudeste         0.508252\n",
       "Sul             0.206796\n",
       "Nordeste        0.197573\n",
       "Centro-Oeste    0.063592\n",
       "Norte           0.023786\n",
       "Name: proportion, dtype: float64"
      ]
     },
     "execution_count": 172,
     "metadata": {},
     "output_type": "execute_result"
    }
   ],
   "source": [
    "df_pacientes_lupus_cirugia['regiao'].value_counts(normalize=True)"
   ]
  },
  {
   "cell_type": "code",
   "execution_count": 171,
   "metadata": {},
   "outputs": [
    {
     "data": {
      "text/plain": [
       "idade_categoria\n",
       "21-25             0.196117\n",
       "26-30             0.168447\n",
       "16-20             0.148544\n",
       "31-35             0.142233\n",
       "36-40             0.086408\n",
       "Idade inválida    0.069417\n",
       "41-45             0.062621\n",
       "46-50             0.050485\n",
       "55+               0.045631\n",
       "51-55             0.030097\n",
       "Name: proportion, dtype: float64"
      ]
     },
     "execution_count": 171,
     "metadata": {},
     "output_type": "execute_result"
    }
   ],
   "source": [
    "df_pacientes_lupus_cirugia['idade_categoria'].value_counts(normalize=True)"
   ]
  }
 ],
 "metadata": {
  "kernelspec": {
   "display_name": "Python 3",
   "language": "python",
   "name": "python3"
  },
  "language_info": {
   "codemirror_mode": {
    "name": "ipython",
    "version": 3
   },
   "file_extension": ".py",
   "mimetype": "text/x-python",
   "name": "python",
   "nbconvert_exporter": "python",
   "pygments_lexer": "ipython3",
   "version": "3.12.8"
  }
 },
 "nbformat": 4,
 "nbformat_minor": 2
}
