{
 "cells": [
  {
   "cell_type": "markdown",
   "metadata": {},
   "source": [
    "# Analisando Pacientes e Riscos"
   ]
  },
  {
   "cell_type": "markdown",
   "metadata": {},
   "source": [
    "## imports"
   ]
  },
  {
   "cell_type": "code",
   "execution_count": 1,
   "metadata": {},
   "outputs": [],
   "source": [
    "import pandas as pd"
   ]
  },
  {
   "cell_type": "markdown",
   "metadata": {},
   "source": [
    "## Leitura das Bases"
   ]
  },
  {
   "cell_type": "markdown",
   "metadata": {},
   "source": [
    "### Procedimentos com Risco"
   ]
  },
  {
   "cell_type": "code",
   "execution_count": 2,
   "metadata": {},
   "outputs": [],
   "source": [
    "df_risk = pd.read_csv('data/procedimentos/dev/procedimentos_encontrados_no_risco_cirurgico.csv')\n",
    "set_risk = set(df_risk['cod_procedimento'])"
   ]
  },
  {
   "cell_type": "markdown",
   "metadata": {},
   "source": [
    "### Com Lúpus"
   ]
  },
  {
   "cell_type": "code",
   "execution_count": 5,
   "metadata": {},
   "outputs": [],
   "source": [
    "num_algoritmo = 1\n",
    "\n",
    "df_lupus = pd.read_parquet(f'data/results/df_alg{num_algoritmo}.parquet')\n",
    "df_lupus_bpai = pd.read_parquet(f'data/results/df_bpai_alg{num_algoritmo}.parquet')\n",
    "df_lupus_aih = pd.read_parquet(f'data/results/df_aih_alg{num_algoritmo}.parquet')\n",
    "df_lupus_apac = pd.read_parquet(f'data/results/df_apac_alg{num_algoritmo}.parquet')"
   ]
  },
  {
   "cell_type": "markdown",
   "metadata": {},
   "source": [
    "### Sem Lúpus"
   ]
  },
  {
   "cell_type": "code",
   "execution_count": 29,
   "metadata": {},
   "outputs": [],
   "source": [
    "df_bpai = pd.read_parquet(f'data/BPAI_Lupus_L93M32N08_todos_cids.parquet')\n",
    "df_aih = pd.read_parquet(f'data/AIH_Lupus_L93M32N08_todos_cids.parquet')\n",
    "df_apac = pd.read_parquet(f'data/APAC_Lupus_L93M32N08_todos_cids.parquet')"
   ]
  },
  {
   "cell_type": "code",
   "execution_count": null,
   "metadata": {},
   "outputs": [
    {
     "name": "stdout",
     "output_type": "stream",
     "text": [
      " - Pacientes na BPAI: 46967\n",
      " - Pacientes na BPAI com algum risco: 33049 (70.37%)\n",
      " - Pacientes com Lúpus na BPAI: 5934 (12.63)%\n",
      " - Pacientes com Lúpus e algum risco na BPAI: 4940 (83.25% de Lúpus) e (10.52% da BPAI)\n",
      "\n",
      " - Pacientes na AIH: 48663\n",
      " - Pacientes na AIH com algum risco: 6906 (14.19%)\n",
      " - Pacientes com Lúpus na AIH: 8566 (17.6)%\n",
      " - Pacientes com Lúpus e algum risco na AIH: 1323 (15.44% de Lúpus) e (2.72% da AIH)\n",
      "\n",
      " - Pacientes na APAC: 31948\n",
      " - Pacientes na APAC com algum risco: 14418 (45.13%)\n",
      " - Pacientes com Lúpus na APAC: 6122 (19.16)%\n",
      " - Pacientes com Lúpus e algum risco na APAC: 1389 (22.69% de Lúpus) e (4.35% da APAC)\n",
      "\n"
     ]
    }
   ],
   "source": [
    "def get_cols_procedimentos(base_name):\n",
    "      dict_col = {'BPAI':['co_procedimento_realizado'],\n",
    "                  'AIH':['co_procedimento_principal'], # --> AIH nãm tem cod_procedimento_secundario\n",
    "                  'APAC':['co_procedimento_principal', 'co_procedimento_secundario'],\n",
    "                  'UNION':['co_procedimento_realizado', # BPAI\n",
    "                           'co_procedimento_principal', # APAC\n",
    "                           'co_procedimento_secundario', # APAC\n",
    "                           'co_procedimento_aih']} # AIH\n",
    "      return dict_col[base_name]\n",
    "\n",
    "def get_risk(df, cols, set_risk):\n",
    "    \"\"\" Calcula quantos pacientes possuem um procedimento de risco \"\"\"\n",
    "    if len(cols) > 1: # Se tiver mais de uma coluna de procedimentos\n",
    "        cols_risk = []\n",
    "        for idx, col in enumerate(cols): # Itera nas colunas\n",
    "            col_name = f'risk_procedimento_{idx}'\n",
    "            df[col_name] = df[col].isin(set_risk)\n",
    "            cols_risk.append(col_name)\n",
    "\n",
    "        df['risk_filter_col'] = df[cols_risk].sum(axis=1) # Conta quantas colnuas possuem True\n",
    "        \n",
    "        # Filtra as que tiveram pelo menos 1\n",
    "        num_pacientes_risk = df[df['risk_filter_col'] > 0]['id_paciente'].nunique()\n",
    "\n",
    "    else: # Se for só uma coluna, fica mais fácil\n",
    "        num_pacientes_risk = df[df[cols[0]].isin(set_risk)]['id_paciente'].nunique()\n",
    "    return num_pacientes_risk\n",
    "\n",
    "def get_percent(numerador, denominador):\n",
    "    return round(numerador*100/denominador, 2)\n",
    "\n",
    "def analisa_riscos(df, df_lupus, base_name):\n",
    "    cols_procedimento = get_cols_procedimentos(base_name)\n",
    "\n",
    "    num_total_pacientes = df['id_paciente'].nunique()\n",
    "    print(f' - Pacientes na {base_name}:', num_total_pacientes)\n",
    "    \n",
    "    num_pacientes_risk = get_risk(df, cols_procedimento, set_risk)\n",
    "    print(f' - Pacientes na {base_name} com algum risco: '+\n",
    "            f'{num_pacientes_risk} ' +\n",
    "            f'({get_percent(num_pacientes_risk, num_total_pacientes)}%)')\n",
    "\n",
    "    num_pacientes_lupus = df_lupus['id_paciente'].nunique()\n",
    "    print(f' - Pacientes com Lúpus na {base_name}: {num_pacientes_lupus} '+\n",
    "          f'({get_percent(num_pacientes_lupus, num_total_pacientes)})%')\n",
    "\n",
    "    num_lupus_risk = get_risk(df_lupus, cols_procedimento, set_risk)\n",
    "\n",
    "    print(f' - Pacientes com Lúpus e algum risco na {base_name}: {num_lupus_risk} ' +\n",
    "            f'({get_percent(num_lupus_risk, num_pacientes_lupus)}% de Lúpus) e ' +\n",
    "            f'({get_percent(num_lupus_risk, num_total_pacientes)}% da {base_name})')\n",
    "    print()\n",
    "\n",
    "analisa_riscos(df_bpai, df_lupus_bpai, 'BPAI')\n",
    "analisa_riscos(df_aih, df_lupus_aih, 'AIH')\n",
    "analisa_riscos(df_apac, df_lupus_apac, 'APAC')"
   ]
  },
  {
   "cell_type": "markdown",
   "metadata": {},
   "source": [
    "# Base Unificada\n",
    "BPAI + AIH + APAC"
   ]
  },
  {
   "cell_type": "code",
   "execution_count": 50,
   "metadata": {},
   "outputs": [],
   "source": [
    "df_alg = pd.read_parquet(f'data/results/df_alg{num_algoritmo}.parquet')"
   ]
  },
  {
   "cell_type": "code",
   "execution_count": 61,
   "metadata": {},
   "outputs": [],
   "source": [
    "cols_union = ['id_paciente']\n",
    "df_aih.rename(columns={'co_procedimento_principal':'co_procedimento_aih'})\n",
    "df_union = pd.concat([df_bpai[cols_union+get_cols_procedimentos('BPAI')],\n",
    "                      df_apac[cols_union+get_cols_procedimentos('APAC')],\n",
    "                      df_aih.rename(columns={'co_procedimento_principal':'co_procedimento_aih'})\\\n",
    "                      [cols_union+['co_procedimento_aih']]])"
   ]
  },
  {
   "cell_type": "code",
   "execution_count": 69,
   "metadata": {},
   "outputs": [],
   "source": [
    "cols_union = ['id_paciente']\n",
    "df_lupus_aih.rename(columns={'co_procedimento_principal':'co_procedimento_aih'})\n",
    "df_lupus_union = pd.concat([df_lupus_bpai[cols_union+get_cols_procedimentos('BPAI')],\n",
    "                      df_lupus_apac[cols_union+get_cols_procedimentos('APAC')],\n",
    "                      df_lupus_aih.rename(columns={'co_procedimento_principal':'co_procedimento_aih'})\\\n",
    "                      [cols_union+['co_procedimento_aih']]])"
   ]
  },
  {
   "cell_type": "code",
   "execution_count": 70,
   "metadata": {},
   "outputs": [
    {
     "name": "stdout",
     "output_type": "stream",
     "text": [
      " - Pacientes na UNION: 71874\n",
      " - Pacientes na UNION com algum risco: 43032 (59.87%)\n",
      " - Pacientes com Lúpus na UNION: 8987 (12.5)%\n",
      " - Pacientes com Lúpus e algum risco na UNION: 5695 (63.37% de Lúpus) e (7.92% da UNION)\n",
      "\n"
     ]
    }
   ],
   "source": [
    "analisa_riscos(df_union, df_lupus_union, 'UNION')"
   ]
  }
 ],
 "metadata": {
  "kernelspec": {
   "display_name": "Python 3",
   "language": "python",
   "name": "python3"
  },
  "language_info": {
   "codemirror_mode": {
    "name": "ipython",
    "version": 3
   },
   "file_extension": ".py",
   "mimetype": "text/x-python",
   "name": "python",
   "nbconvert_exporter": "python",
   "pygments_lexer": "ipython3",
   "version": "3.12.8"
  }
 },
 "nbformat": 4,
 "nbformat_minor": 2
}
